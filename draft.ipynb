{
 "cells": [
  {
   "cell_type": "code",
   "execution_count": null,
   "id": "3c4b89b5-6981-4039-8132-cca75de6aaa8",
   "metadata": {},
   "outputs": [],
   "source": [
    "d_model = 3  # Size of the embeddings (features)\n",
    "nhead = 1  # Number of attention heads\n",
    "num_encoder_layers = 1  # Number of encoder layers\n",
    "\n",
    "# Define Transformer Encoder Layer\n",
    "encoder_layer = nn.TransformerEncoderLayer(d_model=d_model, nhead=nhead, dropout=0, batch_first=True)\n",
    "transformer_encoder = nn.TransformerEncoder(encoder_layer, num_layers=num_encoder_layers)\n",
    "\n",
    "transformer_encoder.eval()\n",
    "\n",
    "\n",
    "# Test with different seq_len and batch_size\n",
    "# input_tensor1 = torch.Tensor([[[7],\n",
    "#                                [5]],\n",
    "                                    \n",
    "#                                     [[9],\n",
    "#                                      [11]]])\n",
    "\n",
    "# input_tensor2 = torch.Tensor([[[7],\n",
    "#                                [5]]])\n",
    "\n",
    "input_tensor1 = torch.Tensor([[[1, 2, 7],\n",
    "                                     [11, 5, 6]],\n",
    "                                    \n",
    "                                    [[7, 8, 9],\n",
    "                                     [10, 11, 12]]])\n",
    "\n",
    "input_tensor2 = torch.Tensor([[[1, 2, 7],\n",
    "                                 [11, 5, 6]]])\n",
    "\n",
    "# input_tensor1 = torch.Tensor([[[0.123]],\n",
    "                                \n",
    "#                               [[0.087]]])\n",
    "\n",
    "# input_tensor2 = torch.Tensor([[[0.123],\n",
    "#                                [0.9]],\n",
    "                              \n",
    "#                               [[0.087],\n",
    "#                                [0.11]]])\n",
    "\n",
    "print(input_tensor1.equal(input_tensor2))\n",
    "\n",
    "output1 = encoder_layer(input_tensor1)\n",
    "output2 = encoder_layer(input_tensor2)\n",
    "\n",
    "print(input_tensor1.shape)\n",
    "print(input_tensor2.shape)\n",
    "print()\n",
    "\n",
    "print(output1)\n",
    "print()\n",
    "print(output2)\n",
    "print()\n",
    "\n",
    "print(output1.shape)\n",
    "print(output2.shape)\n",
    "print(output1.equal(output2))"
   ]
  },
  {
   "cell_type": "code",
   "execution_count": 3,
   "id": "0d3c581e-a937-442e-bf49-502f527a9c9b",
   "metadata": {},
   "outputs": [
    {
     "name": "stdout",
     "output_type": "stream",
     "text": [
      "tensor([[1., 2., 3.],\n",
      "        [4., 5., 6.]])\n",
      "torch.Size([2, 3])\n",
      "tensor([[[1., 2., 3.],\n",
      "         [4., 5., 6.]]])\n",
      "torch.Size([1, 2, 3])\n",
      "tensor([[1., 2., 3.],\n",
      "        [4., 5., 6.]])\n",
      "torch.Size([2, 3])\n"
     ]
    }
   ],
   "source": [
    "import torch\n",
    "import numpy as np\n",
    "x = torch.Tensor([[1,2,3],[4,5,6]])\n",
    "print(x)\n",
    "print(x.shape)\n",
    "\n",
    "x = x.unsqueeze(0)\n",
    "print(x)\n",
    "print(x.shape)\n",
    "\n",
    "x = x.squeeze(0)\n",
    "print(x)\n",
    "print(x.shape)"
   ]
  }
 ],
 "metadata": {
  "kernelspec": {
   "display_name": "g1",
   "language": "python",
   "name": "g1"
  },
  "language_info": {
   "codemirror_mode": {
    "name": "ipython",
    "version": 3
   },
   "file_extension": ".py",
   "mimetype": "text/x-python",
   "name": "python",
   "nbconvert_exporter": "python",
   "pygments_lexer": "ipython3",
   "version": "3.11.5"
  }
 },
 "nbformat": 4,
 "nbformat_minor": 5
}
