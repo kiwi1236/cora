{
  "cells": [
    {
      "cell_type": "code",
      "execution_count": 1,
      "id": "408764d7-ca06-4613-8f8d-0a3e709b3589",
      "metadata": {
        "colab": {
          "base_uri": "https://localhost:8080/"
        },
        "id": "408764d7-ca06-4613-8f8d-0a3e709b3589",
        "outputId": "e3827ccb-c2c8-4f84-a6d8-31f96895bf97"
      },
      "outputs": [
        {
          "output_type": "stream",
          "name": "stdout",
          "text": [
            "3.10.12 (main, Nov 20 2023, 15:14:05) [GCC 11.4.0]\n"
          ]
        }
      ],
      "source": [
        "import sys\n",
        "print(sys.version)"
      ]
    },
    {
      "cell_type": "code",
      "execution_count": 2,
      "id": "56c00215-bb91-4b3b-82d1-10d8bbf9fe7b",
      "metadata": {
        "colab": {
          "base_uri": "https://localhost:8080/"
        },
        "id": "56c00215-bb91-4b3b-82d1-10d8bbf9fe7b",
        "outputId": "9902fd11-be53-40a6-9e66-78e46906965d"
      },
      "outputs": [
        {
          "output_type": "stream",
          "name": "stdout",
          "text": [
            "2.1.0+cu118\n"
          ]
        }
      ],
      "source": [
        "import torch\n",
        "print(torch.__version__)"
      ]
    },
    {
      "cell_type": "code",
      "source": [
        "!pip install torch-scatter -f https://data.pyg.org/whl/torch-{torch.__version__}.html\n",
        "!pip install torch-sparse -f https://data.pyg.org/whl/torch-{torch.__version__}.html\n",
        "!pip install torch-cluster -f https://data.pyg.org/whl/torch-{torch.__version__}.html\n",
        "!pip install git+https://github.com/pyg-team/pytorch_geometric.git\n",
        "!pip install ogb  # for datasets"
      ],
      "metadata": {
        "colab": {
          "base_uri": "https://localhost:8080/"
        },
        "id": "EzBcwQi7BDUm",
        "outputId": "65dd3877-82c8-4b64-9aef-6e6f06a69746"
      },
      "id": "EzBcwQi7BDUm",
      "execution_count": 3,
      "outputs": [
        {
          "output_type": "stream",
          "name": "stdout",
          "text": [
            "Looking in links: https://data.pyg.org/whl/torch-2.1.0+cu118.html\n",
            "Collecting torch-scatter\n",
            "  Downloading https://data.pyg.org/whl/torch-2.1.0%2Bcu118/torch_scatter-2.1.2%2Bpt21cu118-cp310-cp310-linux_x86_64.whl (10.2 MB)\n",
            "\u001b[2K     \u001b[90m━━━━━━━━━━━━━━━━━━━━━━━━━━━━━━━━━━━━━━━━\u001b[0m \u001b[32m10.2/10.2 MB\u001b[0m \u001b[31m103.8 MB/s\u001b[0m eta \u001b[36m0:00:00\u001b[0m\n",
            "\u001b[?25hInstalling collected packages: torch-scatter\n",
            "Successfully installed torch-scatter-2.1.2+pt21cu118\n",
            "Looking in links: https://data.pyg.org/whl/torch-2.1.0+cu118.html\n",
            "Collecting torch-sparse\n",
            "  Downloading https://data.pyg.org/whl/torch-2.1.0%2Bcu118/torch_sparse-0.6.18%2Bpt21cu118-cp310-cp310-linux_x86_64.whl (4.9 MB)\n",
            "\u001b[2K     \u001b[90m━━━━━━━━━━━━━━━━━━━━━━━━━━━━━━━━━━━━━━━━\u001b[0m \u001b[32m4.9/4.9 MB\u001b[0m \u001b[31m49.2 MB/s\u001b[0m eta \u001b[36m0:00:00\u001b[0m\n",
            "\u001b[?25hRequirement already satisfied: scipy in /usr/local/lib/python3.10/dist-packages (from torch-sparse) (1.11.4)\n",
            "Requirement already satisfied: numpy<1.28.0,>=1.21.6 in /usr/local/lib/python3.10/dist-packages (from scipy->torch-sparse) (1.23.5)\n",
            "Installing collected packages: torch-sparse\n",
            "Successfully installed torch-sparse-0.6.18+pt21cu118\n",
            "Looking in links: https://data.pyg.org/whl/torch-2.1.0+cu118.html\n",
            "Collecting torch-cluster\n",
            "  Downloading https://data.pyg.org/whl/torch-2.1.0%2Bcu118/torch_cluster-1.6.3%2Bpt21cu118-cp310-cp310-linux_x86_64.whl (3.3 MB)\n",
            "\u001b[2K     \u001b[90m━━━━━━━━━━━━━━━━━━━━━━━━━━━━━━━━━━━━━━━━\u001b[0m \u001b[32m3.3/3.3 MB\u001b[0m \u001b[31m41.6 MB/s\u001b[0m eta \u001b[36m0:00:00\u001b[0m\n",
            "\u001b[?25hRequirement already satisfied: scipy in /usr/local/lib/python3.10/dist-packages (from torch-cluster) (1.11.4)\n",
            "Requirement already satisfied: numpy<1.28.0,>=1.21.6 in /usr/local/lib/python3.10/dist-packages (from scipy->torch-cluster) (1.23.5)\n",
            "Installing collected packages: torch-cluster\n",
            "Successfully installed torch-cluster-1.6.3+pt21cu118\n",
            "Collecting git+https://github.com/pyg-team/pytorch_geometric.git\n",
            "  Cloning https://github.com/pyg-team/pytorch_geometric.git to /tmp/pip-req-build-trlmu3ig\n",
            "  Running command git clone --filter=blob:none --quiet https://github.com/pyg-team/pytorch_geometric.git /tmp/pip-req-build-trlmu3ig\n",
            "  Resolved https://github.com/pyg-team/pytorch_geometric.git to commit cd188588ac956d42345d16ad9d2d8ac8bc11b4b2\n",
            "  Installing build dependencies ... \u001b[?25l\u001b[?25hdone\n",
            "  Getting requirements to build wheel ... \u001b[?25l\u001b[?25hdone\n",
            "  Preparing metadata (pyproject.toml) ... \u001b[?25l\u001b[?25hdone\n",
            "Requirement already satisfied: tqdm in /usr/local/lib/python3.10/dist-packages (from torch_geometric==2.4.0) (4.66.1)\n",
            "Requirement already satisfied: numpy in /usr/local/lib/python3.10/dist-packages (from torch_geometric==2.4.0) (1.23.5)\n",
            "Requirement already satisfied: scipy in /usr/local/lib/python3.10/dist-packages (from torch_geometric==2.4.0) (1.11.4)\n",
            "Requirement already satisfied: fsspec in /usr/local/lib/python3.10/dist-packages (from torch_geometric==2.4.0) (2023.6.0)\n",
            "Requirement already satisfied: jinja2 in /usr/local/lib/python3.10/dist-packages (from torch_geometric==2.4.0) (3.1.2)\n",
            "Requirement already satisfied: aiohttp in /usr/local/lib/python3.10/dist-packages (from torch_geometric==2.4.0) (3.9.1)\n",
            "Requirement already satisfied: requests in /usr/local/lib/python3.10/dist-packages (from torch_geometric==2.4.0) (2.31.0)\n",
            "Requirement already satisfied: pyparsing in /usr/local/lib/python3.10/dist-packages (from torch_geometric==2.4.0) (3.1.1)\n",
            "Requirement already satisfied: scikit-learn in /usr/local/lib/python3.10/dist-packages (from torch_geometric==2.4.0) (1.2.2)\n",
            "Requirement already satisfied: psutil>=5.8.0 in /usr/local/lib/python3.10/dist-packages (from torch_geometric==2.4.0) (5.9.5)\n",
            "Requirement already satisfied: attrs>=17.3.0 in /usr/local/lib/python3.10/dist-packages (from aiohttp->torch_geometric==2.4.0) (23.1.0)\n",
            "Requirement already satisfied: multidict<7.0,>=4.5 in /usr/local/lib/python3.10/dist-packages (from aiohttp->torch_geometric==2.4.0) (6.0.4)\n",
            "Requirement already satisfied: yarl<2.0,>=1.0 in /usr/local/lib/python3.10/dist-packages (from aiohttp->torch_geometric==2.4.0) (1.9.3)\n",
            "Requirement already satisfied: frozenlist>=1.1.1 in /usr/local/lib/python3.10/dist-packages (from aiohttp->torch_geometric==2.4.0) (1.4.0)\n",
            "Requirement already satisfied: aiosignal>=1.1.2 in /usr/local/lib/python3.10/dist-packages (from aiohttp->torch_geometric==2.4.0) (1.3.1)\n",
            "Requirement already satisfied: async-timeout<5.0,>=4.0 in /usr/local/lib/python3.10/dist-packages (from aiohttp->torch_geometric==2.4.0) (4.0.3)\n",
            "Requirement already satisfied: MarkupSafe>=2.0 in /usr/local/lib/python3.10/dist-packages (from jinja2->torch_geometric==2.4.0) (2.1.3)\n",
            "Requirement already satisfied: charset-normalizer<4,>=2 in /usr/local/lib/python3.10/dist-packages (from requests->torch_geometric==2.4.0) (3.3.2)\n",
            "Requirement already satisfied: idna<4,>=2.5 in /usr/local/lib/python3.10/dist-packages (from requests->torch_geometric==2.4.0) (3.6)\n",
            "Requirement already satisfied: urllib3<3,>=1.21.1 in /usr/local/lib/python3.10/dist-packages (from requests->torch_geometric==2.4.0) (2.0.7)\n",
            "Requirement already satisfied: certifi>=2017.4.17 in /usr/local/lib/python3.10/dist-packages (from requests->torch_geometric==2.4.0) (2023.11.17)\n",
            "Requirement already satisfied: joblib>=1.1.1 in /usr/local/lib/python3.10/dist-packages (from scikit-learn->torch_geometric==2.4.0) (1.3.2)\n",
            "Requirement already satisfied: threadpoolctl>=2.0.0 in /usr/local/lib/python3.10/dist-packages (from scikit-learn->torch_geometric==2.4.0) (3.2.0)\n",
            "Building wheels for collected packages: torch_geometric\n",
            "  Building wheel for torch_geometric (pyproject.toml) ... \u001b[?25l\u001b[?25hdone\n",
            "  Created wheel for torch_geometric: filename=torch_geometric-2.4.0-py3-none-any.whl size=1074793 sha256=5d494c75570e66d96aa922fd229051ba498ddd9eabbdb32d1ec5a29390a2f72d\n",
            "  Stored in directory: /tmp/pip-ephem-wheel-cache-o28mxhvd/wheels/d3/78/eb/9e26525b948d19533f1688fb6c209cec8a0ba793d39b49ae8f\n",
            "Successfully built torch_geometric\n",
            "Installing collected packages: torch_geometric\n",
            "Successfully installed torch_geometric-2.4.0\n",
            "Collecting ogb\n",
            "  Downloading ogb-1.3.6-py3-none-any.whl (78 kB)\n",
            "\u001b[2K     \u001b[90m━━━━━━━━━━━━━━━━━━━━━━━━━━━━━━━━━━━━━━━━\u001b[0m \u001b[32m78.8/78.8 kB\u001b[0m \u001b[31m2.0 MB/s\u001b[0m eta \u001b[36m0:00:00\u001b[0m\n",
            "\u001b[?25hRequirement already satisfied: torch>=1.6.0 in /usr/local/lib/python3.10/dist-packages (from ogb) (2.1.0+cu118)\n",
            "Requirement already satisfied: numpy>=1.16.0 in /usr/local/lib/python3.10/dist-packages (from ogb) (1.23.5)\n",
            "Requirement already satisfied: tqdm>=4.29.0 in /usr/local/lib/python3.10/dist-packages (from ogb) (4.66.1)\n",
            "Requirement already satisfied: scikit-learn>=0.20.0 in /usr/local/lib/python3.10/dist-packages (from ogb) (1.2.2)\n",
            "Requirement already satisfied: pandas>=0.24.0 in /usr/local/lib/python3.10/dist-packages (from ogb) (1.5.3)\n",
            "Requirement already satisfied: six>=1.12.0 in /usr/local/lib/python3.10/dist-packages (from ogb) (1.16.0)\n",
            "Requirement already satisfied: urllib3>=1.24.0 in /usr/local/lib/python3.10/dist-packages (from ogb) (2.0.7)\n",
            "Collecting outdated>=0.2.0 (from ogb)\n",
            "  Downloading outdated-0.2.2-py2.py3-none-any.whl (7.5 kB)\n",
            "Requirement already satisfied: setuptools>=44 in /usr/local/lib/python3.10/dist-packages (from outdated>=0.2.0->ogb) (67.7.2)\n",
            "Collecting littleutils (from outdated>=0.2.0->ogb)\n",
            "  Downloading littleutils-0.2.2.tar.gz (6.6 kB)\n",
            "  Preparing metadata (setup.py) ... \u001b[?25l\u001b[?25hdone\n",
            "Requirement already satisfied: requests in /usr/local/lib/python3.10/dist-packages (from outdated>=0.2.0->ogb) (2.31.0)\n",
            "Requirement already satisfied: python-dateutil>=2.8.1 in /usr/local/lib/python3.10/dist-packages (from pandas>=0.24.0->ogb) (2.8.2)\n",
            "Requirement already satisfied: pytz>=2020.1 in /usr/local/lib/python3.10/dist-packages (from pandas>=0.24.0->ogb) (2023.3.post1)\n",
            "Requirement already satisfied: scipy>=1.3.2 in /usr/local/lib/python3.10/dist-packages (from scikit-learn>=0.20.0->ogb) (1.11.4)\n",
            "Requirement already satisfied: joblib>=1.1.1 in /usr/local/lib/python3.10/dist-packages (from scikit-learn>=0.20.0->ogb) (1.3.2)\n",
            "Requirement already satisfied: threadpoolctl>=2.0.0 in /usr/local/lib/python3.10/dist-packages (from scikit-learn>=0.20.0->ogb) (3.2.0)\n",
            "Requirement already satisfied: filelock in /usr/local/lib/python3.10/dist-packages (from torch>=1.6.0->ogb) (3.13.1)\n",
            "Requirement already satisfied: typing-extensions in /usr/local/lib/python3.10/dist-packages (from torch>=1.6.0->ogb) (4.5.0)\n",
            "Requirement already satisfied: sympy in /usr/local/lib/python3.10/dist-packages (from torch>=1.6.0->ogb) (1.12)\n",
            "Requirement already satisfied: networkx in /usr/local/lib/python3.10/dist-packages (from torch>=1.6.0->ogb) (3.2.1)\n",
            "Requirement already satisfied: jinja2 in /usr/local/lib/python3.10/dist-packages (from torch>=1.6.0->ogb) (3.1.2)\n",
            "Requirement already satisfied: fsspec in /usr/local/lib/python3.10/dist-packages (from torch>=1.6.0->ogb) (2023.6.0)\n",
            "Requirement already satisfied: triton==2.1.0 in /usr/local/lib/python3.10/dist-packages (from torch>=1.6.0->ogb) (2.1.0)\n",
            "Requirement already satisfied: MarkupSafe>=2.0 in /usr/local/lib/python3.10/dist-packages (from jinja2->torch>=1.6.0->ogb) (2.1.3)\n",
            "Requirement already satisfied: charset-normalizer<4,>=2 in /usr/local/lib/python3.10/dist-packages (from requests->outdated>=0.2.0->ogb) (3.3.2)\n",
            "Requirement already satisfied: idna<4,>=2.5 in /usr/local/lib/python3.10/dist-packages (from requests->outdated>=0.2.0->ogb) (3.6)\n",
            "Requirement already satisfied: certifi>=2017.4.17 in /usr/local/lib/python3.10/dist-packages (from requests->outdated>=0.2.0->ogb) (2023.11.17)\n",
            "Requirement already satisfied: mpmath>=0.19 in /usr/local/lib/python3.10/dist-packages (from sympy->torch>=1.6.0->ogb) (1.3.0)\n",
            "Building wheels for collected packages: littleutils\n",
            "  Building wheel for littleutils (setup.py) ... \u001b[?25l\u001b[?25hdone\n",
            "  Created wheel for littleutils: filename=littleutils-0.2.2-py3-none-any.whl size=7026 sha256=0c305a49b07a6e7fae7ef68ca2203b0c9d26e88ce39d820e07f29a2e6da6ea6a\n",
            "  Stored in directory: /root/.cache/pip/wheels/3d/fe/b0/27a9892da57472e538c7452a721a9cf463cc03cf7379889266\n",
            "Successfully built littleutils\n",
            "Installing collected packages: littleutils, outdated, ogb\n",
            "Successfully installed littleutils-0.2.2 ogb-1.3.6 outdated-0.2.2\n"
          ]
        }
      ]
    },
    {
      "cell_type": "code",
      "execution_count": 4,
      "id": "ccfef061-754c-4f2e-b866-bb94e049aea1",
      "metadata": {
        "id": "ccfef061-754c-4f2e-b866-bb94e049aea1"
      },
      "outputs": [],
      "source": [
        "from torch_geometric.data import Data\n",
        "from torch_geometric.datasets import Planetoid\n",
        "from torch_geometric.nn import GATConv\n",
        "import torch.nn.functional as F\n",
        "import torch.nn as nn\n",
        "from tqdm import tqdm\n",
        "import numpy as np"
      ]
    },
    {
      "cell_type": "code",
      "execution_count": 5,
      "id": "6402b5f4-7950-4e52-bb38-5e39a04d4a5c",
      "metadata": {
        "colab": {
          "base_uri": "https://localhost:8080/"
        },
        "id": "6402b5f4-7950-4e52-bb38-5e39a04d4a5c",
        "outputId": "1ca7c6c5-23ca-4868-aaa7-43b5dd51aee0"
      },
      "outputs": [
        {
          "output_type": "stream",
          "name": "stderr",
          "text": [
            "Downloading https://github.com/kimiyoung/planetoid/raw/master/data/ind.cora.x\n",
            "Downloading https://github.com/kimiyoung/planetoid/raw/master/data/ind.cora.tx\n",
            "Downloading https://github.com/kimiyoung/planetoid/raw/master/data/ind.cora.allx\n",
            "Downloading https://github.com/kimiyoung/planetoid/raw/master/data/ind.cora.y\n",
            "Downloading https://github.com/kimiyoung/planetoid/raw/master/data/ind.cora.ty\n",
            "Downloading https://github.com/kimiyoung/planetoid/raw/master/data/ind.cora.ally\n",
            "Downloading https://github.com/kimiyoung/planetoid/raw/master/data/ind.cora.graph\n",
            "Downloading https://github.com/kimiyoung/planetoid/raw/master/data/ind.cora.test.index\n",
            "Processing...\n",
            "Done!\n"
          ]
        }
      ],
      "source": [
        "cora_dataset = Planetoid('/tmp/cora', 'cora')"
      ]
    },
    {
      "cell_type": "code",
      "execution_count": 6,
      "id": "ce8ef461-23b2-4e9e-934e-bf58db9f9c0b",
      "metadata": {
        "id": "ce8ef461-23b2-4e9e-934e-bf58db9f9c0b"
      },
      "outputs": [],
      "source": [
        "cora_data = cora_dataset[0]"
      ]
    },
    {
      "cell_type": "code",
      "execution_count": 7,
      "id": "70452dae-8617-4052-b4eb-a0cddefe1965",
      "metadata": {
        "colab": {
          "base_uri": "https://localhost:8080/"
        },
        "id": "70452dae-8617-4052-b4eb-a0cddefe1965",
        "outputId": "bb9a7ba0-8a88-4ff7-fa31-9764d219eb28"
      },
      "outputs": [
        {
          "output_type": "stream",
          "name": "stdout",
          "text": [
            "cora has 2708 nodes\n",
            "cora has 10556 edges\n"
          ]
        }
      ],
      "source": [
        "# For debug use only\n",
        "num_nodes = cora_data.num_nodes\n",
        "print('cora has {} nodes'.format(num_nodes))\n",
        "\n",
        "num_edges = cora_data.num_edges\n",
        "print('cora has {} edges'.format(num_edges))"
      ]
    },
    {
      "cell_type": "code",
      "execution_count": 8,
      "id": "fb576725-b042-42b3-845d-8fe7d8f5dfb4",
      "metadata": {
        "colab": {
          "base_uri": "https://localhost:8080/"
        },
        "id": "fb576725-b042-42b3-845d-8fe7d8f5dfb4",
        "outputId": "23cfc80e-820f-4871-f5f9-6bf57e85f6d7"
      },
      "outputs": [
        {
          "output_type": "stream",
          "name": "stdout",
          "text": [
            "Data(x=[2708, 1433], edge_index=[2, 10556], y=[2708], train_mask=[2708], val_mask=[2708], test_mask=[2708])\n",
            "cpu\n"
          ]
        }
      ],
      "source": [
        "# For debug use only\n",
        "print(cora_data)\n",
        "print(cora_data.x.device)"
      ]
    },
    {
      "cell_type": "code",
      "execution_count": 9,
      "id": "869254d3-96e1-4b6d-8571-405bf118871b",
      "metadata": {
        "colab": {
          "base_uri": "https://localhost:8080/"
        },
        "id": "869254d3-96e1-4b6d-8571-405bf118871b",
        "outputId": "5a4edaa7-4725-47e5-fe6d-7e06a60f3b7d"
      },
      "outputs": [
        {
          "output_type": "stream",
          "name": "stdout",
          "text": [
            "number of nodes in cora train set, 140\n",
            "number of nodes in cora val set, 500\n",
            "number of nodes in cora test set, 1000\n"
          ]
        }
      ],
      "source": [
        "# For debug use only\n",
        "cora_x_train = cora_data.x[cora_data.train_mask]\n",
        "cora_x_val = cora_data.x[cora_data.val_mask]\n",
        "cora_x_test = cora_data.x[cora_data.test_mask]\n",
        "\n",
        "print(\"number of nodes in cora train set,\", cora_x_train.shape[0])\n",
        "print(\"number of nodes in cora val set,\", cora_x_val.shape[0])\n",
        "print(\"number of nodes in cora test set,\", cora_x_test.shape[0])"
      ]
    },
    {
      "cell_type": "code",
      "execution_count": 10,
      "id": "ea496a38-9639-4257-8bed-ff575ef9fb95",
      "metadata": {
        "colab": {
          "base_uri": "https://localhost:8080/"
        },
        "id": "ea496a38-9639-4257-8bed-ff575ef9fb95",
        "outputId": "c9c80dbf-6f88-4e75-a650-591523935655"
      },
      "outputs": [
        {
          "output_type": "stream",
          "name": "stdout",
          "text": [
            "tensor([3, 4, 4,  ..., 3, 3, 3])\n",
            "torch.Size([2708])\n",
            "{0, 1, 2, 3, 4, 5, 6}\n",
            "[351. 217. 418. 818. 426. 298. 180.]\n"
          ]
        }
      ],
      "source": [
        "# For debug use only\n",
        "print(cora_data.y)\n",
        "print(cora_data.y.shape)\n",
        "s = set()\n",
        "histogram = np.zeros(7)\n",
        "for label in cora_data.y:\n",
        "    s.add(label.item())\n",
        "    histogram[label.item()]+=1\n",
        "print(s)\n",
        "print(histogram)"
      ]
    },
    {
      "cell_type": "code",
      "execution_count": 11,
      "id": "7f19a0de-496c-4467-9890-bbe189b15d8c",
      "metadata": {
        "colab": {
          "base_uri": "https://localhost:8080/"
        },
        "id": "7f19a0de-496c-4467-9890-bbe189b15d8c",
        "outputId": "6616507a-04be-41e1-ddea-0d92f4e6e616"
      },
      "outputs": [
        {
          "output_type": "stream",
          "name": "stdout",
          "text": [
            "torch.Size([2708, 1433])\n",
            "tensor([[0., 0., 0.,  ..., 0., 0., 0.],\n",
            "        [0., 0., 0.,  ..., 0., 0., 0.],\n",
            "        [0., 0., 0.,  ..., 0., 0., 0.],\n",
            "        ...,\n",
            "        [0., 0., 0.,  ..., 0., 0., 0.],\n",
            "        [0., 0., 0.,  ..., 0., 0., 0.],\n",
            "        [0., 0., 0.,  ..., 0., 0., 0.]])\n",
            "1433\n",
            "2708\n",
            "1\n",
            "<class 'torch_geometric.data.data.Data'>\n"
          ]
        }
      ],
      "source": [
        "# For debug use only\n",
        "print(cora_data.x.shape)\n",
        "print(cora_data.x[170:180])\n",
        "print(cora_data.num_features)\n",
        "print(cora_data.num_nodes)\n",
        "print(cora_data.num_node_types)\n",
        "print(type(cora_data))"
      ]
    },
    {
      "cell_type": "code",
      "execution_count": 167,
      "id": "e11b8540-03ea-4238-bf4a-b6a384427d35",
      "metadata": {
        "id": "e11b8540-03ea-4238-bf4a-b6a384427d35"
      },
      "outputs": [],
      "source": [
        "# Define the GAT model\n",
        "class GAT(torch.nn.Module):\n",
        "    # hidden channels will be the embedding dimension for each attention head\n",
        "    # after applying the first GAT layer.\n",
        "    def __init__(self, in_channels, hidden_channels,\n",
        "                 num_heads, dropout_rate, num_classes):\n",
        "        super().__init__()\n",
        "\n",
        "        self.dropout_rate = dropout_rate\n",
        "\n",
        "        self.hidden_channels = hidden_channels\n",
        "        self.num_heads = num_heads\n",
        "        self.num_classes = num_classes\n",
        "\n",
        "        self.conv1 = GATConv(in_channels, hidden_channels, heads=num_heads,\n",
        "                                dropout=dropout_rate)\n",
        "        self.conv2 = GATConv(hidden_channels*num_heads, num_classes,\n",
        "                                dropout=dropout_rate, concat=False)\n",
        "\n",
        "    def forward(self, x, edge_index):\n",
        "        out = F.dropout(x, p=self.dropout_rate, training=self.training)\n",
        "        out = self.conv1(out, edge_index)\n",
        "        assert out.shape[-1] == self.hidden_channels * self.num_heads\n",
        "        out = F.elu(out)\n",
        "\n",
        "        out = F.dropout(out, p=self.dropout_rate, training=self.training)\n",
        "        out = self.conv2(out, edge_index)\n",
        "        assert out.shape[-1] == self.num_classes\n",
        "        return out"
      ]
    },
    {
      "cell_type": "code",
      "execution_count": 13,
      "id": "9002c7df-b429-4325-b334-6f9ae24c705c",
      "metadata": {
        "id": "9002c7df-b429-4325-b334-6f9ae24c705c"
      },
      "outputs": [],
      "source": [
        "def train(model, data, optimizer, loss_fn):\n",
        "    model.train()\n",
        "    optimizer.zero_grad()\n",
        "\n",
        "    pred = model(data.x, data.edge_index)\n",
        "    loss = loss_fn(pred[data.train_mask], data.y[data.train_mask])\n",
        "\n",
        "    loss.backward()\n",
        "    optimizer.step()\n",
        "\n",
        "    return loss"
      ]
    },
    {
      "cell_type": "code",
      "execution_count": 14,
      "id": "8805834a-71ec-4e75-b4c0-e487266434ee",
      "metadata": {
        "id": "8805834a-71ec-4e75-b4c0-e487266434ee"
      },
      "outputs": [],
      "source": [
        "@torch.no_grad()\n",
        "def evaluate(model, data, test_mask, loss_fn):\n",
        "    accuracy_list = [0.0, 0.0]\n",
        "    loss_list = [0.0, 0.0]\n",
        "    model.eval()\n",
        "\n",
        "    logits = model(data.x, data.edge_index)\n",
        "    pred = logits.argmax(dim=-1)\n",
        "\n",
        "    for i, mask in enumerate([data.train_mask, test_mask]):\n",
        "        accuracy_list[i] = pred[mask].eq(data.y[mask]).float().mean().item()\n",
        "        loss_list[i] = loss_fn(logits[mask], data.y[mask]).item()\n",
        "\n",
        "    return accuracy_list, loss_list"
      ]
    },
    {
      "cell_type": "code",
      "execution_count": 98,
      "id": "d37aedf9-6e12-40b1-b050-24c4c5d09e68",
      "metadata": {
        "id": "d37aedf9-6e12-40b1-b050-24c4c5d09e68"
      },
      "outputs": [],
      "source": [
        "def summarize(model, detailed=False):\n",
        "    num_params = 0\n",
        "    print(f\"Model Summary: {type(model).__name__}\\n\")\n",
        "    for name, param in model.named_parameters():\n",
        "        if detailed: print(name, param.size())\n",
        "        num_params += param.numel()\n",
        "    print(f\"\\nTotal number of params: {num_params}\")"
      ]
    },
    {
      "cell_type": "code",
      "execution_count": 194,
      "id": "8e7675f8-f805-4f47-aefa-e4839a266c35",
      "metadata": {
        "id": "8e7675f8-f805-4f47-aefa-e4839a266c35"
      },
      "outputs": [],
      "source": [
        "def train_model(model, data, optimizer, loss_fn, save_name, num_epochs=1000,\n",
        "                log_freq=50, patience=100, logging=True):\n",
        "    print(f\"Using {device}, model: {next(model.parameters()).device}, data: {data.x.device}\")\n",
        "\n",
        "    # Early stopping initialization\n",
        "    best_val_loss = float('inf')\n",
        "    best_val_acc = 0.0\n",
        "    patience_counter = 0\n",
        "    best_epoch = 0\n",
        "    best_model_state = None\n",
        "\n",
        "    # Evaluate before training\n",
        "    if logging:\n",
        "        acc_list, loss_list = evaluate(model, data, data.val_mask, loss_fn)\n",
        "        print(\"Before training: \")\n",
        "        print(f\"Train Acc: {acc_list[0]:.4f}, Train Loss: {loss_list[0]:.4f}, Val Acc: {acc_list[1]:.4f}, Val Loss: {loss_list[1]:.4f}\\n\")\n",
        "\n",
        "    # Start training\n",
        "    for epoch in tqdm(range(num_epochs), desc=\"Training Epochs\"):\n",
        "        loss = train(model, data, optimizer, loss_fn)\n",
        "        acc_list, loss_list = evaluate(model, data,\n",
        "                                       data.val_mask, loss_fn)\n",
        "\n",
        "        # Update early stopping criteria\n",
        "        val_loss = loss_list[1]\n",
        "        val_acc = acc_list[1]\n",
        "        # if val_loss < best_val_loss or val_acc > best_val_acc:\n",
        "        if val_acc > best_val_acc:\n",
        "            best_val_loss = min(best_val_loss, val_loss)\n",
        "            best_val_acc = max(best_val_acc, val_acc)\n",
        "            patience_counter = 0\n",
        "            best_epoch = epoch\n",
        "            torch.save(model.state_dict(), save_name)\n",
        "        else:\n",
        "            patience_counter += 1\n",
        "\n",
        "        # Check if patience limit is reached\n",
        "        if patience_counter >= patience:\n",
        "            if logging: print(f\"\\nEarly stopping triggered at epoch {epoch + 1}\")\n",
        "            break\n",
        "\n",
        "        # Logging\n",
        "        if logging and ((epoch % log_freq == 0) or (epoch + 1 == num_epochs)):\n",
        "            print(f\"Epoch: {epoch+1}, Loss: {loss:.4f}\")\n",
        "            print(f\"    Eval: Train Acc: {acc_list[0]:.4f}, Train Loss: {loss_list[0]:.4f}, Val Acc: {acc_list[1]:.4f}, Val Loss: {loss_list[1]:.4f}\")\n",
        "\n",
        "    if best_model_state is not None:\n",
        "        model.load_state_dict(best_model_state[\"state_dict\"])\n",
        "\n",
        "    print(f\"\\nTraining completed.\\nBest Validation at Epoch: {best_epoch + 1}\\nBest Val Acc: {best_val_acc:.4f}, Best Val Loss: {best_val_loss:.4f}\\n\")"
      ]
    },
    {
      "cell_type": "code",
      "execution_count": 17,
      "id": "a96a7cb8-fef8-41b8-91c2-b08fd7892d94",
      "metadata": {
        "id": "a96a7cb8-fef8-41b8-91c2-b08fd7892d94"
      },
      "outputs": [],
      "source": [
        "# device = torch.device(\"cpu\")\n",
        "# device = torch.device(\"cuda\")\n",
        "device = torch.device(\"cuda\" if torch.cuda.is_available() else \"cpu\")\n",
        "\n",
        "num_heads = 8\n",
        "dropout_rate = 0.4\n",
        "emb_dim1 = 8\n",
        "lr = 0.005\n",
        "\n",
        "cora_num_classes = len(cora_data.y.unique())\n",
        "assert cora_num_classes == 7"
      ]
    },
    {
      "cell_type": "code",
      "execution_count": 18,
      "id": "54be33f3-de21-4aee-908c-7894dfb144c3",
      "metadata": {
        "id": "54be33f3-de21-4aee-908c-7894dfb144c3"
      },
      "outputs": [],
      "source": [
        "num_epochs = 1000\n",
        "log_freq = 50\n",
        "\n",
        "cora_model = GAT(cora_data.num_features, emb_dim1, num_heads, dropout_rate,\n",
        "            cora_num_classes).to(device)\n",
        "cora_data.to(device)\n",
        "\n",
        "lambda_l2 = 0.001\n",
        "cora_optimizer = torch.optim.Adam(cora_model.parameters(), lr=lr, weight_decay=lambda_l2)\n",
        "loss_fn = nn.CrossEntropyLoss()"
      ]
    },
    {
      "cell_type": "code",
      "execution_count": 195,
      "id": "cee20219-3752-4dc0-a600-d6cd7465298f",
      "metadata": {
        "colab": {
          "base_uri": "https://localhost:8080/"
        },
        "id": "cee20219-3752-4dc0-a600-d6cd7465298f",
        "outputId": "3d0d5812-1213-4be7-eb6c-736bf4d71563"
      },
      "outputs": [
        {
          "output_type": "stream",
          "name": "stdout",
          "text": [
            "Using cuda, model: cuda:0, data: cuda:0\n",
            "Before training: \n",
            "Train Acc: 1.0000, Train Loss: 0.0147, Val Acc: 0.7840, Val Loss: 0.7338\n",
            "\n"
          ]
        },
        {
          "output_type": "stream",
          "name": "stderr",
          "text": [
            "Training Epochs:   1%|          | 11/1000 [00:00<00:09, 109.54it/s]"
          ]
        },
        {
          "output_type": "stream",
          "name": "stdout",
          "text": [
            "Epoch: 1, Loss: 0.0941\n",
            "    Eval: Train Acc: 1.0000, Train Loss: 0.0147, Val Acc: 0.7820, Val Loss: 0.7357\n"
          ]
        },
        {
          "output_type": "stream",
          "name": "stderr",
          "text": [
            "Training Epochs:   7%|▋         | 69/1000 [00:00<00:08, 110.86it/s]"
          ]
        },
        {
          "output_type": "stream",
          "name": "stdout",
          "text": [
            "Epoch: 51, Loss: 0.1693\n",
            "    Eval: Train Acc: 1.0000, Train Loss: 0.0072, Val Acc: 0.7720, Val Loss: 0.7609\n"
          ]
        },
        {
          "output_type": "stream",
          "name": "stderr",
          "text": [
            "Training Epochs:  12%|█▏        | 117/1000 [00:01<00:07, 115.50it/s]"
          ]
        },
        {
          "output_type": "stream",
          "name": "stdout",
          "text": [
            "Epoch: 101, Loss: 0.1009\n",
            "    Eval: Train Acc: 1.0000, Train Loss: 0.0044, Val Acc: 0.7760, Val Loss: 0.7779\n"
          ]
        },
        {
          "output_type": "stream",
          "name": "stderr",
          "text": [
            "\rTraining Epochs:  13%|█▎        | 128/1000 [00:01<00:07, 110.96it/s]"
          ]
        },
        {
          "output_type": "stream",
          "name": "stdout",
          "text": [
            "\n",
            "Early stopping triggered at epoch 129\n",
            "\n",
            "Training completed.\n",
            "Best Validation at Epoch: 29\n",
            "Best Val Acc: 0.7860, Best Val Loss: 0.7357\n",
            "\n"
          ]
        },
        {
          "output_type": "stream",
          "name": "stderr",
          "text": [
            "\n"
          ]
        }
      ],
      "source": [
        "train_model(cora_model, cora_data, cora_optimizer, loss_fn, \"cora_model_01.pth\", num_epochs, log_freq, patience=100)\n",
        "cora_model.load_state_dict(torch.load(\"cora_model_01.pth\", map_location=device))\n",
        "cora_model = cora_model.to(device)"
      ]
    },
    {
      "cell_type": "code",
      "execution_count": 196,
      "id": "45ada998-66b5-4068-80c7-688dae9d2f60",
      "metadata": {
        "colab": {
          "base_uri": "https://localhost:8080/"
        },
        "id": "45ada998-66b5-4068-80c7-688dae9d2f60",
        "outputId": "640caccc-3ae4-4e52-e847-9c361f2521a9"
      },
      "outputs": [
        {
          "output_type": "stream",
          "name": "stdout",
          "text": [
            "After training: \n",
            "Train Acc: 1.0000, Train Loss: 0.0104, Val Acc: 0.7860, Val Loss: 0.7396\n",
            "\n"
          ]
        }
      ],
      "source": [
        "# Evaluate after training\n",
        "acc_list, loss_list = evaluate(cora_model, cora_data, cora_data.val_mask, loss_fn)\n",
        "print(\"After training: \")\n",
        "print(f\"Train Acc: {acc_list[0]:.4f}, Train Loss: {loss_list[0]:.4f}, Val Acc: {acc_list[1]:.4f}, Val Loss: {loss_list[1]:.4f}\\n\")"
      ]
    },
    {
      "cell_type": "code",
      "execution_count": 21,
      "id": "ab88e752-130c-4ec9-8b93-ee118d6cd533",
      "metadata": {
        "colab": {
          "base_uri": "https://localhost:8080/"
        },
        "id": "ab88e752-130c-4ec9-8b93-ee118d6cd533",
        "outputId": "18f64813-4496-4b76-cfbc-e1ee4cf7a732"
      },
      "outputs": [
        {
          "output_type": "stream",
          "name": "stderr",
          "text": [
            "Downloading https://github.com/kimiyoung/planetoid/raw/master/data/ind.citeseer.x\n",
            "Downloading https://github.com/kimiyoung/planetoid/raw/master/data/ind.citeseer.tx\n",
            "Downloading https://github.com/kimiyoung/planetoid/raw/master/data/ind.citeseer.allx\n",
            "Downloading https://github.com/kimiyoung/planetoid/raw/master/data/ind.citeseer.y\n",
            "Downloading https://github.com/kimiyoung/planetoid/raw/master/data/ind.citeseer.ty\n",
            "Downloading https://github.com/kimiyoung/planetoid/raw/master/data/ind.citeseer.ally\n",
            "Downloading https://github.com/kimiyoung/planetoid/raw/master/data/ind.citeseer.graph\n",
            "Downloading https://github.com/kimiyoung/planetoid/raw/master/data/ind.citeseer.test.index\n",
            "Processing...\n",
            "Done!\n"
          ]
        }
      ],
      "source": [
        "cite_dataset = Planetoid('/tmp/Citeseer', 'Citeseer')\n",
        "cite_data = cite_dataset[0]"
      ]
    },
    {
      "cell_type": "code",
      "execution_count": 22,
      "id": "7b9b02e8-5a18-41ba-ae3b-01ddfa35037b",
      "metadata": {
        "colab": {
          "base_uri": "https://localhost:8080/"
        },
        "id": "7b9b02e8-5a18-41ba-ae3b-01ddfa35037b",
        "outputId": "b898a3b1-92e3-477e-bd34-74bf9fde004d"
      },
      "outputs": [
        {
          "output_type": "stream",
          "name": "stdout",
          "text": [
            "Number of nodes: 3327\n",
            "Number of features per node: 3703\n",
            "Number of edges: 9104\n",
            "Number of undirectd edge: 4552\n",
            "Number of classes: 6\n"
          ]
        }
      ],
      "source": [
        "# For debug use only\n",
        "print(f\"Number of nodes: {cite_data.num_nodes}\")\n",
        "print(f\"Number of features per node: {cite_data.num_node_features}\")\n",
        "print(f\"Number of edges: {cite_data.num_edges}\")\n",
        "print(f\"Number of undirectd edge: {cite_data.edge_index.shape[1]//2}\")\n",
        "print(f\"Number of classes: {len(cite_data.y.unique())}\")"
      ]
    },
    {
      "cell_type": "code",
      "execution_count": 23,
      "id": "9f29fb34-1919-40a6-8858-310ce0142ed9",
      "metadata": {
        "colab": {
          "base_uri": "https://localhost:8080/"
        },
        "id": "9f29fb34-1919-40a6-8858-310ce0142ed9",
        "outputId": "57b0caab-fe66-4e73-c44c-e7d0fbc31975"
      },
      "outputs": [
        {
          "output_type": "stream",
          "name": "stdout",
          "text": [
            "number of nodes in cora train set, 120\n",
            "number of nodes in cora val set, 500\n",
            "number of nodes in cora test set, 1000\n"
          ]
        }
      ],
      "source": [
        "# For debug use only\n",
        "cite_x_train = cite_data.x[cite_data.train_mask]\n",
        "cite_x_val = cite_data.x[cite_data.val_mask]\n",
        "cite_x_test = cite_data.x[cite_data.test_mask]\n",
        "\n",
        "print(\"number of nodes in cora train set,\", cite_x_train.shape[0])\n",
        "print(\"number of nodes in cora val set,\", cite_x_val.shape[0])\n",
        "print(\"number of nodes in cora test set,\", cite_x_test.shape[0])"
      ]
    },
    {
      "cell_type": "code",
      "execution_count": 197,
      "id": "b2e551a2-bb96-43a7-9fee-6303b14261bf",
      "metadata": {
        "colab": {
          "base_uri": "https://localhost:8080/"
        },
        "id": "b2e551a2-bb96-43a7-9fee-6303b14261bf",
        "outputId": "c570f88e-870f-4ea5-8118-515a247bc18a"
      },
      "outputs": [
        {
          "output_type": "stream",
          "name": "stdout",
          "text": [
            "Using cuda, model: cuda:0, data: cuda:0\n",
            "Before training: \n",
            "Train Acc: 0.0833, Train Loss: 1.8252, Val Acc: 0.0860, Val Loss: 1.8241\n",
            "\n"
          ]
        },
        {
          "output_type": "stream",
          "name": "stderr",
          "text": [
            "Training Epochs:   1%|          | 6/1000 [00:00<00:17, 58.30it/s]"
          ]
        },
        {
          "output_type": "stream",
          "name": "stdout",
          "text": [
            "Epoch: 1, Loss: 1.8358\n",
            "    Eval: Train Acc: 0.7667, Train Loss: 1.5407, Val Acc: 0.4460, Val Loss: 1.6842\n",
            "Epoch: 11, Loss: 0.4654\n",
            "    Eval: Train Acc: 0.9667, Train Loss: 0.2025, Val Acc: 0.6600, Val Loss: 1.0457\n"
          ]
        },
        {
          "output_type": "stream",
          "name": "stderr",
          "text": [
            "Training Epochs:   3%|▎         | 30/1000 [00:00<00:13, 72.77it/s]"
          ]
        },
        {
          "output_type": "stream",
          "name": "stdout",
          "text": [
            "Epoch: 21, Loss: 0.2882\n",
            "    Eval: Train Acc: 0.9917, Train Loss: 0.0744, Val Acc: 0.6440, Val Loss: 1.0655\n",
            "Epoch: 31, Loss: 0.2762\n",
            "    Eval: Train Acc: 1.0000, Train Loss: 0.0389, Val Acc: 0.6420, Val Loss: 1.1047\n"
          ]
        },
        {
          "output_type": "stream",
          "name": "stderr",
          "text": [
            "Training Epochs:   5%|▌         | 54/1000 [00:00<00:12, 74.03it/s]"
          ]
        },
        {
          "output_type": "stream",
          "name": "stdout",
          "text": [
            "Epoch: 41, Loss: 0.2638\n",
            "    Eval: Train Acc: 1.0000, Train Loss: 0.0286, Val Acc: 0.6680, Val Loss: 1.0693\n",
            "Epoch: 51, Loss: 0.1983\n",
            "    Eval: Train Acc: 1.0000, Train Loss: 0.0192, Val Acc: 0.6580, Val Loss: 1.1032\n"
          ]
        },
        {
          "output_type": "stream",
          "name": "stderr",
          "text": [
            "Training Epochs:   7%|▋         | 74/1000 [00:00<00:10, 84.53it/s]"
          ]
        },
        {
          "output_type": "stream",
          "name": "stdout",
          "text": [
            "Epoch: 61, Loss: 0.2864\n",
            "    Eval: Train Acc: 1.0000, Train Loss: 0.0150, Val Acc: 0.6700, Val Loss: 1.1038\n",
            "Epoch: 71, Loss: 0.2173\n",
            "    Eval: Train Acc: 1.0000, Train Loss: 0.0127, Val Acc: 0.6620, Val Loss: 1.0981\n"
          ]
        },
        {
          "output_type": "stream",
          "name": "stderr",
          "text": [
            "Training Epochs:   9%|▉         | 94/1000 [00:01<00:09, 92.12it/s]"
          ]
        },
        {
          "output_type": "stream",
          "name": "stdout",
          "text": [
            "Epoch: 81, Loss: 0.2014\n",
            "    Eval: Train Acc: 1.0000, Train Loss: 0.0117, Val Acc: 0.6640, Val Loss: 1.0933\n",
            "Epoch: 91, Loss: 0.2310\n",
            "    Eval: Train Acc: 1.0000, Train Loss: 0.0109, Val Acc: 0.6640, Val Loss: 1.0949\n"
          ]
        },
        {
          "output_type": "stream",
          "name": "stderr",
          "text": [
            "Training Epochs:  10%|█         | 105/1000 [00:01<00:11, 81.36it/s]"
          ]
        },
        {
          "output_type": "stream",
          "name": "stdout",
          "text": [
            "Epoch: 101, Loss: 0.2199\n",
            "    Eval: Train Acc: 1.0000, Train Loss: 0.0094, Val Acc: 0.6740, Val Loss: 1.0916\n",
            "\n",
            "Early stopping triggered at epoch 106\n",
            "\n",
            "Training completed.\n",
            "Best Validation at Epoch: 6\n",
            "Best Val Acc: 0.7000, Best Val Loss: 1.2128\n",
            "\n",
            "\n",
            "After training: \n",
            "Train Acc: 0.9417, Train Loss: 0.5382, Val Acc: 0.7000, Val Loss: 1.2128\n",
            "\n"
          ]
        },
        {
          "output_type": "stream",
          "name": "stderr",
          "text": [
            "\n"
          ]
        }
      ],
      "source": [
        "cite_num_classes = len(cite_data.y.unique())\n",
        "assert cite_num_classes == 6\n",
        "\n",
        "cite_model = GAT(cite_data.num_features, emb_dim1, num_heads, dropout_rate,\n",
        "            cite_num_classes).to(device)\n",
        "cite_data.to(device)\n",
        "\n",
        "# Create optimizer for citeseer\n",
        "cite_optimizer = torch.optim.Adam(cite_model.parameters(), lr=lr, weight_decay=lambda_l2)\n",
        "\n",
        "# Train citeseer model\n",
        "train_model(cite_model, cite_data, cite_optimizer, loss_fn, \"cite_model_01.pth\", num_epochs=1000, log_freq=10, patience=100)\n",
        "cite_model.load_state_dict(torch.load(\"cite_model_01.pth\", map_location=device))\n",
        "cite_model = cite_model.to(device)\n",
        "\n",
        "# Evaluate after training\n",
        "acc_list, loss_list = evaluate(cite_model, cite_data, cite_data.val_mask, loss_fn)\n",
        "print(\"\\nAfter training: \")\n",
        "print(f\"Train Acc: {acc_list[0]:.4f}, Train Loss: {loss_list[0]:.4f}, Val Acc: {acc_list[1]:.4f}, Val Loss: {loss_list[1]:.4f}\\n\")"
      ]
    },
    {
      "cell_type": "code",
      "execution_count": 25,
      "id": "0c1c01cb-d47d-4df2-aecd-1a0b7af86361",
      "metadata": {
        "id": "0c1c01cb-d47d-4df2-aecd-1a0b7af86361"
      },
      "outputs": [],
      "source": [
        "def val_stats(models, data, val_mask, loss_fn):\n",
        "    accuracies = []\n",
        "    losses = []\n",
        "\n",
        "    for model in models:\n",
        "        acc, loss = evaluate(model, data, val_mask, loss_fn)\n",
        "        accuracies.append(acc[1])\n",
        "        losses.append(loss[1])\n",
        "\n",
        "    # Convert to tensors\n",
        "    accuracies_tensor = torch.tensor(accuracies)\n",
        "    losses_tensor = torch.tensor(losses)\n",
        "\n",
        "    # Calculate mean and standard deviation\n",
        "    avg_accuracy = torch.mean(accuracies_tensor).item()\n",
        "    std_accuracy = torch.std(accuracies_tensor).item()\n",
        "    avg_loss = torch.mean(losses_tensor).item()\n",
        "    std_loss = torch.std(losses_tensor).item()\n",
        "\n",
        "    return avg_accuracy, std_accuracy, avg_loss, std_loss, accuracies_tensor, losses_tensor"
      ]
    },
    {
      "cell_type": "code",
      "execution_count": 27,
      "id": "c467d45a-d7ce-420b-b0cc-b5839f7c1bd8",
      "metadata": {
        "colab": {
          "base_uri": "https://localhost:8080/"
        },
        "id": "c467d45a-d7ce-420b-b0cc-b5839f7c1bd8",
        "outputId": "74b83b39-9ba4-466f-97d2-b4e9af398d6f"
      },
      "outputs": [
        {
          "output_type": "stream",
          "name": "stdout",
          "text": [
            "Average Accuracy: 0.7840, Std of Accuracy: nan, Average Loss: 0.7338, Std of Loss: nan\n"
          ]
        }
      ],
      "source": [
        "cora_val_stats = val_stats([cora_model], cora_data, cora_data.val_mask,\n",
        "                           loss_fn)\n",
        "avg_acc, std_acc, avg_loss, std_loss, acc_tensor, loss_tensor = cora_val_stats\n",
        "print(f\"Average Accuracy: {avg_acc:.4f}, Std of Accuracy: {std_acc:.4e}, Average Loss: {avg_loss:.4f}, Std of Loss: {std_loss:.4e}\")"
      ]
    },
    {
      "cell_type": "code",
      "execution_count": 28,
      "id": "4832762c-93a0-4da0-81ae-4be8399cee56",
      "metadata": {
        "id": "4832762c-93a0-4da0-81ae-4be8399cee56"
      },
      "outputs": [],
      "source": [
        "def create_models(Model_Class, num_runs, data):\n",
        "    models = []\n",
        "\n",
        "    for i in range(num_runs):\n",
        "        print(f\"Run: {i+1}\")\n",
        "        # Create a new GAT model instance\n",
        "        model = Model_Class(data.num_features, emb_dim1, num_heads, dropout_rate,\n",
        "                    len(data.y.unique())).to(device)\n",
        "\n",
        "        # Create a new optimizer instance\n",
        "        optimizer = torch.optim.Adam(model.parameters(), lr=lr,\n",
        "                                     weight_decay=lambda_l2)\n",
        "\n",
        "        # Train the model\n",
        "        train_model(model, data, optimizer, loss_fn, \"temp_model.pth\", num_epochs,\n",
        "                    log_freq, patience=100, logging=False)\n",
        "\n",
        "        # Load the best model state\n",
        "        model.load_state_dict(torch.load(\"temp_model.pth\", map_location=device))\n",
        "\n",
        "        # Append the trained model to the list\n",
        "        models.append(model)\n",
        "\n",
        "    return models"
      ]
    },
    {
      "cell_type": "code",
      "execution_count": 168,
      "id": "55bafbb5-a7ee-4edf-a58b-916b983ffc46",
      "metadata": {
        "scrolled": true,
        "colab": {
          "base_uri": "https://localhost:8080/"
        },
        "id": "55bafbb5-a7ee-4edf-a58b-916b983ffc46",
        "outputId": "ac1a3473-a249-462d-c9d5-ade2c9d255ba"
      },
      "outputs": [
        {
          "output_type": "stream",
          "name": "stdout",
          "text": [
            "Run: 1\n",
            "Using cuda, model: cuda:0, data: cuda:0\n"
          ]
        },
        {
          "output_type": "stream",
          "name": "stderr",
          "text": [
            "Training Epochs:  14%|█▍        | 138/1000 [00:01<00:08, 105.27it/s]\n"
          ]
        },
        {
          "output_type": "stream",
          "name": "stdout",
          "text": [
            "\n",
            "Training completed.\n",
            "Best Validation at Epoch: 39\n",
            "Best Val Acc: 0.7940, Best Val Loss: 0.6539\n",
            "\n",
            "Run: 2\n",
            "Using cuda, model: cuda:0, data: cuda:0\n"
          ]
        },
        {
          "output_type": "stream",
          "name": "stderr",
          "text": [
            "Training Epochs:  15%|█▌        | 154/1000 [00:01<00:07, 106.33it/s]\n"
          ]
        },
        {
          "output_type": "stream",
          "name": "stdout",
          "text": [
            "\n",
            "Training completed.\n",
            "Best Validation at Epoch: 55\n",
            "Best Val Acc: 0.7980, Best Val Loss: 0.7189\n",
            "\n",
            "Run: 3\n",
            "Using cuda, model: cuda:0, data: cuda:0\n"
          ]
        },
        {
          "output_type": "stream",
          "name": "stderr",
          "text": [
            "Training Epochs:  13%|█▎        | 130/1000 [00:01<00:08, 106.08it/s]\n"
          ]
        },
        {
          "output_type": "stream",
          "name": "stdout",
          "text": [
            "\n",
            "Training completed.\n",
            "Best Validation at Epoch: 31\n",
            "Best Val Acc: 0.7920, Best Val Loss: 0.7151\n",
            "\n",
            "Run: 4\n",
            "Using cuda, model: cuda:0, data: cuda:0\n"
          ]
        },
        {
          "output_type": "stream",
          "name": "stderr",
          "text": [
            "Training Epochs:  13%|█▎        | 129/1000 [00:01<00:07, 109.51it/s]\n"
          ]
        },
        {
          "output_type": "stream",
          "name": "stdout",
          "text": [
            "\n",
            "Training completed.\n",
            "Best Validation at Epoch: 30\n",
            "Best Val Acc: 0.7920, Best Val Loss: 0.7124\n",
            "\n",
            "Run: 5\n",
            "Using cuda, model: cuda:0, data: cuda:0\n"
          ]
        },
        {
          "output_type": "stream",
          "name": "stderr",
          "text": [
            "Training Epochs:  24%|██▍       | 241/1000 [00:02<00:07, 108.43it/s]\n"
          ]
        },
        {
          "output_type": "stream",
          "name": "stdout",
          "text": [
            "\n",
            "Training completed.\n",
            "Best Validation at Epoch: 142\n",
            "Best Val Acc: 0.7860, Best Val Loss: 0.7337\n",
            "\n",
            "Run: 6\n",
            "Using cuda, model: cuda:0, data: cuda:0\n"
          ]
        },
        {
          "output_type": "stream",
          "name": "stderr",
          "text": [
            "Training Epochs:  20%|█▉        | 198/1000 [00:02<00:08, 93.41it/s]\n"
          ]
        },
        {
          "output_type": "stream",
          "name": "stdout",
          "text": [
            "\n",
            "Training completed.\n",
            "Best Validation at Epoch: 99\n",
            "Best Val Acc: 0.7960, Best Val Loss: 0.7067\n",
            "\n",
            "Run: 7\n",
            "Using cuda, model: cuda:0, data: cuda:0\n"
          ]
        },
        {
          "output_type": "stream",
          "name": "stderr",
          "text": [
            "Training Epochs:  19%|█▉        | 192/1000 [00:02<00:09, 84.94it/s]\n"
          ]
        },
        {
          "output_type": "stream",
          "name": "stdout",
          "text": [
            "\n",
            "Training completed.\n",
            "Best Validation at Epoch: 93\n",
            "Best Val Acc: 0.8000, Best Val Loss: 0.7304\n",
            "\n",
            "Run: 8\n",
            "Using cuda, model: cuda:0, data: cuda:0\n"
          ]
        },
        {
          "output_type": "stream",
          "name": "stderr",
          "text": [
            "Training Epochs:  13%|█▎        | 128/1000 [00:01<00:08, 106.52it/s]\n"
          ]
        },
        {
          "output_type": "stream",
          "name": "stdout",
          "text": [
            "\n",
            "Training completed.\n",
            "Best Validation at Epoch: 29\n",
            "Best Val Acc: 0.7880, Best Val Loss: 0.6972\n",
            "\n",
            "Run: 9\n",
            "Using cuda, model: cuda:0, data: cuda:0\n"
          ]
        },
        {
          "output_type": "stream",
          "name": "stderr",
          "text": [
            "Training Epochs:  13%|█▎        | 126/1000 [00:01<00:08, 107.10it/s]\n"
          ]
        },
        {
          "output_type": "stream",
          "name": "stdout",
          "text": [
            "\n",
            "Training completed.\n",
            "Best Validation at Epoch: 27\n",
            "Best Val Acc: 0.8040, Best Val Loss: 0.6577\n",
            "\n",
            "Run: 10\n",
            "Using cuda, model: cuda:0, data: cuda:0\n"
          ]
        },
        {
          "output_type": "stream",
          "name": "stderr",
          "text": [
            "Training Epochs:  28%|██▊       | 277/1000 [00:02<00:06, 109.36it/s]"
          ]
        },
        {
          "output_type": "stream",
          "name": "stdout",
          "text": [
            "\n",
            "Training completed.\n",
            "Best Validation at Epoch: 178\n",
            "Best Val Acc: 0.7880, Best Val Loss: 0.7574\n",
            "\n",
            "Number of Runs: 10\n",
            "Average Accuracy: 0.7848, Std of Accuracy: 0.0069, Average Loss: 0.7155, Std of Loss: 0.0393\n"
          ]
        },
        {
          "output_type": "stream",
          "name": "stderr",
          "text": [
            "\n"
          ]
        }
      ],
      "source": [
        "num_runs = 10\n",
        "cora_models = create_models(GAT, num_runs, cora_data)\n",
        "\n",
        "cora_val_stats = val_stats(cora_models, cora_data, cora_data.val_mask,\n",
        "                           loss_fn)\n",
        "avg_acc, std_acc, avg_loss, std_loss, acc_tensor, loss_tensor = cora_val_stats\n",
        "print(f\"Number of Runs: {len(acc_tensor)}\")\n",
        "print(f\"Average Accuracy: {avg_acc:.4f}, Std of Accuracy: {std_acc:.4f}, Average Loss: {avg_loss:.4f}, Std of Loss: {std_loss:.4f}\")"
      ]
    },
    {
      "cell_type": "code",
      "execution_count": 169,
      "id": "9c3aa2f9-3783-4e64-a06c-dad7c22221b2",
      "metadata": {
        "scrolled": true,
        "colab": {
          "base_uri": "https://localhost:8080/"
        },
        "id": "9c3aa2f9-3783-4e64-a06c-dad7c22221b2",
        "outputId": "06e1831b-09fe-45c5-d56f-71401bdcaf17"
      },
      "outputs": [
        {
          "output_type": "stream",
          "name": "stdout",
          "text": [
            "Run: 1\n",
            "Using cuda, model: cuda:0, data: cuda:0\n"
          ]
        },
        {
          "output_type": "stream",
          "name": "stderr",
          "text": [
            "Training Epochs:  36%|███▌      | 357/1000 [00:03<00:06, 97.93it/s] \n"
          ]
        },
        {
          "output_type": "stream",
          "name": "stdout",
          "text": [
            "\n",
            "Training completed.\n",
            "Best Validation at Epoch: 258\n",
            "Best Val Acc: 0.7040, Best Val Loss: 1.0252\n",
            "\n",
            "Run: 2\n",
            "Using cuda, model: cuda:0, data: cuda:0\n"
          ]
        },
        {
          "output_type": "stream",
          "name": "stderr",
          "text": [
            "Training Epochs:  14%|█▍        | 140/1000 [00:01<00:08, 97.34it/s] \n"
          ]
        },
        {
          "output_type": "stream",
          "name": "stdout",
          "text": [
            "\n",
            "Training completed.\n",
            "Best Validation at Epoch: 41\n",
            "Best Val Acc: 0.7060, Best Val Loss: 0.9663\n",
            "\n",
            "Run: 3\n",
            "Using cuda, model: cuda:0, data: cuda:0\n"
          ]
        },
        {
          "output_type": "stream",
          "name": "stderr",
          "text": [
            "Training Epochs:  11%|█▏        | 114/1000 [00:01<00:09, 98.36it/s] \n"
          ]
        },
        {
          "output_type": "stream",
          "name": "stdout",
          "text": [
            "\n",
            "Training completed.\n",
            "Best Validation at Epoch: 15\n",
            "Best Val Acc: 0.6940, Best Val Loss: 0.9630\n",
            "\n",
            "Run: 4\n",
            "Using cuda, model: cuda:0, data: cuda:0\n"
          ]
        },
        {
          "output_type": "stream",
          "name": "stderr",
          "text": [
            "Training Epochs:  28%|██▊       | 277/1000 [00:03<00:08, 89.73it/s]\n"
          ]
        },
        {
          "output_type": "stream",
          "name": "stdout",
          "text": [
            "\n",
            "Training completed.\n",
            "Best Validation at Epoch: 178\n",
            "Best Val Acc: 0.7080, Best Val Loss: 1.0114\n",
            "\n",
            "Run: 5\n",
            "Using cuda, model: cuda:0, data: cuda:0\n"
          ]
        },
        {
          "output_type": "stream",
          "name": "stderr",
          "text": [
            "Training Epochs:  11%|█▏        | 114/1000 [00:01<00:12, 71.08it/s]\n"
          ]
        },
        {
          "output_type": "stream",
          "name": "stdout",
          "text": [
            "\n",
            "Training completed.\n",
            "Best Validation at Epoch: 15\n",
            "Best Val Acc: 0.7160, Best Val Loss: 0.9269\n",
            "\n",
            "Run: 6\n",
            "Using cuda, model: cuda:0, data: cuda:0\n"
          ]
        },
        {
          "output_type": "stream",
          "name": "stderr",
          "text": [
            "Training Epochs:  12%|█▏        | 116/1000 [00:02<00:17, 50.60it/s]\n"
          ]
        },
        {
          "output_type": "stream",
          "name": "stdout",
          "text": [
            "\n",
            "Training completed.\n",
            "Best Validation at Epoch: 17\n",
            "Best Val Acc: 0.6940, Best Val Loss: 0.9585\n",
            "\n",
            "Run: 7\n",
            "Using cuda, model: cuda:0, data: cuda:0\n"
          ]
        },
        {
          "output_type": "stream",
          "name": "stderr",
          "text": [
            "Training Epochs:  11%|█▏        | 113/1000 [00:01<00:09, 98.41it/s] \n"
          ]
        },
        {
          "output_type": "stream",
          "name": "stdout",
          "text": [
            "\n",
            "Training completed.\n",
            "Best Validation at Epoch: 14\n",
            "Best Val Acc: 0.6840, Best Val Loss: 1.0044\n",
            "\n",
            "Run: 8\n",
            "Using cuda, model: cuda:0, data: cuda:0\n"
          ]
        },
        {
          "output_type": "stream",
          "name": "stderr",
          "text": [
            "Training Epochs:  20%|█▉        | 195/1000 [00:02<00:09, 85.88it/s]\n"
          ]
        },
        {
          "output_type": "stream",
          "name": "stdout",
          "text": [
            "\n",
            "Training completed.\n",
            "Best Validation at Epoch: 96\n",
            "Best Val Acc: 0.6940, Best Val Loss: 0.9928\n",
            "\n",
            "Run: 9\n",
            "Using cuda, model: cuda:0, data: cuda:0\n"
          ]
        },
        {
          "output_type": "stream",
          "name": "stderr",
          "text": [
            "Training Epochs:  11%|█▏        | 113/1000 [00:02<00:16, 52.80it/s]\n"
          ]
        },
        {
          "output_type": "stream",
          "name": "stdout",
          "text": [
            "\n",
            "Training completed.\n",
            "Best Validation at Epoch: 14\n",
            "Best Val Acc: 0.6920, Best Val Loss: 0.9998\n",
            "\n",
            "Run: 10\n",
            "Using cuda, model: cuda:0, data: cuda:0\n"
          ]
        },
        {
          "output_type": "stream",
          "name": "stderr",
          "text": [
            "Training Epochs:  11%|█▏        | 113/1000 [00:02<00:20, 42.55it/s]"
          ]
        },
        {
          "output_type": "stream",
          "name": "stdout",
          "text": [
            "\n",
            "Training completed.\n",
            "Best Validation at Epoch: 14\n",
            "Best Val Acc: 0.6960, Best Val Loss: 0.9876\n",
            "\n",
            "Number of Runs: 10\n",
            "Average Accuracy: 0.6862, Std of Accuracy: 0.0178, Average Loss: 1.0079, Std of Loss: 0.0565\n"
          ]
        },
        {
          "output_type": "stream",
          "name": "stderr",
          "text": [
            "\n"
          ]
        }
      ],
      "source": [
        "num_runs = 10\n",
        "cite_models = create_models(GAT, num_runs, cite_data)\n",
        "\n",
        "cite_val_stats = val_stats(cite_models, cite_data, cite_data.val_mask,\n",
        "                           loss_fn)\n",
        "avg_acc, std_acc, avg_loss, std_loss, acc_tensor, loss_tensor = cite_val_stats\n",
        "print(f\"Number of Runs: {len(acc_tensor)}\")\n",
        "print(f\"Average Accuracy: {avg_acc:.4f}, Std of Accuracy: {std_acc:.4f}, Average Loss: {avg_loss:.4f}, Std of Loss: {std_loss:.4f}\")"
      ]
    },
    {
      "cell_type": "code",
      "source": [
        "summarize(cora_models[0])\n",
        "summarize(cite_models[0])"
      ],
      "metadata": {
        "colab": {
          "base_uri": "https://localhost:8080/"
        },
        "id": "KfrX13ZHiY4u",
        "outputId": "76e64446-8b8d-4afa-fb7e-01f1dba5a91b"
      },
      "id": "KfrX13ZHiY4u",
      "execution_count": 170,
      "outputs": [
        {
          "output_type": "stream",
          "name": "stdout",
          "text": [
            "Model Summary: GAT\n",
            "\n",
            "\n",
            "Total number of params: 92373\n",
            "Model Summary: GAT\n",
            "\n",
            "\n",
            "Total number of params: 237586\n"
          ]
        }
      ]
    },
    {
      "cell_type": "code",
      "execution_count": 33,
      "id": "b107f5e8-537c-48d1-9505-0a2dcd9a8efa",
      "metadata": {
        "id": "b107f5e8-537c-48d1-9505-0a2dcd9a8efa"
      },
      "outputs": [],
      "source": [
        "emb_dim1 = 8"
      ]
    },
    {
      "cell_type": "code",
      "execution_count": 162,
      "id": "c7fb8584-3719-4b19-a617-d89318706de2",
      "metadata": {
        "id": "c7fb8584-3719-4b19-a617-d89318706de2"
      },
      "outputs": [],
      "source": [
        "# Define the GAT model\n",
        "class GAT1(torch.nn.Module):\n",
        "    # hidden channels will be the embedding dimension for each attention head\n",
        "    # after applying the first GAT layer.\n",
        "    def __init__(self, in_channels, hidden_channels,\n",
        "                 num_heads, dropout_rate, num_classes):\n",
        "        super().__init__()\n",
        "\n",
        "        self.dropout_rate = dropout_rate\n",
        "\n",
        "        self.hidden_channels = hidden_channels\n",
        "        self.num_heads = num_heads\n",
        "\n",
        "        self.conv1 = GATConv(in_channels, hidden_channels, heads=num_heads,\n",
        "                                dropout=dropout_rate)\n",
        "        self.conv2 = GATConv(hidden_channels*num_heads, hidden_channels,\n",
        "                             heads=num_heads, dropout=dropout_rate)\n",
        "        self.conv3 = GATConv(hidden_channels*num_heads, num_classes,\n",
        "                                dropout=dropout_rate, concat=False)\n",
        "\n",
        "    def forward(self, x, edge_index):\n",
        "        out = F.dropout(x, p=self.dropout_rate, training=self.training)\n",
        "        out = self.conv1(out, edge_index)\n",
        "        assert out.shape[-1] == self.hidden_channels * self.num_heads\n",
        "        out = F.elu(out)\n",
        "\n",
        "        out = F.dropout(out, p=self.dropout_rate, training=self.training)\n",
        "        out = self.conv2(out, edge_index)\n",
        "        assert out.shape[-1] == self.hidden_channels * self.num_heads\n",
        "        out = F.elu(out)\n",
        "\n",
        "        out = F.dropout(out, p=self.dropout_rate, training=self.training)\n",
        "        out = self.conv3(out, edge_index)\n",
        "        return out"
      ]
    },
    {
      "cell_type": "code",
      "execution_count": 163,
      "id": "35551959-4886-496f-83a5-0dd9a383393c",
      "metadata": {
        "scrolled": true,
        "colab": {
          "base_uri": "https://localhost:8080/"
        },
        "id": "35551959-4886-496f-83a5-0dd9a383393c",
        "outputId": "494ae17b-3fb4-4ff4-8ba7-12a98ef58ae3"
      },
      "outputs": [
        {
          "output_type": "stream",
          "name": "stdout",
          "text": [
            "Run: 1\n",
            "Using cuda, model: cuda:0, data: cuda:0\n"
          ]
        },
        {
          "output_type": "stream",
          "name": "stderr",
          "text": [
            "Training Epochs:  12%|█▏        | 115/1000 [00:01<00:11, 79.00it/s]\n"
          ]
        },
        {
          "output_type": "stream",
          "name": "stdout",
          "text": [
            "\n",
            "Training completed.\n",
            "Best Validation at Epoch: 16\n",
            "Best Val Acc: 0.8060, Best Val Loss: 0.6831\n",
            "\n",
            "Run: 2\n",
            "Using cuda, model: cuda:0, data: cuda:0\n"
          ]
        },
        {
          "output_type": "stream",
          "name": "stderr",
          "text": [
            "Training Epochs:  11%|█▏        | 114/1000 [00:01<00:11, 80.38it/s]\n"
          ]
        },
        {
          "output_type": "stream",
          "name": "stdout",
          "text": [
            "\n",
            "Training completed.\n",
            "Best Validation at Epoch: 15\n",
            "Best Val Acc: 0.7980, Best Val Loss: 0.7350\n",
            "\n",
            "Run: 3\n",
            "Using cuda, model: cuda:0, data: cuda:0\n"
          ]
        },
        {
          "output_type": "stream",
          "name": "stderr",
          "text": [
            "Training Epochs:  12%|█▏        | 115/1000 [00:01<00:10, 80.51it/s]\n"
          ]
        },
        {
          "output_type": "stream",
          "name": "stdout",
          "text": [
            "\n",
            "Training completed.\n",
            "Best Validation at Epoch: 16\n",
            "Best Val Acc: 0.8060, Best Val Loss: 0.6600\n",
            "\n",
            "Run: 4\n",
            "Using cuda, model: cuda:0, data: cuda:0\n"
          ]
        },
        {
          "output_type": "stream",
          "name": "stderr",
          "text": [
            "Training Epochs:  11%|█▏        | 114/1000 [00:01<00:10, 81.45it/s]\n"
          ]
        },
        {
          "output_type": "stream",
          "name": "stdout",
          "text": [
            "\n",
            "Training completed.\n",
            "Best Validation at Epoch: 15\n",
            "Best Val Acc: 0.7980, Best Val Loss: 0.6993\n",
            "\n",
            "Run: 5\n",
            "Using cuda, model: cuda:0, data: cuda:0\n"
          ]
        },
        {
          "output_type": "stream",
          "name": "stderr",
          "text": [
            "Training Epochs:  12%|█▏        | 115/1000 [00:01<00:12, 69.86it/s]\n"
          ]
        },
        {
          "output_type": "stream",
          "name": "stdout",
          "text": [
            "\n",
            "Training completed.\n",
            "Best Validation at Epoch: 16\n",
            "Best Val Acc: 0.8080, Best Val Loss: 0.6344\n",
            "\n",
            "Run: 6\n",
            "Using cuda, model: cuda:0, data: cuda:0\n"
          ]
        },
        {
          "output_type": "stream",
          "name": "stderr",
          "text": [
            "Training Epochs:  12%|█▏        | 117/1000 [00:01<00:13, 63.20it/s]\n"
          ]
        },
        {
          "output_type": "stream",
          "name": "stdout",
          "text": [
            "\n",
            "Training completed.\n",
            "Best Validation at Epoch: 18\n",
            "Best Val Acc: 0.7960, Best Val Loss: 0.7173\n",
            "\n",
            "Run: 7\n",
            "Using cuda, model: cuda:0, data: cuda:0\n"
          ]
        },
        {
          "output_type": "stream",
          "name": "stderr",
          "text": [
            "Training Epochs:  12%|█▏        | 115/1000 [00:01<00:12, 70.89it/s]\n"
          ]
        },
        {
          "output_type": "stream",
          "name": "stdout",
          "text": [
            "\n",
            "Training completed.\n",
            "Best Validation at Epoch: 16\n",
            "Best Val Acc: 0.7860, Best Val Loss: 0.6700\n",
            "\n",
            "Run: 8\n",
            "Using cuda, model: cuda:0, data: cuda:0\n"
          ]
        },
        {
          "output_type": "stream",
          "name": "stderr",
          "text": [
            "Training Epochs:  12%|█▏        | 115/1000 [00:01<00:10, 81.15it/s]\n"
          ]
        },
        {
          "output_type": "stream",
          "name": "stdout",
          "text": [
            "\n",
            "Training completed.\n",
            "Best Validation at Epoch: 16\n",
            "Best Val Acc: 0.8020, Best Val Loss: 0.7030\n",
            "\n",
            "Run: 9\n",
            "Using cuda, model: cuda:0, data: cuda:0\n"
          ]
        },
        {
          "output_type": "stream",
          "name": "stderr",
          "text": [
            "Training Epochs:  15%|█▌        | 153/1000 [00:01<00:10, 81.71it/s]\n"
          ]
        },
        {
          "output_type": "stream",
          "name": "stdout",
          "text": [
            "\n",
            "Training completed.\n",
            "Best Validation at Epoch: 54\n",
            "Best Val Acc: 0.8060, Best Val Loss: 0.6670\n",
            "\n",
            "Run: 10\n",
            "Using cuda, model: cuda:0, data: cuda:0\n"
          ]
        },
        {
          "output_type": "stream",
          "name": "stderr",
          "text": [
            "Training Epochs:  11%|█▏        | 113/1000 [00:01<00:10, 83.44it/s]"
          ]
        },
        {
          "output_type": "stream",
          "name": "stdout",
          "text": [
            "\n",
            "Training completed.\n",
            "Best Validation at Epoch: 14\n",
            "Best Val Acc: 0.7820, Best Val Loss: 0.7685\n",
            "\n",
            "Number of Runs: 10\n",
            "Average Accuracy: 0.7910, Std of Accuracy: 0.0113, Average Loss: 0.7179, Std of Loss: 0.0770\n"
          ]
        },
        {
          "output_type": "stream",
          "name": "stderr",
          "text": [
            "\n"
          ]
        }
      ],
      "source": [
        "num_runs = 10\n",
        "cora_models = create_models(GAT1, num_runs, cora_data)\n",
        "\n",
        "cora_val_stats = val_stats(cora_models, cora_data, cora_data.val_mask,\n",
        "                           loss_fn)\n",
        "avg_acc, std_acc, avg_loss, std_loss, acc_tensor, loss_tensor = cora_val_stats\n",
        "print(f\"Number of Runs: {len(acc_tensor)}\")\n",
        "print(f\"Average Accuracy: {avg_acc:.4f}, Std of Accuracy: {std_acc:.4f}, Average Loss: {avg_loss:.4f}, Std of Loss: {std_loss:.4f}\")"
      ]
    },
    {
      "cell_type": "code",
      "execution_count": 164,
      "id": "06033dfb-768c-427a-8eb3-c463f04af608",
      "metadata": {
        "scrolled": true,
        "colab": {
          "base_uri": "https://localhost:8080/"
        },
        "id": "06033dfb-768c-427a-8eb3-c463f04af608",
        "outputId": "ed888bce-45cc-425e-fde8-3d1773e0a237"
      },
      "outputs": [
        {
          "output_type": "stream",
          "name": "stdout",
          "text": [
            "Run: 1\n",
            "Using cuda, model: cuda:0, data: cuda:0\n"
          ]
        },
        {
          "output_type": "stream",
          "name": "stderr",
          "text": [
            "Training Epochs:  11%|█         | 108/1000 [00:01<00:11, 75.36it/s]\n"
          ]
        },
        {
          "output_type": "stream",
          "name": "stdout",
          "text": [
            "\n",
            "Training completed.\n",
            "Best Validation at Epoch: 9\n",
            "Best Val Acc: 0.6840, Best Val Loss: 0.9787\n",
            "\n",
            "Run: 2\n",
            "Using cuda, model: cuda:0, data: cuda:0\n"
          ]
        },
        {
          "output_type": "stream",
          "name": "stderr",
          "text": [
            "Training Epochs:  11%|█         | 108/1000 [00:01<00:11, 75.01it/s]\n"
          ]
        },
        {
          "output_type": "stream",
          "name": "stdout",
          "text": [
            "\n",
            "Training completed.\n",
            "Best Validation at Epoch: 9\n",
            "Best Val Acc: 0.6960, Best Val Loss: 0.9329\n",
            "\n",
            "Run: 3\n",
            "Using cuda, model: cuda:0, data: cuda:0\n"
          ]
        },
        {
          "output_type": "stream",
          "name": "stderr",
          "text": [
            "Training Epochs:  11%|█         | 109/1000 [00:01<00:11, 75.40it/s]\n"
          ]
        },
        {
          "output_type": "stream",
          "name": "stdout",
          "text": [
            "\n",
            "Training completed.\n",
            "Best Validation at Epoch: 10\n",
            "Best Val Acc: 0.6720, Best Val Loss: 0.9904\n",
            "\n",
            "Run: 4\n",
            "Using cuda, model: cuda:0, data: cuda:0\n"
          ]
        },
        {
          "output_type": "stream",
          "name": "stderr",
          "text": [
            "Training Epochs:  11%|█         | 109/1000 [00:01<00:13, 67.79it/s]\n"
          ]
        },
        {
          "output_type": "stream",
          "name": "stdout",
          "text": [
            "\n",
            "Training completed.\n",
            "Best Validation at Epoch: 10\n",
            "Best Val Acc: 0.6980, Best Val Loss: 0.9232\n",
            "\n",
            "Run: 5\n",
            "Using cuda, model: cuda:0, data: cuda:0\n"
          ]
        },
        {
          "output_type": "stream",
          "name": "stderr",
          "text": [
            "Training Epochs:  11%|█         | 108/1000 [00:01<00:15, 59.10it/s]\n"
          ]
        },
        {
          "output_type": "stream",
          "name": "stdout",
          "text": [
            "\n",
            "Training completed.\n",
            "Best Validation at Epoch: 9\n",
            "Best Val Acc: 0.7140, Best Val Loss: 0.9808\n",
            "\n",
            "Run: 6\n",
            "Using cuda, model: cuda:0, data: cuda:0\n"
          ]
        },
        {
          "output_type": "stream",
          "name": "stderr",
          "text": [
            "Training Epochs:  11%|█         | 109/1000 [00:01<00:13, 63.66it/s]\n"
          ]
        },
        {
          "output_type": "stream",
          "name": "stdout",
          "text": [
            "\n",
            "Training completed.\n",
            "Best Validation at Epoch: 10\n",
            "Best Val Acc: 0.7100, Best Val Loss: 0.9640\n",
            "\n",
            "Run: 7\n",
            "Using cuda, model: cuda:0, data: cuda:0\n"
          ]
        },
        {
          "output_type": "stream",
          "name": "stderr",
          "text": [
            "Training Epochs:  11%|█         | 108/1000 [00:01<00:11, 76.53it/s]\n"
          ]
        },
        {
          "output_type": "stream",
          "name": "stdout",
          "text": [
            "\n",
            "Training completed.\n",
            "Best Validation at Epoch: 9\n",
            "Best Val Acc: 0.6720, Best Val Loss: 1.0372\n",
            "\n",
            "Run: 8\n",
            "Using cuda, model: cuda:0, data: cuda:0\n"
          ]
        },
        {
          "output_type": "stream",
          "name": "stderr",
          "text": [
            "Training Epochs:  11%|█         | 108/1000 [00:01<00:11, 75.79it/s]\n"
          ]
        },
        {
          "output_type": "stream",
          "name": "stdout",
          "text": [
            "\n",
            "Training completed.\n",
            "Best Validation at Epoch: 9\n",
            "Best Val Acc: 0.7020, Best Val Loss: 0.9963\n",
            "\n",
            "Run: 9\n",
            "Using cuda, model: cuda:0, data: cuda:0\n"
          ]
        },
        {
          "output_type": "stream",
          "name": "stderr",
          "text": [
            "Training Epochs:  11%|█         | 109/1000 [00:01<00:11, 75.69it/s]\n"
          ]
        },
        {
          "output_type": "stream",
          "name": "stdout",
          "text": [
            "\n",
            "Training completed.\n",
            "Best Validation at Epoch: 10\n",
            "Best Val Acc: 0.7020, Best Val Loss: 0.9458\n",
            "\n",
            "Run: 10\n",
            "Using cuda, model: cuda:0, data: cuda:0\n"
          ]
        },
        {
          "output_type": "stream",
          "name": "stderr",
          "text": [
            "Training Epochs:  11%|█         | 108/1000 [00:01<00:11, 76.47it/s]"
          ]
        },
        {
          "output_type": "stream",
          "name": "stdout",
          "text": [
            "\n",
            "Training completed.\n",
            "Best Validation at Epoch: 9\n",
            "Best Val Acc: 0.6860, Best Val Loss: 1.0221\n",
            "\n",
            "Number of Runs: 10\n",
            "Average Accuracy: 0.6830, Std of Accuracy: 0.0175, Average Loss: 0.9771, Std of Loss: 0.0368\n"
          ]
        },
        {
          "output_type": "stream",
          "name": "stderr",
          "text": [
            "\n"
          ]
        }
      ],
      "source": [
        "num_runs = 10\n",
        "cite_models = create_models(GAT1, num_runs, cite_data)\n",
        "\n",
        "cite_val_stats = val_stats(cite_models, cite_data, cite_data.val_mask,\n",
        "                           loss_fn)\n",
        "avg_acc, std_acc, avg_loss, std_loss, acc_tensor, loss_tensor = cite_val_stats\n",
        "print(f\"Number of Runs: {len(acc_tensor)}\")\n",
        "print(f\"Average Accuracy: {avg_acc:.4f}, Std of Accuracy: {std_acc:.4f}, Average Loss: {avg_loss:.4f}, Std of Loss: {std_loss:.4f}\")"
      ]
    },
    {
      "cell_type": "code",
      "execution_count": 165,
      "id": "56f360cc-bdb5-427a-850d-1e483e3d3b2c",
      "metadata": {
        "colab": {
          "base_uri": "https://localhost:8080/"
        },
        "id": "56f360cc-bdb5-427a-850d-1e483e3d3b2c",
        "outputId": "9fbc8af1-7c06-464c-ff6b-e43f2ed1edcf"
      },
      "outputs": [
        {
          "output_type": "stream",
          "name": "stdout",
          "text": [
            "Model Summary: GAT1\n",
            "\n",
            "\n",
            "Total number of params: 96661\n",
            "\n",
            "Model Summary: GAT1\n",
            "\n",
            "\n",
            "Total number of params: 241874\n"
          ]
        }
      ],
      "source": [
        "summarize(cora_models[0])\n",
        "print()\n",
        "summarize(cite_models[0])"
      ]
    },
    {
      "cell_type": "code",
      "execution_count": 158,
      "id": "5b2ccc17-3cfe-4b58-b0d7-0c6b8c25701b",
      "metadata": {
        "id": "5b2ccc17-3cfe-4b58-b0d7-0c6b8c25701b"
      },
      "outputs": [],
      "source": [
        "# Define the GAT model\n",
        "from torch.nn import TransformerEncoderLayer\n",
        "\n",
        "# d_model = 64\n",
        "\n",
        "class GAT2(torch.nn.Module):\n",
        "    # hidden channels will be the embedding dimension for each attention head\n",
        "    # after applying the first GAT layer.\n",
        "    def __init__(self, in_channels, hidden_channels,\n",
        "                 num_heads, dropout_rate, num_classes):\n",
        "        super().__init__()\n",
        "\n",
        "        self.dropout_rate = dropout_rate\n",
        "\n",
        "        self.hidden_channels = hidden_channels\n",
        "        self.num_heads = num_heads\n",
        "        self.num_classes = num_classes\n",
        "\n",
        "        self.conv1 = GATConv(in_channels, hidden_channels, heads=num_heads,\n",
        "                                dropout=dropout_rate)\n",
        "\n",
        "        self.encoder1 = TransformerEncoderLayer(\n",
        "            d_model=hidden_channels*num_heads, nhead=num_heads,\n",
        "            dropout=dropout_rate, batch_first=True)\n",
        "\n",
        "        self.conv2 = GATConv(hidden_channels*num_heads, num_classes,\n",
        "                                dropout=dropout_rate, concat=False)\n",
        "\n",
        "    def forward(self, x, edge_index):\n",
        "        out = F.dropout(x, p=self.dropout_rate, training=self.training)\n",
        "        out = self.conv1(out, edge_index)\n",
        "        assert out.shape[-1] == self.hidden_channels * self.num_heads\n",
        "        out = F.elu(out)\n",
        "\n",
        "        out = F.dropout(out, p=self.dropout_rate, training=self.training)\n",
        "        out = out.unsqueeze(0)\n",
        "        out = self.encoder1(out)\n",
        "        out = out.squeeze(0)\n",
        "\n",
        "        out = F.dropout(out, p=self.dropout_rate, training=self.training)\n",
        "        out = self.conv2(out, edge_index)\n",
        "        assert out.shape[-1] == self.num_classes\n",
        "\n",
        "        return out"
      ]
    },
    {
      "cell_type": "code",
      "execution_count": 159,
      "id": "6f173012-9873-4bd8-a3c3-33fa8a7ae132",
      "metadata": {
        "colab": {
          "base_uri": "https://localhost:8080/"
        },
        "id": "6f173012-9873-4bd8-a3c3-33fa8a7ae132",
        "outputId": "6c2691f1-f644-467e-d1fa-78f4f8447b78"
      },
      "outputs": [
        {
          "output_type": "stream",
          "name": "stdout",
          "text": [
            "Run: 1\n",
            "Using cuda, model: cuda:0, data: cuda:0\n"
          ]
        },
        {
          "output_type": "stream",
          "name": "stderr",
          "text": [
            "Training Epochs:  11%|█         | 112/1000 [00:03<00:30, 29.46it/s]\n"
          ]
        },
        {
          "output_type": "stream",
          "name": "stdout",
          "text": [
            "\n",
            "Training completed.\n",
            "Best Validation at Epoch: 13\n",
            "Best Val Acc: 0.7680, Best Val Loss: 0.7504\n",
            "\n",
            "Run: 2\n",
            "Using cuda, model: cuda:0, data: cuda:0\n"
          ]
        },
        {
          "output_type": "stream",
          "name": "stderr",
          "text": [
            "Training Epochs:  18%|█▊        | 183/1000 [00:05<00:26, 31.14it/s]\n"
          ]
        },
        {
          "output_type": "stream",
          "name": "stdout",
          "text": [
            "\n",
            "Training completed.\n",
            "Best Validation at Epoch: 84\n",
            "Best Val Acc: 0.7700, Best Val Loss: 0.7882\n",
            "\n",
            "Run: 3\n",
            "Using cuda, model: cuda:0, data: cuda:0\n"
          ]
        },
        {
          "output_type": "stream",
          "name": "stderr",
          "text": [
            "Training Epochs:  12%|█▏        | 121/1000 [00:03<00:27, 31.88it/s]\n"
          ]
        },
        {
          "output_type": "stream",
          "name": "stdout",
          "text": [
            "\n",
            "Training completed.\n",
            "Best Validation at Epoch: 22\n",
            "Best Val Acc: 0.7940, Best Val Loss: 0.7453\n",
            "\n",
            "Run: 4\n",
            "Using cuda, model: cuda:0, data: cuda:0\n"
          ]
        },
        {
          "output_type": "stream",
          "name": "stderr",
          "text": [
            "Training Epochs:  12%|█▏        | 124/1000 [00:03<00:28, 31.17it/s]\n"
          ]
        },
        {
          "output_type": "stream",
          "name": "stdout",
          "text": [
            "\n",
            "Training completed.\n",
            "Best Validation at Epoch: 25\n",
            "Best Val Acc: 0.7980, Best Val Loss: 0.7535\n",
            "\n",
            "Run: 5\n",
            "Using cuda, model: cuda:0, data: cuda:0\n"
          ]
        },
        {
          "output_type": "stream",
          "name": "stderr",
          "text": [
            "Training Epochs:  13%|█▎        | 127/1000 [00:04<00:29, 30.08it/s]\n"
          ]
        },
        {
          "output_type": "stream",
          "name": "stdout",
          "text": [
            "\n",
            "Training completed.\n",
            "Best Validation at Epoch: 28\n",
            "Best Val Acc: 0.7960, Best Val Loss: 0.6676\n",
            "\n",
            "Run: 6\n",
            "Using cuda, model: cuda:0, data: cuda:0\n"
          ]
        },
        {
          "output_type": "stream",
          "name": "stderr",
          "text": [
            "Training Epochs:  12%|█▏        | 122/1000 [00:03<00:27, 31.48it/s]\n"
          ]
        },
        {
          "output_type": "stream",
          "name": "stdout",
          "text": [
            "\n",
            "Training completed.\n",
            "Best Validation at Epoch: 23\n",
            "Best Val Acc: 0.7660, Best Val Loss: 0.8496\n",
            "\n",
            "Run: 7\n",
            "Using cuda, model: cuda:0, data: cuda:0\n"
          ]
        },
        {
          "output_type": "stream",
          "name": "stderr",
          "text": [
            "Training Epochs:  12%|█▏        | 120/1000 [00:03<00:27, 31.66it/s]\n"
          ]
        },
        {
          "output_type": "stream",
          "name": "stdout",
          "text": [
            "\n",
            "Training completed.\n",
            "Best Validation at Epoch: 21\n",
            "Best Val Acc: 0.7720, Best Val Loss: 0.7588\n",
            "\n",
            "Run: 8\n",
            "Using cuda, model: cuda:0, data: cuda:0\n"
          ]
        },
        {
          "output_type": "stream",
          "name": "stderr",
          "text": [
            "Training Epochs:  13%|█▎        | 130/1000 [00:04<00:29, 29.56it/s]\n"
          ]
        },
        {
          "output_type": "stream",
          "name": "stdout",
          "text": [
            "\n",
            "Training completed.\n",
            "Best Validation at Epoch: 31\n",
            "Best Val Acc: 0.8040, Best Val Loss: 0.6514\n",
            "\n",
            "Run: 9\n",
            "Using cuda, model: cuda:0, data: cuda:0\n"
          ]
        },
        {
          "output_type": "stream",
          "name": "stderr",
          "text": [
            "Training Epochs:  12%|█▏        | 116/1000 [00:03<00:28, 31.22it/s]\n"
          ]
        },
        {
          "output_type": "stream",
          "name": "stdout",
          "text": [
            "\n",
            "Training completed.\n",
            "Best Validation at Epoch: 17\n",
            "Best Val Acc: 0.8040, Best Val Loss: 0.8021\n",
            "\n",
            "Run: 10\n",
            "Using cuda, model: cuda:0, data: cuda:0\n"
          ]
        },
        {
          "output_type": "stream",
          "name": "stderr",
          "text": [
            "Training Epochs:  13%|█▎        | 130/1000 [00:04<00:27, 31.70it/s]"
          ]
        },
        {
          "output_type": "stream",
          "name": "stdout",
          "text": [
            "\n",
            "Training completed.\n",
            "Best Validation at Epoch: 31\n",
            "Best Val Acc: 0.7980, Best Val Loss: 0.7121\n",
            "\n",
            "Number of Runs: 10\n",
            "Average Accuracy: 0.7862, Std of Accuracy: 0.0171, Average Loss: 0.9622, Std of Loss: 0.2227\n"
          ]
        },
        {
          "output_type": "stream",
          "name": "stderr",
          "text": [
            "\n"
          ]
        }
      ],
      "source": [
        "num_runs = 10\n",
        "cora_models = create_models(GAT2, num_runs, cora_data)\n",
        "\n",
        "cora_val_stats = val_stats(cora_models, cora_data, cora_data.val_mask,\n",
        "                           loss_fn)\n",
        "avg_acc, std_acc, avg_loss, std_loss, acc_tensor, loss_tensor = cora_val_stats\n",
        "print(f\"Number of Runs: {len(acc_tensor)}\")\n",
        "print(f\"Average Accuracy: {avg_acc:.4f}, Std of Accuracy: {std_acc:.4f}, Average Loss: {avg_loss:.4f}, Std of Loss: {std_loss:.4f}\")"
      ]
    },
    {
      "cell_type": "code",
      "source": [
        "num_runs = 10\n",
        "cite_models = create_models(GAT2, num_runs, cite_data)\n",
        "\n",
        "cite_val_stats = val_stats(cite_models, cite_data, cite_data.val_mask,\n",
        "                           loss_fn)\n",
        "avg_acc, std_acc, avg_loss, std_loss, acc_tensor, loss_tensor = cite_val_stats\n",
        "print(f\"Number of Runs: {len(acc_tensor)}\")\n",
        "print(f\"Average Accuracy: {avg_acc:.4f}, Std of Accuracy: {std_acc:.4f}, Average Loss: {avg_loss:.4f}, Std of Loss: {std_loss:.4f}\")"
      ],
      "metadata": {
        "colab": {
          "base_uri": "https://localhost:8080/"
        },
        "id": "ipvy8WB9PsWR",
        "outputId": "ad0e5226-3955-4777-e0f2-ea8158cc3748"
      },
      "id": "ipvy8WB9PsWR",
      "execution_count": 160,
      "outputs": [
        {
          "output_type": "stream",
          "name": "stdout",
          "text": [
            "Run: 1\n",
            "Using cuda, model: cuda:0, data: cuda:0\n"
          ]
        },
        {
          "output_type": "stream",
          "name": "stderr",
          "text": [
            "Training Epochs:  11%|█         | 111/1000 [00:05<00:41, 21.47it/s]\n"
          ]
        },
        {
          "output_type": "stream",
          "name": "stdout",
          "text": [
            "\n",
            "Training completed.\n",
            "Best Validation at Epoch: 12\n",
            "Best Val Acc: 0.6940, Best Val Loss: 1.1635\n",
            "\n",
            "Run: 2\n",
            "Using cuda, model: cuda:0, data: cuda:0\n"
          ]
        },
        {
          "output_type": "stream",
          "name": "stderr",
          "text": [
            "Training Epochs:  12%|█▏        | 121/1000 [00:05<00:38, 22.70it/s]\n"
          ]
        },
        {
          "output_type": "stream",
          "name": "stdout",
          "text": [
            "\n",
            "Training completed.\n",
            "Best Validation at Epoch: 22\n",
            "Best Val Acc: 0.6900, Best Val Loss: 0.9786\n",
            "\n",
            "Run: 3\n",
            "Using cuda, model: cuda:0, data: cuda:0\n"
          ]
        },
        {
          "output_type": "stream",
          "name": "stderr",
          "text": [
            "Training Epochs:  11%|█▏        | 113/1000 [00:05<00:40, 22.01it/s]\n"
          ]
        },
        {
          "output_type": "stream",
          "name": "stdout",
          "text": [
            "\n",
            "Training completed.\n",
            "Best Validation at Epoch: 14\n",
            "Best Val Acc: 0.7080, Best Val Loss: 0.8769\n",
            "\n",
            "Run: 4\n",
            "Using cuda, model: cuda:0, data: cuda:0\n"
          ]
        },
        {
          "output_type": "stream",
          "name": "stderr",
          "text": [
            "Training Epochs:  11%|█▏        | 114/1000 [00:05<00:39, 22.22it/s]\n"
          ]
        },
        {
          "output_type": "stream",
          "name": "stdout",
          "text": [
            "\n",
            "Training completed.\n",
            "Best Validation at Epoch: 15\n",
            "Best Val Acc: 0.7060, Best Val Loss: 0.9190\n",
            "\n",
            "Run: 5\n",
            "Using cuda, model: cuda:0, data: cuda:0\n"
          ]
        },
        {
          "output_type": "stream",
          "name": "stderr",
          "text": [
            "Training Epochs:  11%|█▏        | 113/1000 [00:05<00:39, 22.39it/s]\n"
          ]
        },
        {
          "output_type": "stream",
          "name": "stdout",
          "text": [
            "\n",
            "Training completed.\n",
            "Best Validation at Epoch: 14\n",
            "Best Val Acc: 0.6860, Best Val Loss: 1.1320\n",
            "\n",
            "Run: 6\n",
            "Using cuda, model: cuda:0, data: cuda:0\n"
          ]
        },
        {
          "output_type": "stream",
          "name": "stderr",
          "text": [
            "Training Epochs:  12%|█▏        | 117/1000 [00:05<00:41, 21.46it/s]\n"
          ]
        },
        {
          "output_type": "stream",
          "name": "stdout",
          "text": [
            "\n",
            "Training completed.\n",
            "Best Validation at Epoch: 18\n",
            "Best Val Acc: 0.6680, Best Val Loss: 1.0572\n",
            "\n",
            "Run: 7\n",
            "Using cuda, model: cuda:0, data: cuda:0\n"
          ]
        },
        {
          "output_type": "stream",
          "name": "stderr",
          "text": [
            "Training Epochs:  12%|█▏        | 117/1000 [00:05<00:39, 22.28it/s]\n"
          ]
        },
        {
          "output_type": "stream",
          "name": "stdout",
          "text": [
            "\n",
            "Training completed.\n",
            "Best Validation at Epoch: 18\n",
            "Best Val Acc: 0.6780, Best Val Loss: 1.0836\n",
            "\n",
            "Run: 8\n",
            "Using cuda, model: cuda:0, data: cuda:0\n"
          ]
        },
        {
          "output_type": "stream",
          "name": "stderr",
          "text": [
            "Training Epochs:  11%|█         | 111/1000 [00:05<00:40, 22.18it/s]\n"
          ]
        },
        {
          "output_type": "stream",
          "name": "stdout",
          "text": [
            "\n",
            "Training completed.\n",
            "Best Validation at Epoch: 12\n",
            "Best Val Acc: 0.6780, Best Val Loss: 1.0518\n",
            "\n",
            "Run: 9\n",
            "Using cuda, model: cuda:0, data: cuda:0\n"
          ]
        },
        {
          "output_type": "stream",
          "name": "stderr",
          "text": [
            "Training Epochs:  11%|█▏        | 114/1000 [00:05<00:40, 21.82it/s]\n"
          ]
        },
        {
          "output_type": "stream",
          "name": "stdout",
          "text": [
            "\n",
            "Training completed.\n",
            "Best Validation at Epoch: 15\n",
            "Best Val Acc: 0.6980, Best Val Loss: 0.9485\n",
            "\n",
            "Run: 10\n",
            "Using cuda, model: cuda:0, data: cuda:0\n"
          ]
        },
        {
          "output_type": "stream",
          "name": "stderr",
          "text": [
            "Training Epochs:  12%|█▏        | 118/1000 [00:05<00:39, 22.52it/s]"
          ]
        },
        {
          "output_type": "stream",
          "name": "stdout",
          "text": [
            "\n",
            "Training completed.\n",
            "Best Validation at Epoch: 19\n",
            "Best Val Acc: 0.6740, Best Val Loss: 1.0578\n",
            "\n",
            "Number of Runs: 10\n",
            "Average Accuracy: 0.6876, Std of Accuracy: 0.0130, Average Loss: 1.1344, Std of Loss: 0.1639\n"
          ]
        },
        {
          "output_type": "stream",
          "name": "stderr",
          "text": [
            "\n"
          ]
        }
      ]
    },
    {
      "cell_type": "code",
      "source": [
        "summarize(cora_models[0])\n",
        "summarize(cite_models[0])"
      ],
      "metadata": {
        "colab": {
          "base_uri": "https://localhost:8080/"
        },
        "id": "tgVpsfBsDujB",
        "outputId": "f3128603-b862-4a6e-b5ea-b484b0a4ce35"
      },
      "id": "tgVpsfBsDujB",
      "execution_count": 161,
      "outputs": [
        {
          "output_type": "stream",
          "name": "stdout",
          "text": [
            "Model Summary: GAT2\n",
            "\n",
            "\n",
            "Total number of params: 373525\n",
            "Model Summary: GAT2\n",
            "\n",
            "\n",
            "Total number of params: 518738\n"
          ]
        }
      ]
    },
    {
      "cell_type": "code",
      "source": [
        "print(num_heads)\n",
        "print(emb_dim1)"
      ],
      "metadata": {
        "colab": {
          "base_uri": "https://localhost:8080/"
        },
        "id": "Lp9v2McbHthv",
        "outputId": "1fb623e8-58e8-4b81-86e9-5f16044ba49b"
      },
      "id": "Lp9v2McbHthv",
      "execution_count": 50,
      "outputs": [
        {
          "output_type": "stream",
          "name": "stdout",
          "text": [
            "8\n",
            "8\n"
          ]
        }
      ]
    },
    {
      "cell_type": "code",
      "execution_count": 153,
      "metadata": {
        "id": "ApCQLGOnD7f7"
      },
      "outputs": [],
      "source": [
        "from torch.nn import Linear\n",
        "\n",
        "class GAT3(torch.nn.Module):\n",
        "    # hidden channels will be the embedding dimension for each attention head\n",
        "    # after applying the first GAT layer.\n",
        "    def __init__(self, in_channels, hidden_channels,\n",
        "                 num_heads, dropout_rate, num_classes):\n",
        "        super().__init__()\n",
        "\n",
        "        self.dropout_rate = dropout_rate\n",
        "\n",
        "        self.hidden_channels = hidden_channels\n",
        "        self.num_heads = num_heads\n",
        "        self.num_classes = num_classes\n",
        "\n",
        "        self.conv1 = GATConv(in_channels, hidden_channels, heads=num_heads,\n",
        "                                dropout=dropout_rate)\n",
        "\n",
        "        self.conv2 = GATConv(hidden_channels*num_heads, hidden_channels,\n",
        "                             heads = num_heads,\n",
        "                             dropout=dropout_rate)\n",
        "\n",
        "        self.encoder1 = TransformerEncoderLayer(\n",
        "            d_model=hidden_channels*num_heads, nhead=num_heads,\n",
        "            dropout=0,\n",
        "            batch_first=True)\n",
        "\n",
        "        self.linear = Linear(hidden_channels*num_heads, num_classes)\n",
        "\n",
        "    def forward(self, x, edge_index):\n",
        "        out = F.dropout(x, p=self.dropout_rate, training=self.training)\n",
        "        out = self.conv1(out, edge_index)\n",
        "        assert out.shape[-1] == self.hidden_channels * self.num_heads\n",
        "        out = F.elu(out)\n",
        "\n",
        "        out = F.dropout(out, p=self.dropout_rate, training=self.training)\n",
        "        out = self.conv2(out, edge_index)\n",
        "        assert out.shape[-1] == self.hidden_channels * self.num_heads\n",
        "        out = F.elu(out)\n",
        "\n",
        "        out = F.dropout(out, p=self.dropout_rate, training=self.training)\n",
        "        out = out.unsqueeze(0)\n",
        "        out = self.encoder1(out)\n",
        "        out = out.squeeze(0)\n",
        "\n",
        "        out = F.dropout(out, p=self.dropout_rate, training=self.training)\n",
        "        out = self.linear(out)\n",
        "        assert out.shape[-1] == self.num_classes\n",
        "\n",
        "        return out"
      ],
      "id": "ApCQLGOnD7f7"
    },
    {
      "cell_type": "code",
      "source": [
        "num_runs = 10\n",
        "cora_models = create_models(GAT3, num_runs, cora_data)\n",
        "\n",
        "cora_val_stats = val_stats(cora_models, cora_data, cora_data.val_mask,\n",
        "                           loss_fn)\n",
        "avg_acc, std_acc, avg_loss, std_loss, acc_tensor, loss_tensor = cora_val_stats\n",
        "print(f\"Number of Runs: {len(acc_tensor)}\")\n",
        "print(f\"Average Accuracy: {avg_acc:.4f}, Std of Accuracy: {std_acc:.4f}, Average Loss: {avg_loss:.4f}, Std of Loss: {std_loss:.4f}\")"
      ],
      "metadata": {
        "colab": {
          "base_uri": "https://localhost:8080/"
        },
        "id": "umwoVIuBGxJ9",
        "outputId": "352a4549-c39d-46ef-baa6-64d9fb99da57"
      },
      "id": "umwoVIuBGxJ9",
      "execution_count": 157,
      "outputs": [
        {
          "output_type": "stream",
          "name": "stdout",
          "text": [
            "Run: 1\n",
            "Using cuda, model: cuda:0, data: cuda:0\n"
          ]
        },
        {
          "output_type": "stream",
          "name": "stderr",
          "text": [
            "Training Epochs:  11%|█         | 112/1000 [00:03<00:27, 32.78it/s]\n"
          ]
        },
        {
          "output_type": "stream",
          "name": "stdout",
          "text": [
            "\n",
            "Training completed.\n",
            "Best Validation at Epoch: 13\n",
            "Best Val Acc: 0.7780, Best Val Loss: 0.7881\n",
            "\n",
            "Run: 2\n",
            "Using cuda, model: cuda:0, data: cuda:0\n"
          ]
        },
        {
          "output_type": "stream",
          "name": "stderr",
          "text": [
            "Training Epochs:  16%|█▌        | 159/1000 [00:04<00:26, 32.16it/s]\n"
          ]
        },
        {
          "output_type": "stream",
          "name": "stdout",
          "text": [
            "\n",
            "Training completed.\n",
            "Best Validation at Epoch: 60\n",
            "Best Val Acc: 0.7780, Best Val Loss: 0.7661\n",
            "\n",
            "Run: 3\n",
            "Using cuda, model: cuda:0, data: cuda:0\n"
          ]
        },
        {
          "output_type": "stream",
          "name": "stderr",
          "text": [
            "Training Epochs:  12%|█▏        | 116/1000 [00:03<00:26, 33.58it/s]\n"
          ]
        },
        {
          "output_type": "stream",
          "name": "stdout",
          "text": [
            "\n",
            "Training completed.\n",
            "Best Validation at Epoch: 17\n",
            "Best Val Acc: 0.7900, Best Val Loss: 0.6894\n",
            "\n",
            "Run: 4\n",
            "Using cuda, model: cuda:0, data: cuda:0\n"
          ]
        },
        {
          "output_type": "stream",
          "name": "stderr",
          "text": [
            "Training Epochs:  13%|█▎        | 129/1000 [00:03<00:26, 33.27it/s]\n"
          ]
        },
        {
          "output_type": "stream",
          "name": "stdout",
          "text": [
            "\n",
            "Training completed.\n",
            "Best Validation at Epoch: 30\n",
            "Best Val Acc: 0.7900, Best Val Loss: 0.7591\n",
            "\n",
            "Run: 5\n",
            "Using cuda, model: cuda:0, data: cuda:0\n"
          ]
        },
        {
          "output_type": "stream",
          "name": "stderr",
          "text": [
            "Training Epochs:  12%|█▏        | 117/1000 [00:03<00:27, 32.31it/s]\n"
          ]
        },
        {
          "output_type": "stream",
          "name": "stdout",
          "text": [
            "\n",
            "Training completed.\n",
            "Best Validation at Epoch: 18\n",
            "Best Val Acc: 0.7920, Best Val Loss: 0.7674\n",
            "\n",
            "Run: 6\n",
            "Using cuda, model: cuda:0, data: cuda:0\n"
          ]
        },
        {
          "output_type": "stream",
          "name": "stderr",
          "text": [
            "Training Epochs:  12%|█▏        | 116/1000 [00:03<00:27, 32.69it/s]\n"
          ]
        },
        {
          "output_type": "stream",
          "name": "stdout",
          "text": [
            "\n",
            "Training completed.\n",
            "Best Validation at Epoch: 17\n",
            "Best Val Acc: 0.8020, Best Val Loss: 0.6430\n",
            "\n",
            "Run: 7\n",
            "Using cuda, model: cuda:0, data: cuda:0\n"
          ]
        },
        {
          "output_type": "stream",
          "name": "stderr",
          "text": [
            "Training Epochs:  13%|█▎        | 131/1000 [00:03<00:25, 34.16it/s]\n"
          ]
        },
        {
          "output_type": "stream",
          "name": "stdout",
          "text": [
            "\n",
            "Training completed.\n",
            "Best Validation at Epoch: 32\n",
            "Best Val Acc: 0.7980, Best Val Loss: 0.6805\n",
            "\n",
            "Run: 8\n",
            "Using cuda, model: cuda:0, data: cuda:0\n"
          ]
        },
        {
          "output_type": "stream",
          "name": "stderr",
          "text": [
            "Training Epochs:  15%|█▍        | 146/1000 [00:04<00:24, 34.23it/s]\n"
          ]
        },
        {
          "output_type": "stream",
          "name": "stdout",
          "text": [
            "\n",
            "Training completed.\n",
            "Best Validation at Epoch: 47\n",
            "Best Val Acc: 0.7920, Best Val Loss: 0.7750\n",
            "\n",
            "Run: 9\n",
            "Using cuda, model: cuda:0, data: cuda:0\n"
          ]
        },
        {
          "output_type": "stream",
          "name": "stderr",
          "text": [
            "Training Epochs:  12%|█▏        | 116/1000 [00:03<00:27, 31.95it/s]\n"
          ]
        },
        {
          "output_type": "stream",
          "name": "stdout",
          "text": [
            "\n",
            "Training completed.\n",
            "Best Validation at Epoch: 17\n",
            "Best Val Acc: 0.7780, Best Val Loss: 0.7249\n",
            "\n",
            "Run: 10\n",
            "Using cuda, model: cuda:0, data: cuda:0\n"
          ]
        },
        {
          "output_type": "stream",
          "name": "stderr",
          "text": [
            "Training Epochs:  11%|█▏        | 114/1000 [00:03<00:26, 33.42it/s]"
          ]
        },
        {
          "output_type": "stream",
          "name": "stdout",
          "text": [
            "\n",
            "Training completed.\n",
            "Best Validation at Epoch: 15\n",
            "Best Val Acc: 0.7840, Best Val Loss: 0.7508\n",
            "\n",
            "Number of Runs: 10\n",
            "Average Accuracy: 0.7878, Std of Accuracy: 0.0088, Average Loss: 0.9079, Std of Loss: 0.1948\n"
          ]
        },
        {
          "output_type": "stream",
          "name": "stderr",
          "text": [
            "\n"
          ]
        }
      ]
    },
    {
      "cell_type": "code",
      "source": [
        "num_runs = 10\n",
        "cite_models = create_models(GAT3, num_runs, cite_data)\n",
        "\n",
        "cite_val_stats = val_stats(cite_models, cite_data, cite_data.val_mask,\n",
        "                           loss_fn)\n",
        "avg_acc, std_acc, avg_loss, std_loss, acc_tensor, loss_tensor = cite_val_stats\n",
        "print(f\"Number of Runs: {len(acc_tensor)}\")\n",
        "print(f\"Average Accuracy: {avg_acc:.4f}, Std of Accuracy: {std_acc:.4f}, Average Loss: {avg_loss:.4f}, Std of Loss: {std_loss:.4f}\")"
      ],
      "metadata": {
        "colab": {
          "base_uri": "https://localhost:8080/"
        },
        "id": "fQiuhOpZIVHO",
        "outputId": "20576d88-4721-424e-a631-489c5d87f505"
      },
      "id": "fQiuhOpZIVHO",
      "execution_count": 155,
      "outputs": [
        {
          "output_type": "stream",
          "name": "stdout",
          "text": [
            "Run: 1\n",
            "Using cuda, model: cuda:0, data: cuda:0\n"
          ]
        },
        {
          "output_type": "stream",
          "name": "stderr",
          "text": [
            "Training Epochs:  20%|█▉        | 195/1000 [00:08<00:33, 24.34it/s]\n"
          ]
        },
        {
          "output_type": "stream",
          "name": "stdout",
          "text": [
            "\n",
            "Training completed.\n",
            "Best Validation at Epoch: 96\n",
            "Best Val Acc: 0.6760, Best Val Loss: 1.1152\n",
            "\n",
            "Run: 2\n",
            "Using cuda, model: cuda:0, data: cuda:0\n"
          ]
        },
        {
          "output_type": "stream",
          "name": "stderr",
          "text": [
            "Training Epochs:  11%|█         | 107/1000 [00:04<00:36, 24.34it/s]\n"
          ]
        },
        {
          "output_type": "stream",
          "name": "stdout",
          "text": [
            "\n",
            "Training completed.\n",
            "Best Validation at Epoch: 8\n",
            "Best Val Acc: 0.7280, Best Val Loss: 0.8998\n",
            "\n",
            "Run: 3\n",
            "Using cuda, model: cuda:0, data: cuda:0\n"
          ]
        },
        {
          "output_type": "stream",
          "name": "stderr",
          "text": [
            "Training Epochs:  11%|█         | 108/1000 [00:04<00:36, 24.74it/s]\n"
          ]
        },
        {
          "output_type": "stream",
          "name": "stdout",
          "text": [
            "\n",
            "Training completed.\n",
            "Best Validation at Epoch: 9\n",
            "Best Val Acc: 0.7000, Best Val Loss: 0.9714\n",
            "\n",
            "Run: 4\n",
            "Using cuda, model: cuda:0, data: cuda:0\n"
          ]
        },
        {
          "output_type": "stream",
          "name": "stderr",
          "text": [
            "Training Epochs:  21%|██▏       | 214/1000 [00:08<00:32, 24.36it/s]\n"
          ]
        },
        {
          "output_type": "stream",
          "name": "stdout",
          "text": [
            "\n",
            "Training completed.\n",
            "Best Validation at Epoch: 115\n",
            "Best Val Acc: 0.6820, Best Val Loss: 1.1127\n",
            "\n",
            "Run: 5\n",
            "Using cuda, model: cuda:0, data: cuda:0\n"
          ]
        },
        {
          "output_type": "stream",
          "name": "stderr",
          "text": [
            "Training Epochs:  11%|█         | 110/1000 [00:04<00:35, 24.78it/s]\n"
          ]
        },
        {
          "output_type": "stream",
          "name": "stdout",
          "text": [
            "\n",
            "Training completed.\n",
            "Best Validation at Epoch: 11\n",
            "Best Val Acc: 0.6680, Best Val Loss: 1.0450\n",
            "\n",
            "Run: 6\n",
            "Using cuda, model: cuda:0, data: cuda:0\n"
          ]
        },
        {
          "output_type": "stream",
          "name": "stderr",
          "text": [
            "Training Epochs:  11%|█         | 107/1000 [00:04<00:36, 24.62it/s]\n"
          ]
        },
        {
          "output_type": "stream",
          "name": "stdout",
          "text": [
            "\n",
            "Training completed.\n",
            "Best Validation at Epoch: 8\n",
            "Best Val Acc: 0.6840, Best Val Loss: 1.0414\n",
            "\n",
            "Run: 7\n",
            "Using cuda, model: cuda:0, data: cuda:0\n"
          ]
        },
        {
          "output_type": "stream",
          "name": "stderr",
          "text": [
            "Training Epochs:  11%|█         | 107/1000 [00:04<00:37, 23.89it/s]\n"
          ]
        },
        {
          "output_type": "stream",
          "name": "stdout",
          "text": [
            "\n",
            "Training completed.\n",
            "Best Validation at Epoch: 8\n",
            "Best Val Acc: 0.7140, Best Val Loss: 0.9713\n",
            "\n",
            "Run: 8\n",
            "Using cuda, model: cuda:0, data: cuda:0\n"
          ]
        },
        {
          "output_type": "stream",
          "name": "stderr",
          "text": [
            "Training Epochs:  11%|█▏        | 113/1000 [00:04<00:35, 24.85it/s]\n"
          ]
        },
        {
          "output_type": "stream",
          "name": "stdout",
          "text": [
            "\n",
            "Training completed.\n",
            "Best Validation at Epoch: 14\n",
            "Best Val Acc: 0.6820, Best Val Loss: 1.0086\n",
            "\n",
            "Run: 9\n",
            "Using cuda, model: cuda:0, data: cuda:0\n"
          ]
        },
        {
          "output_type": "stream",
          "name": "stderr",
          "text": [
            "Training Epochs:  11%|█         | 109/1000 [00:04<00:36, 24.50it/s]\n"
          ]
        },
        {
          "output_type": "stream",
          "name": "stdout",
          "text": [
            "\n",
            "Training completed.\n",
            "Best Validation at Epoch: 10\n",
            "Best Val Acc: 0.7200, Best Val Loss: 0.9439\n",
            "\n",
            "Run: 10\n",
            "Using cuda, model: cuda:0, data: cuda:0\n"
          ]
        },
        {
          "output_type": "stream",
          "name": "stderr",
          "text": [
            "Training Epochs:  11%|█         | 110/1000 [00:04<00:37, 23.64it/s]\n"
          ]
        },
        {
          "output_type": "stream",
          "name": "stdout",
          "text": [
            "\n",
            "Training completed.\n",
            "Best Validation at Epoch: 11\n",
            "Best Val Acc: 0.6680, Best Val Loss: 1.0113\n",
            "\n",
            "Number of Runs: 10\n",
            "Average Accuracy: 0.6918, Std of Accuracy: 0.0224, Average Loss: 1.2020, Std of Loss: 0.3678\n"
          ]
        }
      ]
    },
    {
      "cell_type": "code",
      "source": [
        "summarize(cora_models[0])\n",
        "print()\n",
        "summarize(cite_models[0])"
      ],
      "metadata": {
        "colab": {
          "base_uri": "https://localhost:8080/"
        },
        "id": "UXTECTB7JPXW",
        "outputId": "8a91437e-b517-4498-bf1c-2d975b22cb4e"
      },
      "id": "UXTECTB7JPXW",
      "execution_count": 156,
      "outputs": [
        {
          "output_type": "stream",
          "name": "stdout",
          "text": [
            "Model Summary: GAT3\n",
            "\n",
            "\n",
            "Total number of params: 377799\n",
            "\n",
            "Model Summary: GAT3\n",
            "\n",
            "\n",
            "Total number of params: 523014\n"
          ]
        }
      ]
    },
    {
      "cell_type": "code",
      "source": [
        "from torch_geometric.nn import TransformerConv\n",
        "\n",
        "class GAT4(torch.nn.Module):\n",
        "    # hidden channels will be the embedding dimension for each attention head\n",
        "    # after applying the first GAT layer.\n",
        "    def __init__(self, in_channels, hidden_channels,\n",
        "                 num_heads, dropout_rate, num_classes):\n",
        "        super().__init__()\n",
        "\n",
        "        self.dropout_rate = dropout_rate\n",
        "\n",
        "        self.hidden_channels = hidden_channels\n",
        "        self.num_heads = num_heads\n",
        "        self.num_classes = num_classes\n",
        "\n",
        "        self.encoder1 = TransformerConv(in_channels, hidden_channels,\n",
        "                                        heads=num_heads, dropout=dropout_rate)\n",
        "\n",
        "        self.encoder2 = TransformerConv(hidden_channels*num_heads,\n",
        "                                        num_classes, heads = num_heads,\n",
        "                                        concat=False, dropout=dropout_rate)\n",
        "\n",
        "    def forward(self, x, edge_index):\n",
        "        out = F.dropout(x, p=self.dropout_rate, training=self.training)\n",
        "        out = self.encoder1(out, edge_index)\n",
        "        assert out.shape[-1] == self.hidden_channels * self.num_heads\n",
        "        out = F.elu(out)\n",
        "\n",
        "        out = F.dropout(out, p=self.dropout_rate, training=self.training)\n",
        "        out = self.encoder2(out, edge_index)\n",
        "        assert out.shape[-1] == self.num_classes\n",
        "\n",
        "        return out"
      ],
      "metadata": {
        "id": "7MmyYKVUKIcG"
      },
      "id": "7MmyYKVUKIcG",
      "execution_count": 143,
      "outputs": []
    },
    {
      "cell_type": "code",
      "source": [
        "num_runs = 10\n",
        "cora_models = create_models(GAT4, num_runs, cora_data)\n",
        "\n",
        "cora_val_stats = val_stats(cora_models, cora_data, cora_data.val_mask,\n",
        "                           loss_fn)\n",
        "avg_acc, std_acc, avg_loss, std_loss, acc_tensor, loss_tensor = cora_val_stats\n",
        "print(f\"Number of Runs: {len(acc_tensor)}\")\n",
        "print(f\"Average Accuracy: {avg_acc:.4f}, Std of Accuracy: {std_acc:.4f}, Average Loss: {avg_loss:.4f}, Std of Loss: {std_loss:.4f}\")"
      ],
      "metadata": {
        "colab": {
          "base_uri": "https://localhost:8080/"
        },
        "id": "mlYh37syNcX8",
        "outputId": "64cad63a-0ab4-4bdc-b37e-cbf27dde4647"
      },
      "id": "mlYh37syNcX8",
      "execution_count": 144,
      "outputs": [
        {
          "output_type": "stream",
          "name": "stdout",
          "text": [
            "Run: 1\n",
            "Using cuda, model: cuda:0, data: cuda:0\n"
          ]
        },
        {
          "output_type": "stream",
          "name": "stderr",
          "text": [
            "Training Epochs:  12%|█▏        | 119/1000 [00:01<00:08, 98.74it/s] \n"
          ]
        },
        {
          "output_type": "stream",
          "name": "stdout",
          "text": [
            "\n",
            "Training completed.\n",
            "Best Validation at Epoch: 20\n",
            "Best Val Acc: 0.7780, Best Val Loss: 0.7264\n",
            "\n",
            "Run: 2\n",
            "Using cuda, model: cuda:0, data: cuda:0\n"
          ]
        },
        {
          "output_type": "stream",
          "name": "stderr",
          "text": [
            "Training Epochs:  20%|██        | 205/1000 [00:02<00:07, 99.61it/s] \n"
          ]
        },
        {
          "output_type": "stream",
          "name": "stdout",
          "text": [
            "\n",
            "Training completed.\n",
            "Best Validation at Epoch: 106\n",
            "Best Val Acc: 0.7860, Best Val Loss: 0.7046\n",
            "\n",
            "Run: 3\n",
            "Using cuda, model: cuda:0, data: cuda:0\n"
          ]
        },
        {
          "output_type": "stream",
          "name": "stderr",
          "text": [
            "Training Epochs:  14%|█▍        | 141/1000 [00:01<00:08, 98.42it/s] \n"
          ]
        },
        {
          "output_type": "stream",
          "name": "stdout",
          "text": [
            "\n",
            "Training completed.\n",
            "Best Validation at Epoch: 42\n",
            "Best Val Acc: 0.7760, Best Val Loss: 0.7238\n",
            "\n",
            "Run: 4\n",
            "Using cuda, model: cuda:0, data: cuda:0\n"
          ]
        },
        {
          "output_type": "stream",
          "name": "stderr",
          "text": [
            "Training Epochs:  13%|█▎        | 132/1000 [00:01<00:08, 97.54it/s] \n"
          ]
        },
        {
          "output_type": "stream",
          "name": "stdout",
          "text": [
            "\n",
            "Training completed.\n",
            "Best Validation at Epoch: 33\n",
            "Best Val Acc: 0.7720, Best Val Loss: 0.7090\n",
            "\n",
            "Run: 5\n",
            "Using cuda, model: cuda:0, data: cuda:0\n"
          ]
        },
        {
          "output_type": "stream",
          "name": "stderr",
          "text": [
            "Training Epochs:  12%|█▏        | 120/1000 [00:01<00:11, 75.04it/s]\n"
          ]
        },
        {
          "output_type": "stream",
          "name": "stdout",
          "text": [
            "\n",
            "Training completed.\n",
            "Best Validation at Epoch: 21\n",
            "Best Val Acc: 0.7760, Best Val Loss: 0.6769\n",
            "\n",
            "Run: 6\n",
            "Using cuda, model: cuda:0, data: cuda:0\n"
          ]
        },
        {
          "output_type": "stream",
          "name": "stderr",
          "text": [
            "Training Epochs:  12%|█▏        | 122/1000 [00:01<00:11, 75.35it/s]\n"
          ]
        },
        {
          "output_type": "stream",
          "name": "stdout",
          "text": [
            "\n",
            "Training completed.\n",
            "Best Validation at Epoch: 23\n",
            "Best Val Acc: 0.7740, Best Val Loss: 0.6962\n",
            "\n",
            "Run: 7\n",
            "Using cuda, model: cuda:0, data: cuda:0\n"
          ]
        },
        {
          "output_type": "stream",
          "name": "stderr",
          "text": [
            "Training Epochs:  30%|██▉       | 295/1000 [00:03<00:07, 94.19it/s] \n"
          ]
        },
        {
          "output_type": "stream",
          "name": "stdout",
          "text": [
            "\n",
            "Training completed.\n",
            "Best Validation at Epoch: 196\n",
            "Best Val Acc: 0.7740, Best Val Loss: 0.7402\n",
            "\n",
            "Run: 8\n",
            "Using cuda, model: cuda:0, data: cuda:0\n"
          ]
        },
        {
          "output_type": "stream",
          "name": "stderr",
          "text": [
            "Training Epochs:  12%|█▎        | 125/1000 [00:01<00:08, 98.64it/s] \n"
          ]
        },
        {
          "output_type": "stream",
          "name": "stdout",
          "text": [
            "\n",
            "Training completed.\n",
            "Best Validation at Epoch: 26\n",
            "Best Val Acc: 0.7760, Best Val Loss: 0.7104\n",
            "\n",
            "Run: 9\n",
            "Using cuda, model: cuda:0, data: cuda:0\n"
          ]
        },
        {
          "output_type": "stream",
          "name": "stderr",
          "text": [
            "Training Epochs:  19%|█▊        | 187/1000 [00:01<00:08, 97.29it/s] \n"
          ]
        },
        {
          "output_type": "stream",
          "name": "stdout",
          "text": [
            "\n",
            "Training completed.\n",
            "Best Validation at Epoch: 88\n",
            "Best Val Acc: 0.7700, Best Val Loss: 0.7201\n",
            "\n",
            "Run: 10\n",
            "Using cuda, model: cuda:0, data: cuda:0\n"
          ]
        },
        {
          "output_type": "stream",
          "name": "stderr",
          "text": [
            "Training Epochs:  26%|██▌       | 262/1000 [00:02<00:07, 99.45it/s] "
          ]
        },
        {
          "output_type": "stream",
          "name": "stdout",
          "text": [
            "\n",
            "Training completed.\n",
            "Best Validation at Epoch: 163\n",
            "Best Val Acc: 0.7720, Best Val Loss: 0.7193\n",
            "\n",
            "Number of Runs: 10\n",
            "Average Accuracy: 0.7706, Std of Accuracy: 0.0054, Average Loss: 0.7231, Std of Loss: 0.0247\n"
          ]
        },
        {
          "output_type": "stream",
          "name": "stderr",
          "text": [
            "\n"
          ]
        }
      ]
    },
    {
      "cell_type": "code",
      "source": [
        "num_runs = 10\n",
        "cite_models = create_models(GAT4, num_runs, cite_data)\n",
        "\n",
        "cite_val_stats = val_stats(cite_models, cite_data, cite_data.val_mask,\n",
        "                           loss_fn)\n",
        "avg_acc, std_acc, avg_loss, std_loss, acc_tensor, loss_tensor = cite_val_stats\n",
        "print(f\"Number of Runs: {len(acc_tensor)}\")\n",
        "print(f\"Average Accuracy: {avg_acc:.4f}, Std of Accuracy: {std_acc:.4f}, Average Loss: {avg_loss:.4f}, Std of Loss: {std_loss:.4f}\")"
      ],
      "metadata": {
        "colab": {
          "base_uri": "https://localhost:8080/"
        },
        "id": "os4P2454QuUb",
        "outputId": "f575ed65-cf53-430b-a9a2-b01a3748c2c3"
      },
      "id": "os4P2454QuUb",
      "execution_count": 146,
      "outputs": [
        {
          "output_type": "stream",
          "name": "stdout",
          "text": [
            "Run: 1\n",
            "Using cuda, model: cuda:0, data: cuda:0\n"
          ]
        },
        {
          "output_type": "stream",
          "name": "stderr",
          "text": [
            "Training Epochs:  45%|████▍     | 449/1000 [00:06<00:08, 66.39it/s]\n"
          ]
        },
        {
          "output_type": "stream",
          "name": "stdout",
          "text": [
            "\n",
            "Training completed.\n",
            "Best Validation at Epoch: 350\n",
            "Best Val Acc: 0.7060, Best Val Loss: 0.9626\n",
            "\n",
            "Run: 2\n",
            "Using cuda, model: cuda:0, data: cuda:0\n"
          ]
        },
        {
          "output_type": "stream",
          "name": "stderr",
          "text": [
            "Training Epochs:  38%|███▊      | 376/1000 [00:04<00:08, 76.84it/s]\n"
          ]
        },
        {
          "output_type": "stream",
          "name": "stdout",
          "text": [
            "\n",
            "Training completed.\n",
            "Best Validation at Epoch: 277\n",
            "Best Val Acc: 0.7000, Best Val Loss: 0.9575\n",
            "\n",
            "Run: 3\n",
            "Using cuda, model: cuda:0, data: cuda:0\n"
          ]
        },
        {
          "output_type": "stream",
          "name": "stderr",
          "text": [
            "Training Epochs:  16%|█▋        | 165/1000 [00:02<00:10, 80.08it/s]\n"
          ]
        },
        {
          "output_type": "stream",
          "name": "stdout",
          "text": [
            "\n",
            "Training completed.\n",
            "Best Validation at Epoch: 66\n",
            "Best Val Acc: 0.7040, Best Val Loss: 0.9225\n",
            "\n",
            "Run: 4\n",
            "Using cuda, model: cuda:0, data: cuda:0\n"
          ]
        },
        {
          "output_type": "stream",
          "name": "stderr",
          "text": [
            "Training Epochs:  24%|██▍       | 238/1000 [00:03<00:11, 66.81it/s]\n"
          ]
        },
        {
          "output_type": "stream",
          "name": "stdout",
          "text": [
            "\n",
            "Training completed.\n",
            "Best Validation at Epoch: 139\n",
            "Best Val Acc: 0.7020, Best Val Loss: 0.9487\n",
            "\n",
            "Run: 5\n",
            "Using cuda, model: cuda:0, data: cuda:0\n"
          ]
        },
        {
          "output_type": "stream",
          "name": "stderr",
          "text": [
            "Training Epochs:  24%|██▍       | 240/1000 [00:03<00:09, 76.33it/s]\n"
          ]
        },
        {
          "output_type": "stream",
          "name": "stdout",
          "text": [
            "\n",
            "Training completed.\n",
            "Best Validation at Epoch: 141\n",
            "Best Val Acc: 0.6960, Best Val Loss: 0.9275\n",
            "\n",
            "Run: 6\n",
            "Using cuda, model: cuda:0, data: cuda:0\n"
          ]
        },
        {
          "output_type": "stream",
          "name": "stderr",
          "text": [
            "Training Epochs:  30%|██▉       | 296/1000 [00:03<00:08, 81.15it/s]\n"
          ]
        },
        {
          "output_type": "stream",
          "name": "stdout",
          "text": [
            "\n",
            "Training completed.\n",
            "Best Validation at Epoch: 197\n",
            "Best Val Acc: 0.7000, Best Val Loss: 0.9540\n",
            "\n",
            "Run: 7\n",
            "Using cuda, model: cuda:0, data: cuda:0\n"
          ]
        },
        {
          "output_type": "stream",
          "name": "stderr",
          "text": [
            "Training Epochs:  34%|███▍      | 345/1000 [00:04<00:08, 79.81it/s]\n"
          ]
        },
        {
          "output_type": "stream",
          "name": "stdout",
          "text": [
            "\n",
            "Training completed.\n",
            "Best Validation at Epoch: 246\n",
            "Best Val Acc: 0.6980, Best Val Loss: 0.9520\n",
            "\n",
            "Run: 8\n",
            "Using cuda, model: cuda:0, data: cuda:0\n"
          ]
        },
        {
          "output_type": "stream",
          "name": "stderr",
          "text": [
            "Training Epochs:  32%|███▏      | 321/1000 [00:04<00:10, 64.79it/s]\n"
          ]
        },
        {
          "output_type": "stream",
          "name": "stdout",
          "text": [
            "\n",
            "Training completed.\n",
            "Best Validation at Epoch: 222\n",
            "Best Val Acc: 0.6920, Best Val Loss: 0.9706\n",
            "\n",
            "Run: 9\n",
            "Using cuda, model: cuda:0, data: cuda:0\n"
          ]
        },
        {
          "output_type": "stream",
          "name": "stderr",
          "text": [
            "Training Epochs:  28%|██▊       | 285/1000 [00:03<00:08, 83.75it/s]\n"
          ]
        },
        {
          "output_type": "stream",
          "name": "stdout",
          "text": [
            "\n",
            "Training completed.\n",
            "Best Validation at Epoch: 186\n",
            "Best Val Acc: 0.7000, Best Val Loss: 0.9562\n",
            "\n",
            "Run: 10\n",
            "Using cuda, model: cuda:0, data: cuda:0\n"
          ]
        },
        {
          "output_type": "stream",
          "name": "stderr",
          "text": [
            "Training Epochs:  33%|███▎      | 331/1000 [00:04<00:08, 79.38it/s]\n"
          ]
        },
        {
          "output_type": "stream",
          "name": "stdout",
          "text": [
            "\n",
            "Training completed.\n",
            "Best Validation at Epoch: 232\n",
            "Best Val Acc: 0.7100, Best Val Loss: 0.9510\n",
            "\n",
            "Number of Runs: 10\n",
            "Average Accuracy: 0.6960, Std of Accuracy: 0.0081, Average Loss: 0.9549, Std of Loss: 0.0173\n"
          ]
        }
      ]
    },
    {
      "cell_type": "code",
      "source": [
        "summarize(cora_models[0])\n",
        "print()\n",
        "summarize(cite_models[0])"
      ],
      "metadata": {
        "colab": {
          "base_uri": "https://localhost:8080/"
        },
        "id": "AxHjEEb3QzDA",
        "outputId": "60a86712-a9ba-42b7-ed43-c0e2c127b9af"
      },
      "id": "AxHjEEb3QzDA",
      "execution_count": 91,
      "outputs": [
        {
          "output_type": "stream",
          "name": "stdout",
          "text": [
            "Model Summary: GAT4\n",
            "\n",
            "encoder1.lin_key.weight torch.Size([64, 1433])\n",
            "encoder1.lin_key.bias torch.Size([64])\n",
            "encoder1.lin_query.weight torch.Size([64, 1433])\n",
            "encoder1.lin_query.bias torch.Size([64])\n",
            "encoder1.lin_value.weight torch.Size([64, 1433])\n",
            "encoder1.lin_value.bias torch.Size([64])\n",
            "encoder1.lin_skip.weight torch.Size([64, 1433])\n",
            "encoder1.lin_skip.bias torch.Size([64])\n",
            "encoder2.lin_key.weight torch.Size([56, 64])\n",
            "encoder2.lin_key.bias torch.Size([56])\n",
            "encoder2.lin_query.weight torch.Size([56, 64])\n",
            "encoder2.lin_query.bias torch.Size([56])\n",
            "encoder2.lin_value.weight torch.Size([56, 64])\n",
            "encoder2.lin_value.bias torch.Size([56])\n",
            "encoder2.lin_skip.weight torch.Size([7, 64])\n",
            "encoder2.lin_skip.bias torch.Size([7])\n",
            "\n",
            "Total number of params: 378479\n",
            "\n",
            "Model Summary: GAT3\n",
            "\n",
            "conv1.att_src torch.Size([1, 8, 8])\n",
            "conv1.att_dst torch.Size([1, 8, 8])\n",
            "conv1.bias torch.Size([64])\n",
            "conv1.lin.weight torch.Size([64, 3703])\n",
            "conv2.att_src torch.Size([1, 8, 8])\n",
            "conv2.att_dst torch.Size([1, 8, 8])\n",
            "conv2.bias torch.Size([64])\n",
            "conv2.lin.weight torch.Size([64, 64])\n",
            "encoder1.self_attn.in_proj_weight torch.Size([192, 64])\n",
            "encoder1.self_attn.in_proj_bias torch.Size([192])\n",
            "encoder1.self_attn.out_proj.weight torch.Size([64, 64])\n",
            "encoder1.self_attn.out_proj.bias torch.Size([64])\n",
            "encoder1.linear1.weight torch.Size([2048, 64])\n",
            "encoder1.linear1.bias torch.Size([2048])\n",
            "encoder1.linear2.weight torch.Size([64, 2048])\n",
            "encoder1.linear2.bias torch.Size([64])\n",
            "encoder1.norm1.weight torch.Size([64])\n",
            "encoder1.norm1.bias torch.Size([64])\n",
            "encoder1.norm2.weight torch.Size([64])\n",
            "encoder1.norm2.bias torch.Size([64])\n",
            "linear.weight torch.Size([6, 64])\n",
            "linear.bias torch.Size([6])\n",
            "\n",
            "Total number of params: 523014\n"
          ]
        }
      ]
    },
    {
      "cell_type": "code",
      "source": [
        "class GAT5(torch.nn.Module):\n",
        "    # hidden channels will be the embedding dimension for each attention head\n",
        "    # after applying the first GAT layer.\n",
        "    def __init__(self, in_channels, hidden_channels,\n",
        "                 num_heads, dropout_rate, num_classes):\n",
        "        super().__init__()\n",
        "\n",
        "        self.dropout_rate = dropout_rate\n",
        "\n",
        "        self.hidden_channels = hidden_channels\n",
        "        self.num_heads = num_heads\n",
        "        self.num_classes = num_classes\n",
        "\n",
        "        self.conv1 = GATConv(in_channels, hidden_channels, heads=num_heads,\n",
        "                             dropout=dropout_rate)\n",
        "\n",
        "        self.encoder1 = TransformerConv(hidden_channels*num_heads,\n",
        "                                        hidden_channels,\n",
        "                                        heads=num_heads, dropout=dropout_rate)\n",
        "\n",
        "        self.conv2 = GATConv(hidden_channels*num_heads, num_classes,\n",
        "                             dropout=dropout_rate, concat=False)\n",
        "\n",
        "    def forward(self, x, edge_index):\n",
        "        out = F.dropout(x, p=self.dropout_rate, training=self.training)\n",
        "        out = self.conv1(out, edge_index)\n",
        "        assert out.shape[-1] == self.hidden_channels * self.num_heads\n",
        "        out = F.elu(out)\n",
        "\n",
        "        out = F.dropout(out, p=self.dropout_rate, training=self.training)\n",
        "        out = self.encoder1(out, edge_index)\n",
        "        assert out.shape[-1] == self.hidden_channels * self.num_heads\n",
        "        out = F.elu(out)\n",
        "\n",
        "        out = F.dropout(out, p=self.dropout_rate, training=self.training)\n",
        "        out = self.conv2(out, edge_index)\n",
        "        assert out.shape[-1] == self.num_classes\n",
        "\n",
        "        return out"
      ],
      "metadata": {
        "id": "T3ga_NyVRF8a"
      },
      "id": "T3ga_NyVRF8a",
      "execution_count": 141,
      "outputs": []
    },
    {
      "cell_type": "code",
      "source": [
        "num_runs = 10\n",
        "cora_models = create_models(GAT5, num_runs, cora_data)\n",
        "\n",
        "cora_val_stats = val_stats(cora_models, cora_data, cora_data.val_mask,\n",
        "                           loss_fn)\n",
        "avg_acc, std_acc, avg_loss, std_loss, acc_tensor, loss_tensor = cora_val_stats\n",
        "print(f\"Number of Runs: {len(acc_tensor)}\")\n",
        "print(f\"Average Accuracy: {avg_acc:.4f}, Std of Accuracy: {std_acc:.4f}, Average Loss: {avg_loss:.4f}, Std of Loss: {std_loss:.4f}\")"
      ],
      "metadata": {
        "colab": {
          "base_uri": "https://localhost:8080/"
        },
        "id": "GUSVVk2uTAgD",
        "outputId": "b1a92318-4e0b-4eb9-a497-52c8de72bf7e"
      },
      "id": "GUSVVk2uTAgD",
      "execution_count": 142,
      "outputs": [
        {
          "output_type": "stream",
          "name": "stdout",
          "text": [
            "Run: 1\n",
            "Using cuda, model: cuda:0, data: cuda:0\n"
          ]
        },
        {
          "output_type": "stream",
          "name": "stderr",
          "text": [
            "Training Epochs:  11%|█         | 112/1000 [00:01<00:12, 73.56it/s]\n"
          ]
        },
        {
          "output_type": "stream",
          "name": "stdout",
          "text": [
            "\n",
            "Training completed.\n",
            "Best Validation at Epoch: 13\n",
            "Best Val Acc: 0.7940, Best Val Loss: 0.6809\n",
            "\n",
            "Run: 2\n",
            "Using cuda, model: cuda:0, data: cuda:0\n"
          ]
        },
        {
          "output_type": "stream",
          "name": "stderr",
          "text": [
            "Training Epochs:  11%|█         | 112/1000 [00:01<00:12, 73.62it/s]\n"
          ]
        },
        {
          "output_type": "stream",
          "name": "stdout",
          "text": [
            "\n",
            "Training completed.\n",
            "Best Validation at Epoch: 13\n",
            "Best Val Acc: 0.7940, Best Val Loss: 0.6284\n",
            "\n",
            "Run: 3\n",
            "Using cuda, model: cuda:0, data: cuda:0\n"
          ]
        },
        {
          "output_type": "stream",
          "name": "stderr",
          "text": [
            "Training Epochs:  11%|█         | 112/1000 [00:01<00:11, 74.23it/s]\n"
          ]
        },
        {
          "output_type": "stream",
          "name": "stdout",
          "text": [
            "\n",
            "Training completed.\n",
            "Best Validation at Epoch: 13\n",
            "Best Val Acc: 0.7940, Best Val Loss: 0.7030\n",
            "\n",
            "Run: 4\n",
            "Using cuda, model: cuda:0, data: cuda:0\n"
          ]
        },
        {
          "output_type": "stream",
          "name": "stderr",
          "text": [
            "Training Epochs:  14%|█▍        | 143/1000 [00:01<00:11, 74.45it/s]\n"
          ]
        },
        {
          "output_type": "stream",
          "name": "stdout",
          "text": [
            "\n",
            "Training completed.\n",
            "Best Validation at Epoch: 44\n",
            "Best Val Acc: 0.7860, Best Val Loss: 0.7874\n",
            "\n",
            "Run: 5\n",
            "Using cuda, model: cuda:0, data: cuda:0\n"
          ]
        },
        {
          "output_type": "stream",
          "name": "stderr",
          "text": [
            "Training Epochs:  11%|█         | 112/1000 [00:01<00:15, 57.96it/s]\n"
          ]
        },
        {
          "output_type": "stream",
          "name": "stdout",
          "text": [
            "\n",
            "Training completed.\n",
            "Best Validation at Epoch: 13\n",
            "Best Val Acc: 0.7820, Best Val Loss: 0.6910\n",
            "\n",
            "Run: 6\n",
            "Using cuda, model: cuda:0, data: cuda:0\n"
          ]
        },
        {
          "output_type": "stream",
          "name": "stderr",
          "text": [
            "Training Epochs:  14%|█▍        | 138/1000 [00:02<00:15, 56.15it/s]\n"
          ]
        },
        {
          "output_type": "stream",
          "name": "stdout",
          "text": [
            "\n",
            "Training completed.\n",
            "Best Validation at Epoch: 39\n",
            "Best Val Acc: 0.8040, Best Val Loss: 0.6869\n",
            "\n",
            "Run: 7\n",
            "Using cuda, model: cuda:0, data: cuda:0\n"
          ]
        },
        {
          "output_type": "stream",
          "name": "stderr",
          "text": [
            "Training Epochs:  13%|█▎        | 126/1000 [00:01<00:11, 73.55it/s]\n"
          ]
        },
        {
          "output_type": "stream",
          "name": "stdout",
          "text": [
            "\n",
            "Training completed.\n",
            "Best Validation at Epoch: 27\n",
            "Best Val Acc: 0.8280, Best Val Loss: 0.6253\n",
            "\n",
            "Run: 8\n",
            "Using cuda, model: cuda:0, data: cuda:0\n"
          ]
        },
        {
          "output_type": "stream",
          "name": "stderr",
          "text": [
            "Training Epochs:  15%|█▌        | 151/1000 [00:02<00:11, 75.15it/s]\n"
          ]
        },
        {
          "output_type": "stream",
          "name": "stdout",
          "text": [
            "\n",
            "Training completed.\n",
            "Best Validation at Epoch: 52\n",
            "Best Val Acc: 0.7820, Best Val Loss: 0.8265\n",
            "\n",
            "Run: 9\n",
            "Using cuda, model: cuda:0, data: cuda:0\n"
          ]
        },
        {
          "output_type": "stream",
          "name": "stderr",
          "text": [
            "Training Epochs:  11%|█▏        | 114/1000 [00:01<00:11, 74.67it/s]\n"
          ]
        },
        {
          "output_type": "stream",
          "name": "stdout",
          "text": [
            "\n",
            "Training completed.\n",
            "Best Validation at Epoch: 15\n",
            "Best Val Acc: 0.7860, Best Val Loss: 0.6955\n",
            "\n",
            "Run: 10\n",
            "Using cuda, model: cuda:0, data: cuda:0\n"
          ]
        },
        {
          "output_type": "stream",
          "name": "stderr",
          "text": [
            "Training Epochs:  13%|█▎        | 134/1000 [00:01<00:11, 75.29it/s]\n"
          ]
        },
        {
          "output_type": "stream",
          "name": "stdout",
          "text": [
            "\n",
            "Training completed.\n",
            "Best Validation at Epoch: 35\n",
            "Best Val Acc: 0.8060, Best Val Loss: 0.6955\n",
            "\n",
            "Number of Runs: 10\n",
            "Average Accuracy: 0.7926, Std of Accuracy: 0.0165, Average Loss: 0.8174, Std of Loss: 0.1897\n"
          ]
        }
      ]
    },
    {
      "cell_type": "code",
      "source": [
        "num_runs = 10\n",
        "cite_models = create_models(GAT5, num_runs, cite_data)\n",
        "\n",
        "cite_val_stats = val_stats(cite_models, cite_data, cite_data.val_mask,\n",
        "                           loss_fn)\n",
        "avg_acc, std_acc, avg_loss, std_loss, acc_tensor, loss_tensor = cite_val_stats\n",
        "print(f\"Number of Runs: {len(acc_tensor)}\")\n",
        "print(f\"Average Accuracy: {avg_acc:.4f}, Std of Accuracy: {std_acc:.4f}, Average Loss: {avg_loss:.4f}, Std of Loss: {std_loss:.4f}\")"
      ],
      "metadata": {
        "colab": {
          "base_uri": "https://localhost:8080/"
        },
        "id": "4toADXz_TM7c",
        "outputId": "641e3b93-98a8-409e-829c-c8949ebf9abc"
      },
      "id": "4toADXz_TM7c",
      "execution_count": 136,
      "outputs": [
        {
          "output_type": "stream",
          "name": "stdout",
          "text": [
            "Run: 1\n",
            "Using cuda, model: cuda:0, data: cuda:0\n"
          ]
        },
        {
          "output_type": "stream",
          "name": "stderr",
          "text": [
            "Training Epochs:  11%|█         | 108/1000 [00:01<00:13, 67.03it/s]\n"
          ]
        },
        {
          "output_type": "stream",
          "name": "stdout",
          "text": [
            "\n",
            "Training completed.\n",
            "Best Validation at Epoch: 9\n",
            "Best Val Acc: 0.7100, Best Val Loss: 0.9417\n",
            "\n",
            "Run: 2\n",
            "Using cuda, model: cuda:0, data: cuda:0\n"
          ]
        },
        {
          "output_type": "stream",
          "name": "stderr",
          "text": [
            "Training Epochs:  11%|█         | 107/1000 [00:01<00:13, 68.63it/s]\n"
          ]
        },
        {
          "output_type": "stream",
          "name": "stdout",
          "text": [
            "\n",
            "Training completed.\n",
            "Best Validation at Epoch: 8\n",
            "Best Val Acc: 0.7020, Best Val Loss: 0.9878\n",
            "\n",
            "Run: 3\n",
            "Using cuda, model: cuda:0, data: cuda:0\n"
          ]
        },
        {
          "output_type": "stream",
          "name": "stderr",
          "text": [
            "Training Epochs:  11%|█         | 110/1000 [00:01<00:13, 63.97it/s]\n"
          ]
        },
        {
          "output_type": "stream",
          "name": "stdout",
          "text": [
            "\n",
            "Training completed.\n",
            "Best Validation at Epoch: 11\n",
            "Best Val Acc: 0.6960, Best Val Loss: 0.9850\n",
            "\n",
            "Run: 4\n",
            "Using cuda, model: cuda:0, data: cuda:0\n"
          ]
        },
        {
          "output_type": "stream",
          "name": "stderr",
          "text": [
            "Training Epochs:  11%|█         | 108/1000 [00:02<00:17, 51.00it/s]\n"
          ]
        },
        {
          "output_type": "stream",
          "name": "stdout",
          "text": [
            "\n",
            "Training completed.\n",
            "Best Validation at Epoch: 9\n",
            "Best Val Acc: 0.6880, Best Val Loss: 0.9817\n",
            "\n",
            "Run: 5\n",
            "Using cuda, model: cuda:0, data: cuda:0\n"
          ]
        },
        {
          "output_type": "stream",
          "name": "stderr",
          "text": [
            "Training Epochs:  11%|█         | 107/1000 [00:01<00:16, 55.52it/s]\n"
          ]
        },
        {
          "output_type": "stream",
          "name": "stdout",
          "text": [
            "\n",
            "Training completed.\n",
            "Best Validation at Epoch: 8\n",
            "Best Val Acc: 0.6900, Best Val Loss: 0.9925\n",
            "\n",
            "Run: 6\n",
            "Using cuda, model: cuda:0, data: cuda:0\n"
          ]
        },
        {
          "output_type": "stream",
          "name": "stderr",
          "text": [
            "Training Epochs:  14%|█▎        | 137/1000 [00:02<00:12, 68.28it/s]\n"
          ]
        },
        {
          "output_type": "stream",
          "name": "stdout",
          "text": [
            "\n",
            "Training completed.\n",
            "Best Validation at Epoch: 38\n",
            "Best Val Acc: 0.6900, Best Val Loss: 0.9817\n",
            "\n",
            "Run: 7\n",
            "Using cuda, model: cuda:0, data: cuda:0\n"
          ]
        },
        {
          "output_type": "stream",
          "name": "stderr",
          "text": [
            "Training Epochs:  11%|█         | 108/1000 [00:01<00:12, 69.57it/s]\n"
          ]
        },
        {
          "output_type": "stream",
          "name": "stdout",
          "text": [
            "\n",
            "Training completed.\n",
            "Best Validation at Epoch: 9\n",
            "Best Val Acc: 0.7120, Best Val Loss: 0.9524\n",
            "\n",
            "Run: 8\n",
            "Using cuda, model: cuda:0, data: cuda:0\n"
          ]
        },
        {
          "output_type": "stream",
          "name": "stderr",
          "text": [
            "Training Epochs:  11%|█         | 108/1000 [00:01<00:13, 66.87it/s]\n"
          ]
        },
        {
          "output_type": "stream",
          "name": "stdout",
          "text": [
            "\n",
            "Training completed.\n",
            "Best Validation at Epoch: 9\n",
            "Best Val Acc: 0.6940, Best Val Loss: 1.0222\n",
            "\n",
            "Run: 9\n",
            "Using cuda, model: cuda:0, data: cuda:0\n"
          ]
        },
        {
          "output_type": "stream",
          "name": "stderr",
          "text": [
            "Training Epochs:  11%|█         | 108/1000 [00:01<00:13, 68.29it/s]\n"
          ]
        },
        {
          "output_type": "stream",
          "name": "stdout",
          "text": [
            "\n",
            "Training completed.\n",
            "Best Validation at Epoch: 9\n",
            "Best Val Acc: 0.7020, Best Val Loss: 0.9753\n",
            "\n",
            "Run: 10\n",
            "Using cuda, model: cuda:0, data: cuda:0\n"
          ]
        },
        {
          "output_type": "stream",
          "name": "stderr",
          "text": [
            "Training Epochs:  11%|█         | 109/1000 [00:01<00:13, 68.14it/s]\n"
          ]
        },
        {
          "output_type": "stream",
          "name": "stdout",
          "text": [
            "\n",
            "Training completed.\n",
            "Best Validation at Epoch: 10\n",
            "Best Val Acc: 0.7100, Best Val Loss: 0.9561\n",
            "\n",
            "Number of Runs: 10\n",
            "Average Accuracy: 0.6860, Std of Accuracy: 0.0110, Average Loss: 1.0275, Std of Loss: 0.1400\n"
          ]
        }
      ]
    },
    {
      "cell_type": "code",
      "source": [
        "summarize(cora_models[0])\n",
        "print()\n",
        "summarize(cite_models[0])"
      ],
      "metadata": {
        "colab": {
          "base_uri": "https://localhost:8080/"
        },
        "id": "zExREwJUTQp6",
        "outputId": "bfe7bc41-2901-425b-d372-59f5b4c9d66e"
      },
      "id": "zExREwJUTQp6",
      "execution_count": 138,
      "outputs": [
        {
          "output_type": "stream",
          "name": "stdout",
          "text": [
            "Model Summary: GAT5\n",
            "\n",
            "\n",
            "Total number of params: 109013\n",
            "\n",
            "Model Summary: GAT5\n",
            "\n",
            "\n",
            "Total number of params: 254226\n"
          ]
        }
      ]
    },
    {
      "cell_type": "code",
      "source": [
        "class GAT6(torch.nn.Module):\n",
        "    # hidden channels will be the embedding dimension for each attention head\n",
        "    # after applying the first GAT layer.\n",
        "    def __init__(self, in_channels, hidden_channels,\n",
        "                 num_heads, dropout_rate, num_classes):\n",
        "        super().__init__()\n",
        "\n",
        "        self.dropout_rate = dropout_rate\n",
        "\n",
        "        self.hidden_channels = hidden_channels\n",
        "        self.num_heads = num_heads\n",
        "        self.num_classes = num_classes\n",
        "\n",
        "        self.conv1 = GATConv(in_channels, hidden_channels, heads=num_heads,\n",
        "                             dropout=dropout_rate)\n",
        "\n",
        "        self.conv2 = GATConv(hidden_channels*num_heads, hidden_channels,\n",
        "                             heads=num_heads, dropout=dropout_rate)\n",
        "\n",
        "        self.encoder1 = TransformerConv(hidden_channels*num_heads,\n",
        "                                        num_classes, heads=num_heads,\n",
        "                                        concat=False, dropout=dropout_rate)\n",
        "\n",
        "    def forward(self, x, edge_index):\n",
        "        out = F.dropout(x, p=self.dropout_rate, training=self.training)\n",
        "        out = self.conv1(out, edge_index)\n",
        "        assert out.shape[-1] == self.hidden_channels * self.num_heads\n",
        "        out = F.elu(out)\n",
        "\n",
        "        out = F.dropout(out, p=self.dropout_rate, training=self.training)\n",
        "        out = self.conv2(out, edge_index)\n",
        "        assert out.shape[-1] == self.hidden_channels * self.num_heads\n",
        "        out = F.elu(out)\n",
        "\n",
        "        out = F.dropout(out, p=self.dropout_rate, training=self.training)\n",
        "        out = self.encoder1(out, edge_index)\n",
        "        assert out.shape[-1] == self.num_classes\n",
        "\n",
        "        return out"
      ],
      "metadata": {
        "id": "J8QgVm9oUFj-"
      },
      "id": "J8QgVm9oUFj-",
      "execution_count": 131,
      "outputs": []
    },
    {
      "cell_type": "code",
      "source": [
        "num_runs = 10\n",
        "cora_models = create_models(GAT6, num_runs, cora_data)\n",
        "\n",
        "cora_val_stats = val_stats(cora_models, cora_data, cora_data.val_mask,\n",
        "                           loss_fn)\n",
        "avg_acc, std_acc, avg_loss, std_loss, acc_tensor, loss_tensor = cora_val_stats\n",
        "print(f\"Number of Runs: {len(acc_tensor)}\")\n",
        "print(f\"Average Accuracy: {avg_acc:.4f}, Std of Accuracy: {std_acc:.4f}, Average Loss: {avg_loss:.4f}, Std of Loss: {std_loss:.4f}\")"
      ],
      "metadata": {
        "colab": {
          "base_uri": "https://localhost:8080/"
        },
        "id": "IsOkpa1sVkRZ",
        "outputId": "f24301fa-0468-4cbc-9e6c-9197c366621e"
      },
      "id": "IsOkpa1sVkRZ",
      "execution_count": 132,
      "outputs": [
        {
          "output_type": "stream",
          "name": "stdout",
          "text": [
            "Run: 1\n",
            "Using cuda, model: cuda:0, data: cuda:0\n"
          ]
        },
        {
          "output_type": "stream",
          "name": "stderr",
          "text": [
            "Training Epochs:  16%|█▌        | 157/1000 [00:02<00:13, 61.15it/s]\n"
          ]
        },
        {
          "output_type": "stream",
          "name": "stdout",
          "text": [
            "\n",
            "Training completed.\n",
            "Best Validation at Epoch: 58\n",
            "Best Val Acc: 0.7980, Best Val Loss: 0.6598\n",
            "\n",
            "Run: 2\n",
            "Using cuda, model: cuda:0, data: cuda:0\n"
          ]
        },
        {
          "output_type": "stream",
          "name": "stderr",
          "text": [
            "Training Epochs:  12%|█▏        | 116/1000 [00:01<00:13, 67.64it/s]\n"
          ]
        },
        {
          "output_type": "stream",
          "name": "stdout",
          "text": [
            "\n",
            "Training completed.\n",
            "Best Validation at Epoch: 17\n",
            "Best Val Acc: 0.7960, Best Val Loss: 0.6488\n",
            "\n",
            "Run: 3\n",
            "Using cuda, model: cuda:0, data: cuda:0\n"
          ]
        },
        {
          "output_type": "stream",
          "name": "stderr",
          "text": [
            "Training Epochs:  12%|█▏        | 118/1000 [00:01<00:11, 78.38it/s]\n"
          ]
        },
        {
          "output_type": "stream",
          "name": "stdout",
          "text": [
            "\n",
            "Training completed.\n",
            "Best Validation at Epoch: 19\n",
            "Best Val Acc: 0.7960, Best Val Loss: 0.6840\n",
            "\n",
            "Run: 4\n",
            "Using cuda, model: cuda:0, data: cuda:0\n"
          ]
        },
        {
          "output_type": "stream",
          "name": "stderr",
          "text": [
            "Training Epochs:  12%|█▏        | 116/1000 [00:01<00:11, 79.36it/s]\n"
          ]
        },
        {
          "output_type": "stream",
          "name": "stdout",
          "text": [
            "\n",
            "Training completed.\n",
            "Best Validation at Epoch: 17\n",
            "Best Val Acc: 0.8040, Best Val Loss: 0.6506\n",
            "\n",
            "Run: 5\n",
            "Using cuda, model: cuda:0, data: cuda:0\n"
          ]
        },
        {
          "output_type": "stream",
          "name": "stderr",
          "text": [
            "Training Epochs:  12%|█▏        | 118/1000 [00:01<00:11, 78.76it/s]\n"
          ]
        },
        {
          "output_type": "stream",
          "name": "stdout",
          "text": [
            "\n",
            "Training completed.\n",
            "Best Validation at Epoch: 19\n",
            "Best Val Acc: 0.7960, Best Val Loss: 0.6985\n",
            "\n",
            "Run: 6\n",
            "Using cuda, model: cuda:0, data: cuda:0\n"
          ]
        },
        {
          "output_type": "stream",
          "name": "stderr",
          "text": [
            "Training Epochs:  23%|██▎       | 230/1000 [00:02<00:09, 80.81it/s]\n"
          ]
        },
        {
          "output_type": "stream",
          "name": "stdout",
          "text": [
            "\n",
            "Training completed.\n",
            "Best Validation at Epoch: 131\n",
            "Best Val Acc: 0.7900, Best Val Loss: 0.7048\n",
            "\n",
            "Run: 7\n",
            "Using cuda, model: cuda:0, data: cuda:0\n"
          ]
        },
        {
          "output_type": "stream",
          "name": "stderr",
          "text": [
            "Training Epochs:  12%|█▏        | 116/1000 [00:01<00:11, 78.85it/s]\n"
          ]
        },
        {
          "output_type": "stream",
          "name": "stdout",
          "text": [
            "\n",
            "Training completed.\n",
            "Best Validation at Epoch: 17\n",
            "Best Val Acc: 0.8080, Best Val Loss: 0.6727\n",
            "\n",
            "Run: 8\n",
            "Using cuda, model: cuda:0, data: cuda:0\n"
          ]
        },
        {
          "output_type": "stream",
          "name": "stderr",
          "text": [
            "Training Epochs:  12%|█▏        | 115/1000 [00:01<00:13, 64.42it/s]\n"
          ]
        },
        {
          "output_type": "stream",
          "name": "stdout",
          "text": [
            "\n",
            "Training completed.\n",
            "Best Validation at Epoch: 16\n",
            "Best Val Acc: 0.8040, Best Val Loss: 0.6972\n",
            "\n",
            "Run: 9\n",
            "Using cuda, model: cuda:0, data: cuda:0\n"
          ]
        },
        {
          "output_type": "stream",
          "name": "stderr",
          "text": [
            "Training Epochs:  12%|█▏        | 116/1000 [00:01<00:14, 60.45it/s]\n"
          ]
        },
        {
          "output_type": "stream",
          "name": "stdout",
          "text": [
            "\n",
            "Training completed.\n",
            "Best Validation at Epoch: 17\n",
            "Best Val Acc: 0.8120, Best Val Loss: 0.6415\n",
            "\n",
            "Run: 10\n",
            "Using cuda, model: cuda:0, data: cuda:0\n"
          ]
        },
        {
          "output_type": "stream",
          "name": "stderr",
          "text": [
            "Training Epochs:  12%|█▏        | 117/1000 [00:01<00:12, 73.52it/s]"
          ]
        },
        {
          "output_type": "stream",
          "name": "stdout",
          "text": [
            "\n",
            "Training completed.\n",
            "Best Validation at Epoch: 18\n",
            "Best Val Acc: 0.7940, Best Val Loss: 0.6796\n",
            "\n",
            "Number of Runs: 10\n",
            "Average Accuracy: 0.7960, Std of Accuracy: 0.0059, Average Loss: 0.7374, Std of Loss: 0.1339\n"
          ]
        },
        {
          "output_type": "stream",
          "name": "stderr",
          "text": [
            "\n"
          ]
        }
      ]
    },
    {
      "cell_type": "code",
      "source": [
        "num_runs = 10\n",
        "cite_models = create_models(GAT6, num_runs, cite_data)\n",
        "\n",
        "cite_val_stats = val_stats(cite_models, cite_data, cite_data.val_mask,\n",
        "                           loss_fn)\n",
        "avg_acc, std_acc, avg_loss, std_loss, acc_tensor, loss_tensor = cite_val_stats\n",
        "print(f\"Number of Runs: {len(acc_tensor)}\")\n",
        "print(f\"Average Accuracy: {avg_acc:.4f}, Std of Accuracy: {std_acc:.4f}, Average Loss: {avg_loss:.4f}, Std of Loss: {std_loss:.4f}\")"
      ],
      "metadata": {
        "colab": {
          "base_uri": "https://localhost:8080/"
        },
        "id": "EEKIscGgWCl1",
        "outputId": "9cd27ca2-dd52-4293-8f15-dd484bc4374c"
      },
      "id": "EEKIscGgWCl1",
      "execution_count": 133,
      "outputs": [
        {
          "output_type": "stream",
          "name": "stdout",
          "text": [
            "Run: 1\n",
            "Using cuda, model: cuda:0, data: cuda:0\n"
          ]
        },
        {
          "output_type": "stream",
          "name": "stderr",
          "text": [
            "Training Epochs:  11%|█         | 110/1000 [00:01<00:15, 56.10it/s]\n"
          ]
        },
        {
          "output_type": "stream",
          "name": "stdout",
          "text": [
            "\n",
            "Training completed.\n",
            "Best Validation at Epoch: 11\n",
            "Best Val Acc: 0.6900, Best Val Loss: 0.9654\n",
            "\n",
            "Run: 2\n",
            "Using cuda, model: cuda:0, data: cuda:0\n"
          ]
        },
        {
          "output_type": "stream",
          "name": "stderr",
          "text": [
            "Training Epochs:  11%|█         | 111/1000 [00:01<00:15, 56.34it/s]\n"
          ]
        },
        {
          "output_type": "stream",
          "name": "stdout",
          "text": [
            "\n",
            "Training completed.\n",
            "Best Validation at Epoch: 12\n",
            "Best Val Acc: 0.6920, Best Val Loss: 0.9524\n",
            "\n",
            "Run: 3\n",
            "Using cuda, model: cuda:0, data: cuda:0\n"
          ]
        },
        {
          "output_type": "stream",
          "name": "stderr",
          "text": [
            "Training Epochs:  11%|█         | 110/1000 [00:01<00:12, 72.44it/s]\n"
          ]
        },
        {
          "output_type": "stream",
          "name": "stdout",
          "text": [
            "\n",
            "Training completed.\n",
            "Best Validation at Epoch: 11\n",
            "Best Val Acc: 0.6880, Best Val Loss: 0.9693\n",
            "\n",
            "Run: 4\n",
            "Using cuda, model: cuda:0, data: cuda:0\n"
          ]
        },
        {
          "output_type": "stream",
          "name": "stderr",
          "text": [
            "Training Epochs:  11%|█         | 110/1000 [00:01<00:12, 73.29it/s]\n"
          ]
        },
        {
          "output_type": "stream",
          "name": "stdout",
          "text": [
            "\n",
            "Training completed.\n",
            "Best Validation at Epoch: 11\n",
            "Best Val Acc: 0.7060, Best Val Loss: 0.9371\n",
            "\n",
            "Run: 5\n",
            "Using cuda, model: cuda:0, data: cuda:0\n"
          ]
        },
        {
          "output_type": "stream",
          "name": "stderr",
          "text": [
            "Training Epochs:  11%|█         | 111/1000 [00:01<00:12, 72.70it/s]\n"
          ]
        },
        {
          "output_type": "stream",
          "name": "stdout",
          "text": [
            "\n",
            "Training completed.\n",
            "Best Validation at Epoch: 12\n",
            "Best Val Acc: 0.6860, Best Val Loss: 0.9735\n",
            "\n",
            "Run: 6\n",
            "Using cuda, model: cuda:0, data: cuda:0\n"
          ]
        },
        {
          "output_type": "stream",
          "name": "stderr",
          "text": [
            "Training Epochs:  11%|█         | 111/1000 [00:01<00:12, 71.90it/s]\n"
          ]
        },
        {
          "output_type": "stream",
          "name": "stdout",
          "text": [
            "\n",
            "Training completed.\n",
            "Best Validation at Epoch: 12\n",
            "Best Val Acc: 0.6860, Best Val Loss: 0.9583\n",
            "\n",
            "Run: 7\n",
            "Using cuda, model: cuda:0, data: cuda:0\n"
          ]
        },
        {
          "output_type": "stream",
          "name": "stderr",
          "text": [
            "Training Epochs:  11%|█         | 111/1000 [00:01<00:12, 72.44it/s]\n"
          ]
        },
        {
          "output_type": "stream",
          "name": "stdout",
          "text": [
            "\n",
            "Training completed.\n",
            "Best Validation at Epoch: 12\n",
            "Best Val Acc: 0.7000, Best Val Loss: 0.9820\n",
            "\n",
            "Run: 8\n",
            "Using cuda, model: cuda:0, data: cuda:0\n"
          ]
        },
        {
          "output_type": "stream",
          "name": "stderr",
          "text": [
            "Training Epochs:  11%|█         | 110/1000 [00:01<00:12, 72.49it/s]\n"
          ]
        },
        {
          "output_type": "stream",
          "name": "stdout",
          "text": [
            "\n",
            "Training completed.\n",
            "Best Validation at Epoch: 11\n",
            "Best Val Acc: 0.6840, Best Val Loss: 0.9897\n",
            "\n",
            "Run: 9\n",
            "Using cuda, model: cuda:0, data: cuda:0\n"
          ]
        },
        {
          "output_type": "stream",
          "name": "stderr",
          "text": [
            "Training Epochs:  11%|█         | 110/1000 [00:01<00:14, 62.07it/s]\n"
          ]
        },
        {
          "output_type": "stream",
          "name": "stdout",
          "text": [
            "\n",
            "Training completed.\n",
            "Best Validation at Epoch: 11\n",
            "Best Val Acc: 0.6900, Best Val Loss: 0.9647\n",
            "\n",
            "Run: 10\n",
            "Using cuda, model: cuda:0, data: cuda:0\n"
          ]
        },
        {
          "output_type": "stream",
          "name": "stderr",
          "text": [
            "Training Epochs:  11%|█         | 110/1000 [00:01<00:15, 56.58it/s]"
          ]
        },
        {
          "output_type": "stream",
          "name": "stdout",
          "text": [
            "\n",
            "Training completed.\n",
            "Best Validation at Epoch: 11\n",
            "Best Val Acc: 0.7080, Best Val Loss: 0.9190\n",
            "\n",
            "Number of Runs: 10\n",
            "Average Accuracy: 0.6850, Std of Accuracy: 0.0089, Average Loss: 0.9612, Std of Loss: 0.0209\n"
          ]
        },
        {
          "output_type": "stream",
          "name": "stderr",
          "text": [
            "\n"
          ]
        }
      ]
    },
    {
      "cell_type": "code",
      "source": [
        "summarize(cora_models[0])\n",
        "print()\n",
        "summarize(cite_models[0])"
      ],
      "metadata": {
        "colab": {
          "base_uri": "https://localhost:8080/"
        },
        "id": "9c311vT8WGim",
        "outputId": "9966da54-5787-43ba-e012-9a3f4bacd705"
      },
      "id": "9c311vT8WGim",
      "execution_count": 107,
      "outputs": [
        {
          "output_type": "stream",
          "name": "stdout",
          "text": [
            "Model Summary: GAT6\n",
            "\n",
            "\n",
            "Total number of params: 107567\n",
            "\n",
            "Model Summary: GAT6\n",
            "\n",
            "\n",
            "Total number of params: 251222\n"
          ]
        }
      ]
    },
    {
      "cell_type": "code",
      "source": [
        "from torch_geometric.nn import TransformerConv\n",
        "\n",
        "class GAT7(torch.nn.Module):\n",
        "    # hidden channels will be the embedding dimension for each attention head\n",
        "    # after applying the first GAT layer.\n",
        "    def __init__(self, in_channels, hidden_channels,\n",
        "                 num_heads, dropout_rate, num_classes):\n",
        "        super().__init__()\n",
        "\n",
        "        self.dropout_rate = dropout_rate\n",
        "\n",
        "        self.hidden_channels = hidden_channels\n",
        "        self.num_heads = num_heads\n",
        "        self.num_classes = num_classes\n",
        "\n",
        "        self.encoder1 = TransformerConv(in_channels, hidden_channels,\n",
        "                                        heads=num_heads, dropout=dropout_rate)\n",
        "\n",
        "        self.encoder2 = TransformerConv(hidden_channels*num_heads,\n",
        "                                        hidden_channels, heads = num_heads,\n",
        "                                        dropout=dropout_rate)\n",
        "\n",
        "        self.encoder3 = TransformerConv(hidden_channels*num_heads,\n",
        "                                        num_classes, heads = num_heads,\n",
        "                                        concat=False, dropout=dropout_rate)\n",
        "\n",
        "    def forward(self, x, edge_index):\n",
        "        out = F.dropout(x, p=self.dropout_rate, training=self.training)\n",
        "        out = self.encoder1(out, edge_index)\n",
        "        assert out.shape[-1] == self.hidden_channels * self.num_heads\n",
        "        out = F.elu(out)\n",
        "\n",
        "        out = F.dropout(out, p=self.dropout_rate, training=self.training)\n",
        "        out = self.encoder2(out, edge_index)\n",
        "        assert out.shape[-1] == self.hidden_channels * self.num_heads\n",
        "\n",
        "        out = F.dropout(out, p=self.dropout_rate, training=self.training)\n",
        "        out = self.encoder3(out, edge_index)\n",
        "        assert out.shape[-1] == self.num_classes\n",
        "\n",
        "        return out"
      ],
      "metadata": {
        "id": "sadDVcuJXU5m"
      },
      "id": "sadDVcuJXU5m",
      "execution_count": 122,
      "outputs": []
    },
    {
      "cell_type": "code",
      "source": [
        "num_runs = 10\n",
        "cora_models = create_models(GAT7, num_runs, cora_data)\n",
        "\n",
        "cora_val_stats = val_stats(cora_models, cora_data, cora_data.val_mask,\n",
        "                           loss_fn)\n",
        "avg_acc, std_acc, avg_loss, std_loss, acc_tensor, loss_tensor = cora_val_stats\n",
        "print(f\"Number of Runs: {len(acc_tensor)}\")\n",
        "print(f\"Average Accuracy: {avg_acc:.4f}, Std of Accuracy: {std_acc:.4f}, Average Loss: {avg_loss:.4f}, Std of Loss: {std_loss:.4f}\")"
      ],
      "metadata": {
        "colab": {
          "base_uri": "https://localhost:8080/"
        },
        "id": "VRKFZ0YOXswg",
        "outputId": "7b21a9f1-e414-4f03-8122-eae9dec99981"
      },
      "id": "VRKFZ0YOXswg",
      "execution_count": 123,
      "outputs": [
        {
          "output_type": "stream",
          "name": "stdout",
          "text": [
            "Run: 1\n",
            "Using cuda, model: cuda:0, data: cuda:0\n"
          ]
        },
        {
          "output_type": "stream",
          "name": "stderr",
          "text": [
            "Training Epochs:  19%|█▉        | 194/1000 [00:03<00:14, 56.30it/s]\n"
          ]
        },
        {
          "output_type": "stream",
          "name": "stdout",
          "text": [
            "\n",
            "Training completed.\n",
            "Best Validation at Epoch: 95\n",
            "Best Val Acc: 0.7900, Best Val Loss: 0.7111\n",
            "\n",
            "Run: 2\n",
            "Using cuda, model: cuda:0, data: cuda:0\n"
          ]
        },
        {
          "output_type": "stream",
          "name": "stderr",
          "text": [
            "Training Epochs:  19%|█▉        | 193/1000 [00:02<00:11, 72.51it/s]\n"
          ]
        },
        {
          "output_type": "stream",
          "name": "stdout",
          "text": [
            "\n",
            "Training completed.\n",
            "Best Validation at Epoch: 94\n",
            "Best Val Acc: 0.7920, Best Val Loss: 0.6865\n",
            "\n",
            "Run: 3\n",
            "Using cuda, model: cuda:0, data: cuda:0\n"
          ]
        },
        {
          "output_type": "stream",
          "name": "stderr",
          "text": [
            "Training Epochs:  11%|█         | 112/1000 [00:01<00:12, 73.78it/s]\n"
          ]
        },
        {
          "output_type": "stream",
          "name": "stdout",
          "text": [
            "\n",
            "Training completed.\n",
            "Best Validation at Epoch: 13\n",
            "Best Val Acc: 0.7960, Best Val Loss: 0.6279\n",
            "\n",
            "Run: 4\n",
            "Using cuda, model: cuda:0, data: cuda:0\n"
          ]
        },
        {
          "output_type": "stream",
          "name": "stderr",
          "text": [
            "Training Epochs:  11%|█▏        | 114/1000 [00:01<00:11, 75.02it/s]\n"
          ]
        },
        {
          "output_type": "stream",
          "name": "stdout",
          "text": [
            "\n",
            "Training completed.\n",
            "Best Validation at Epoch: 15\n",
            "Best Val Acc: 0.7900, Best Val Loss: 0.6557\n",
            "\n",
            "Run: 5\n",
            "Using cuda, model: cuda:0, data: cuda:0\n"
          ]
        },
        {
          "output_type": "stream",
          "name": "stderr",
          "text": [
            "Training Epochs:  11%|█         | 112/1000 [00:01<00:12, 72.99it/s]\n"
          ]
        },
        {
          "output_type": "stream",
          "name": "stdout",
          "text": [
            "\n",
            "Training completed.\n",
            "Best Validation at Epoch: 13\n",
            "Best Val Acc: 0.7840, Best Val Loss: 0.7129\n",
            "\n",
            "Run: 6\n",
            "Using cuda, model: cuda:0, data: cuda:0\n"
          ]
        },
        {
          "output_type": "stream",
          "name": "stderr",
          "text": [
            "Training Epochs:  13%|█▎        | 129/1000 [00:01<00:11, 74.74it/s]\n"
          ]
        },
        {
          "output_type": "stream",
          "name": "stdout",
          "text": [
            "\n",
            "Training completed.\n",
            "Best Validation at Epoch: 30\n",
            "Best Val Acc: 0.8000, Best Val Loss: 0.6270\n",
            "\n",
            "Run: 7\n",
            "Using cuda, model: cuda:0, data: cuda:0\n"
          ]
        },
        {
          "output_type": "stream",
          "name": "stderr",
          "text": [
            "Training Epochs:  11%|█         | 112/1000 [00:01<00:12, 72.29it/s]\n"
          ]
        },
        {
          "output_type": "stream",
          "name": "stdout",
          "text": [
            "\n",
            "Training completed.\n",
            "Best Validation at Epoch: 13\n",
            "Best Val Acc: 0.7880, Best Val Loss: 0.6587\n",
            "\n",
            "Run: 8\n",
            "Using cuda, model: cuda:0, data: cuda:0\n"
          ]
        },
        {
          "output_type": "stream",
          "name": "stderr",
          "text": [
            "Training Epochs:  26%|██▌       | 256/1000 [00:04<00:12, 59.19it/s]\n"
          ]
        },
        {
          "output_type": "stream",
          "name": "stdout",
          "text": [
            "\n",
            "Training completed.\n",
            "Best Validation at Epoch: 157\n",
            "Best Val Acc: 0.7920, Best Val Loss: 0.7406\n",
            "\n",
            "Run: 9\n",
            "Using cuda, model: cuda:0, data: cuda:0\n"
          ]
        },
        {
          "output_type": "stream",
          "name": "stderr",
          "text": [
            "Training Epochs:  11%|█         | 111/1000 [00:01<00:11, 74.19it/s]\n"
          ]
        },
        {
          "output_type": "stream",
          "name": "stdout",
          "text": [
            "\n",
            "Training completed.\n",
            "Best Validation at Epoch: 12\n",
            "Best Val Acc: 0.7920, Best Val Loss: 0.6682\n",
            "\n",
            "Run: 10\n",
            "Using cuda, model: cuda:0, data: cuda:0\n"
          ]
        },
        {
          "output_type": "stream",
          "name": "stderr",
          "text": [
            "Training Epochs:  11%|█         | 110/1000 [00:01<00:11, 74.87it/s]\n"
          ]
        },
        {
          "output_type": "stream",
          "name": "stdout",
          "text": [
            "\n",
            "Training completed.\n",
            "Best Validation at Epoch: 11\n",
            "Best Val Acc: 0.7880, Best Val Loss: 0.7207\n",
            "\n",
            "Number of Runs: 10\n",
            "Average Accuracy: 0.7900, Std of Accuracy: 0.0065, Average Loss: 0.7636, Std of Loss: 0.1257\n"
          ]
        }
      ]
    },
    {
      "cell_type": "code",
      "source": [
        "num_runs = 10\n",
        "cite_models = create_models(GAT7, num_runs, cite_data)\n",
        "\n",
        "cite_val_stats = val_stats(cite_models, cite_data, cite_data.val_mask,\n",
        "                           loss_fn)\n",
        "avg_acc, std_acc, avg_loss, std_loss, acc_tensor, loss_tensor = cite_val_stats\n",
        "print(f\"Number of Runs: {len(acc_tensor)}\")\n",
        "print(f\"Average Accuracy: {avg_acc:.4f}, Std of Accuracy: {std_acc:.4f}, Average Loss: {avg_loss:.4f}, Std of Loss: {std_loss:.4f}\")"
      ],
      "metadata": {
        "colab": {
          "base_uri": "https://localhost:8080/"
        },
        "id": "VoOTDVquXvzh",
        "outputId": "74d20811-14f1-4ee5-b9b9-2d15ae685be1"
      },
      "id": "VoOTDVquXvzh",
      "execution_count": 124,
      "outputs": [
        {
          "output_type": "stream",
          "name": "stdout",
          "text": [
            "Run: 1\n",
            "Using cuda, model: cuda:0, data: cuda:0\n"
          ]
        },
        {
          "output_type": "stream",
          "name": "stderr",
          "text": [
            "Training Epochs:  11%|█         | 108/1000 [00:01<00:14, 62.61it/s]\n"
          ]
        },
        {
          "output_type": "stream",
          "name": "stdout",
          "text": [
            "\n",
            "Training completed.\n",
            "Best Validation at Epoch: 9\n",
            "Best Val Acc: 0.6920, Best Val Loss: 0.9792\n",
            "\n",
            "Run: 2\n",
            "Using cuda, model: cuda:0, data: cuda:0\n"
          ]
        },
        {
          "output_type": "stream",
          "name": "stderr",
          "text": [
            "Training Epochs:  11%|█         | 107/1000 [00:01<00:14, 62.72it/s]\n"
          ]
        },
        {
          "output_type": "stream",
          "name": "stdout",
          "text": [
            "\n",
            "Training completed.\n",
            "Best Validation at Epoch: 8\n",
            "Best Val Acc: 0.6780, Best Val Loss: 0.9846\n",
            "\n",
            "Run: 3\n",
            "Using cuda, model: cuda:0, data: cuda:0\n"
          ]
        },
        {
          "output_type": "stream",
          "name": "stderr",
          "text": [
            "Training Epochs:  11%|█         | 107/1000 [00:01<00:12, 71.50it/s]\n"
          ]
        },
        {
          "output_type": "stream",
          "name": "stdout",
          "text": [
            "\n",
            "Training completed.\n",
            "Best Validation at Epoch: 8\n",
            "Best Val Acc: 0.6940, Best Val Loss: 1.0105\n",
            "\n",
            "Run: 4\n",
            "Using cuda, model: cuda:0, data: cuda:0\n"
          ]
        },
        {
          "output_type": "stream",
          "name": "stderr",
          "text": [
            "Training Epochs:  20%|██        | 200/1000 [00:02<00:10, 74.34it/s]\n"
          ]
        },
        {
          "output_type": "stream",
          "name": "stdout",
          "text": [
            "\n",
            "Training completed.\n",
            "Best Validation at Epoch: 101\n",
            "Best Val Acc: 0.7040, Best Val Loss: 0.9812\n",
            "\n",
            "Run: 5\n",
            "Using cuda, model: cuda:0, data: cuda:0\n"
          ]
        },
        {
          "output_type": "stream",
          "name": "stderr",
          "text": [
            "Training Epochs:  11%|█         | 108/1000 [00:01<00:12, 70.38it/s]\n"
          ]
        },
        {
          "output_type": "stream",
          "name": "stdout",
          "text": [
            "\n",
            "Training completed.\n",
            "Best Validation at Epoch: 9\n",
            "Best Val Acc: 0.6980, Best Val Loss: 0.9519\n",
            "\n",
            "Run: 6\n",
            "Using cuda, model: cuda:0, data: cuda:0\n"
          ]
        },
        {
          "output_type": "stream",
          "name": "stderr",
          "text": [
            "Training Epochs:  11%|█         | 108/1000 [00:01<00:16, 55.11it/s]\n"
          ]
        },
        {
          "output_type": "stream",
          "name": "stdout",
          "text": [
            "\n",
            "Training completed.\n",
            "Best Validation at Epoch: 9\n",
            "Best Val Acc: 0.6940, Best Val Loss: 0.9896\n",
            "\n",
            "Run: 7\n",
            "Using cuda, model: cuda:0, data: cuda:0\n"
          ]
        },
        {
          "output_type": "stream",
          "name": "stderr",
          "text": [
            "Training Epochs:  11%|█         | 107/1000 [00:01<00:15, 56.10it/s]\n"
          ]
        },
        {
          "output_type": "stream",
          "name": "stdout",
          "text": [
            "\n",
            "Training completed.\n",
            "Best Validation at Epoch: 8\n",
            "Best Val Acc: 0.7120, Best Val Loss: 0.9874\n",
            "\n",
            "Run: 8\n",
            "Using cuda, model: cuda:0, data: cuda:0\n"
          ]
        },
        {
          "output_type": "stream",
          "name": "stderr",
          "text": [
            "Training Epochs:  11%|█         | 108/1000 [00:01<00:12, 70.76it/s]\n"
          ]
        },
        {
          "output_type": "stream",
          "name": "stdout",
          "text": [
            "\n",
            "Training completed.\n",
            "Best Validation at Epoch: 9\n",
            "Best Val Acc: 0.6960, Best Val Loss: 0.9407\n",
            "\n",
            "Run: 9\n",
            "Using cuda, model: cuda:0, data: cuda:0\n"
          ]
        },
        {
          "output_type": "stream",
          "name": "stderr",
          "text": [
            "Training Epochs:  11%|█         | 109/1000 [00:01<00:12, 70.77it/s]\n"
          ]
        },
        {
          "output_type": "stream",
          "name": "stdout",
          "text": [
            "\n",
            "Training completed.\n",
            "Best Validation at Epoch: 10\n",
            "Best Val Acc: 0.6940, Best Val Loss: 0.9500\n",
            "\n",
            "Run: 10\n",
            "Using cuda, model: cuda:0, data: cuda:0\n"
          ]
        },
        {
          "output_type": "stream",
          "name": "stderr",
          "text": [
            "Training Epochs:  11%|█         | 107/1000 [00:01<00:12, 72.35it/s]"
          ]
        },
        {
          "output_type": "stream",
          "name": "stdout",
          "text": [
            "\n",
            "Training completed.\n",
            "Best Validation at Epoch: 8\n",
            "Best Val Acc: 0.6780, Best Val Loss: 0.9665\n",
            "\n",
            "Number of Runs: 10\n",
            "Average Accuracy: 0.6844, Std of Accuracy: 0.0119, Average Loss: 0.9856, Std of Loss: 0.0393\n"
          ]
        },
        {
          "output_type": "stream",
          "name": "stderr",
          "text": [
            "\n"
          ]
        }
      ]
    },
    {
      "cell_type": "code",
      "source": [
        "summarize(cora_models[0])\n",
        "print()\n",
        "summarize(cite_models[0])"
      ],
      "metadata": {
        "colab": {
          "base_uri": "https://localhost:8080/"
        },
        "id": "WiBYTHF7X1Wp",
        "outputId": "7a53b782-7c17-4f24-b235-cbde23877d13"
      },
      "id": "WiBYTHF7X1Wp",
      "execution_count": 125,
      "outputs": [
        {
          "output_type": "stream",
          "name": "stdout",
          "text": [
            "Model Summary: GAT7\n",
            "\n",
            "\n",
            "Total number of params: 395119\n",
            "\n",
            "Model Summary: GAT7\n",
            "\n",
            "\n",
            "Total number of params: 974614\n"
          ]
        }
      ]
    },
    {
      "cell_type": "code",
      "source": [
        "def test_model(Model_Class, data_name, mask, num_runs=10):\n",
        "    global cora_models\n",
        "    global cite_models\n",
        "    if data_name == \"cora\":\n",
        "        cora_models = create_models(Model_Class, num_runs, cora_data)\n",
        "        data_val_stats = val_stats(cora_models, cora_data, mask, loss_fn)\n",
        "\n",
        "    elif data_name == \"cite\":\n",
        "        cite_models = create_models(Model_Class, num_runs, cite_data)\n",
        "        data_val_stats = val_stats(cite_models, cite_data, mask, loss_fn)\n",
        "    else:\n",
        "        print(\"Wrong data set name\")\n",
        "        return\n",
        "\n",
        "    avg_acc, std_acc, avg_loss, std_loss, acc_tensor, loss_tensor = data_val_stats\n",
        "    print(f\"Number of Runs: {len(acc_tensor)}\")\n",
        "    print(f\"Average Accuracy: {avg_acc:.4f}, Std of Accuracy: {std_acc:.4f}, Average Loss: {avg_loss:.4f}, Std of Loss: {std_loss:.4f}\")"
      ],
      "metadata": {
        "id": "dsrxcvDyimUE"
      },
      "id": "dsrxcvDyimUE",
      "execution_count": 208,
      "outputs": []
    },
    {
      "cell_type": "code",
      "source": [
        "test_model(GAT, \"cora\", cora_data.val_mask, num_runs=10)"
      ],
      "metadata": {
        "colab": {
          "base_uri": "https://localhost:8080/"
        },
        "id": "j6htGZNMjsrl",
        "outputId": "5fb202f2-ed47-4c45-a914-c61c015cbf6f"
      },
      "id": "j6htGZNMjsrl",
      "execution_count": 198,
      "outputs": [
        {
          "output_type": "stream",
          "name": "stdout",
          "text": [
            "Run: 1\n",
            "Using cuda, model: cuda:0, data: cuda:0\n"
          ]
        },
        {
          "output_type": "stream",
          "name": "stderr",
          "text": [
            "Training Epochs:  11%|█         | 108/1000 [00:01<00:09, 90.13it/s]\n"
          ]
        },
        {
          "output_type": "stream",
          "name": "stdout",
          "text": [
            "\n",
            "Training completed.\n",
            "Best Validation at Epoch: 9\n",
            "Best Val Acc: 0.7900, Best Val Loss: 1.1219\n",
            "\n",
            "Run: 2\n",
            "Using cuda, model: cuda:0, data: cuda:0\n"
          ]
        },
        {
          "output_type": "stream",
          "name": "stderr",
          "text": [
            "Training Epochs:  14%|█▍        | 143/1000 [00:01<00:09, 86.15it/s]\n"
          ]
        },
        {
          "output_type": "stream",
          "name": "stdout",
          "text": [
            "\n",
            "Training completed.\n",
            "Best Validation at Epoch: 44\n",
            "Best Val Acc: 0.8020, Best Val Loss: 0.6557\n",
            "\n",
            "Run: 3\n",
            "Using cuda, model: cuda:0, data: cuda:0\n"
          ]
        },
        {
          "output_type": "stream",
          "name": "stderr",
          "text": [
            "Training Epochs:  14%|█▎        | 137/1000 [00:01<00:09, 92.14it/s] \n"
          ]
        },
        {
          "output_type": "stream",
          "name": "stdout",
          "text": [
            "\n",
            "Training completed.\n",
            "Best Validation at Epoch: 38\n",
            "Best Val Acc: 0.8080, Best Val Loss: 0.6470\n",
            "\n",
            "Run: 4\n",
            "Using cuda, model: cuda:0, data: cuda:0\n"
          ]
        },
        {
          "output_type": "stream",
          "name": "stderr",
          "text": [
            "Training Epochs:  21%|██        | 212/1000 [00:01<00:06, 112.80it/s]\n"
          ]
        },
        {
          "output_type": "stream",
          "name": "stdout",
          "text": [
            "\n",
            "Training completed.\n",
            "Best Validation at Epoch: 113\n",
            "Best Val Acc: 0.7940, Best Val Loss: 0.6792\n",
            "\n",
            "Run: 5\n",
            "Using cuda, model: cuda:0, data: cuda:0\n"
          ]
        },
        {
          "output_type": "stream",
          "name": "stderr",
          "text": [
            "Training Epochs:  10%|█         | 104/1000 [00:00<00:07, 112.52it/s]\n"
          ]
        },
        {
          "output_type": "stream",
          "name": "stdout",
          "text": [
            "\n",
            "Training completed.\n",
            "Best Validation at Epoch: 5\n",
            "Best Val Acc: 0.7960, Best Val Loss: 1.3974\n",
            "\n",
            "Run: 6\n",
            "Using cuda, model: cuda:0, data: cuda:0\n"
          ]
        },
        {
          "output_type": "stream",
          "name": "stderr",
          "text": [
            "Training Epochs:  12%|█▏        | 118/1000 [00:01<00:07, 111.69it/s]\n"
          ]
        },
        {
          "output_type": "stream",
          "name": "stdout",
          "text": [
            "\n",
            "Training completed.\n",
            "Best Validation at Epoch: 19\n",
            "Best Val Acc: 0.8080, Best Val Loss: 0.7273\n",
            "\n",
            "Run: 7\n",
            "Using cuda, model: cuda:0, data: cuda:0\n"
          ]
        },
        {
          "output_type": "stream",
          "name": "stderr",
          "text": [
            "Training Epochs:  12%|█▏        | 118/1000 [00:01<00:08, 110.04it/s]\n"
          ]
        },
        {
          "output_type": "stream",
          "name": "stdout",
          "text": [
            "\n",
            "Training completed.\n",
            "Best Validation at Epoch: 19\n",
            "Best Val Acc: 0.7980, Best Val Loss: 0.7394\n",
            "\n",
            "Run: 8\n",
            "Using cuda, model: cuda:0, data: cuda:0\n"
          ]
        },
        {
          "output_type": "stream",
          "name": "stderr",
          "text": [
            "Training Epochs:  20%|██        | 202/1000 [00:01<00:07, 113.26it/s]\n"
          ]
        },
        {
          "output_type": "stream",
          "name": "stdout",
          "text": [
            "\n",
            "Training completed.\n",
            "Best Validation at Epoch: 103\n",
            "Best Val Acc: 0.7880, Best Val Loss: 0.7538\n",
            "\n",
            "Run: 9\n",
            "Using cuda, model: cuda:0, data: cuda:0\n"
          ]
        },
        {
          "output_type": "stream",
          "name": "stderr",
          "text": [
            "Training Epochs:  11%|█         | 111/1000 [00:01<00:08, 110.12it/s]\n"
          ]
        },
        {
          "output_type": "stream",
          "name": "stdout",
          "text": [
            "\n",
            "Training completed.\n",
            "Best Validation at Epoch: 12\n",
            "Best Val Acc: 0.7900, Best Val Loss: 0.9625\n",
            "\n",
            "Run: 10\n",
            "Using cuda, model: cuda:0, data: cuda:0\n"
          ]
        },
        {
          "output_type": "stream",
          "name": "stderr",
          "text": [
            "Training Epochs:  11%|█▏        | 113/1000 [00:01<00:08, 110.18it/s]\n"
          ]
        },
        {
          "output_type": "stream",
          "name": "stdout",
          "text": [
            "\n",
            "Training completed.\n",
            "Best Validation at Epoch: 14\n",
            "Best Val Acc: 0.7860, Best Val Loss: 0.8830\n",
            "\n",
            "Number of Runs: 10\n",
            "Average Accuracy: 0.7960, Std of Accuracy: 0.0079, Average Loss: 0.8573, Std of Loss: 0.2426\n"
          ]
        }
      ]
    },
    {
      "cell_type": "code",
      "source": [
        "test_model(GAT, \"cite\", cite_data.val_mask, num_runs=10)"
      ],
      "metadata": {
        "colab": {
          "base_uri": "https://localhost:8080/"
        },
        "id": "AqC3Hcq89lCW",
        "outputId": "e1f58195-c118-4a62-c79c-d0ebce5d912e"
      },
      "id": "AqC3Hcq89lCW",
      "execution_count": 199,
      "outputs": [
        {
          "output_type": "stream",
          "name": "stdout",
          "text": [
            "Run: 1\n",
            "Using cuda, model: cuda:0, data: cuda:0\n"
          ]
        },
        {
          "output_type": "stream",
          "name": "stderr",
          "text": [
            "Training Epochs:  10%|█         | 105/1000 [00:01<00:09, 98.21it/s] \n"
          ]
        },
        {
          "output_type": "stream",
          "name": "stdout",
          "text": [
            "\n",
            "Training completed.\n",
            "Best Validation at Epoch: 6\n",
            "Best Val Acc: 0.6920, Best Val Loss: 1.1589\n",
            "\n",
            "Run: 2\n",
            "Using cuda, model: cuda:0, data: cuda:0\n"
          ]
        },
        {
          "output_type": "stream",
          "name": "stderr",
          "text": [
            "Training Epochs:  10%|█         | 104/1000 [00:01<00:08, 99.81it/s]\n"
          ]
        },
        {
          "output_type": "stream",
          "name": "stdout",
          "text": [
            "\n",
            "Training completed.\n",
            "Best Validation at Epoch: 5\n",
            "Best Val Acc: 0.7080, Best Val Loss: 1.2249\n",
            "\n",
            "Run: 3\n",
            "Using cuda, model: cuda:0, data: cuda:0\n"
          ]
        },
        {
          "output_type": "stream",
          "name": "stderr",
          "text": [
            "Training Epochs:  10%|█         | 103/1000 [00:01<00:08, 100.94it/s]\n"
          ]
        },
        {
          "output_type": "stream",
          "name": "stdout",
          "text": [
            "\n",
            "Training completed.\n",
            "Best Validation at Epoch: 4\n",
            "Best Val Acc: 0.6880, Best Val Loss: 1.3282\n",
            "\n",
            "Run: 4\n",
            "Using cuda, model: cuda:0, data: cuda:0\n"
          ]
        },
        {
          "output_type": "stream",
          "name": "stderr",
          "text": [
            "Training Epochs:  10%|█         | 103/1000 [00:01<00:10, 85.22it/s]\n"
          ]
        },
        {
          "output_type": "stream",
          "name": "stdout",
          "text": [
            "\n",
            "Training completed.\n",
            "Best Validation at Epoch: 4\n",
            "Best Val Acc: 0.7000, Best Val Loss: 1.3091\n",
            "\n",
            "Run: 5\n",
            "Using cuda, model: cuda:0, data: cuda:0\n"
          ]
        },
        {
          "output_type": "stream",
          "name": "stderr",
          "text": [
            "Training Epochs:  14%|█▍        | 145/1000 [00:01<00:10, 79.79it/s]\n"
          ]
        },
        {
          "output_type": "stream",
          "name": "stdout",
          "text": [
            "\n",
            "Training completed.\n",
            "Best Validation at Epoch: 46\n",
            "Best Val Acc: 0.6920, Best Val Loss: 1.0362\n",
            "\n",
            "Run: 6\n",
            "Using cuda, model: cuda:0, data: cuda:0\n"
          ]
        },
        {
          "output_type": "stream",
          "name": "stderr",
          "text": [
            "Training Epochs:  10%|█         | 104/1000 [00:01<00:10, 81.84it/s]\n"
          ]
        },
        {
          "output_type": "stream",
          "name": "stdout",
          "text": [
            "\n",
            "Training completed.\n",
            "Best Validation at Epoch: 5\n",
            "Best Val Acc: 0.7160, Best Val Loss: 1.2424\n",
            "\n",
            "Run: 7\n",
            "Using cuda, model: cuda:0, data: cuda:0\n"
          ]
        },
        {
          "output_type": "stream",
          "name": "stderr",
          "text": [
            "Training Epochs:  10%|█         | 104/1000 [00:01<00:08, 100.13it/s]\n"
          ]
        },
        {
          "output_type": "stream",
          "name": "stdout",
          "text": [
            "\n",
            "Training completed.\n",
            "Best Validation at Epoch: 5\n",
            "Best Val Acc: 0.7000, Best Val Loss: 1.2483\n",
            "\n",
            "Run: 8\n",
            "Using cuda, model: cuda:0, data: cuda:0\n"
          ]
        },
        {
          "output_type": "stream",
          "name": "stderr",
          "text": [
            "Training Epochs:  10%|█         | 104/1000 [00:01<00:08, 100.54it/s]\n"
          ]
        },
        {
          "output_type": "stream",
          "name": "stdout",
          "text": [
            "\n",
            "Training completed.\n",
            "Best Validation at Epoch: 5\n",
            "Best Val Acc: 0.7000, Best Val Loss: 1.2413\n",
            "\n",
            "Run: 9\n",
            "Using cuda, model: cuda:0, data: cuda:0\n"
          ]
        },
        {
          "output_type": "stream",
          "name": "stderr",
          "text": [
            "Training Epochs:  31%|███▏      | 314/1000 [00:03<00:06, 101.62it/s]\n"
          ]
        },
        {
          "output_type": "stream",
          "name": "stdout",
          "text": [
            "\n",
            "Training completed.\n",
            "Best Validation at Epoch: 215\n",
            "Best Val Acc: 0.7020, Best Val Loss: 1.0528\n",
            "\n",
            "Run: 10\n",
            "Using cuda, model: cuda:0, data: cuda:0\n"
          ]
        },
        {
          "output_type": "stream",
          "name": "stderr",
          "text": [
            "Training Epochs:  10%|█         | 105/1000 [00:01<00:08, 102.76it/s]\n"
          ]
        },
        {
          "output_type": "stream",
          "name": "stdout",
          "text": [
            "\n",
            "Training completed.\n",
            "Best Validation at Epoch: 6\n",
            "Best Val Acc: 0.7000, Best Val Loss: 1.1886\n",
            "\n",
            "Number of Runs: 10\n",
            "Average Accuracy: 0.6998, Std of Accuracy: 0.0081, Average Loss: 1.2140, Std of Loss: 0.0836\n"
          ]
        }
      ]
    },
    {
      "cell_type": "code",
      "source": [
        "summarize(cora_models[0])\n",
        "summarize(cite_models[0])"
      ],
      "metadata": {
        "colab": {
          "base_uri": "https://localhost:8080/"
        },
        "id": "5YmqRb6PDuRE",
        "outputId": "d6781970-c586-46b5-dc2e-80eb99515d94"
      },
      "id": "5YmqRb6PDuRE",
      "execution_count": 200,
      "outputs": [
        {
          "output_type": "stream",
          "name": "stdout",
          "text": [
            "Model Summary: GAT\n",
            "\n",
            "\n",
            "Total number of params: 92373\n",
            "Model Summary: GAT\n",
            "\n",
            "\n",
            "Total number of params: 237586\n"
          ]
        }
      ]
    },
    {
      "cell_type": "code",
      "source": [
        "test_model(GAT, \"cora\", cora_data.test_mask, num_runs=10)"
      ],
      "metadata": {
        "colab": {
          "base_uri": "https://localhost:8080/"
        },
        "id": "RUL3eagy96dq",
        "outputId": "23055582-337c-4eb4-f2e8-f64b83946a91"
      },
      "id": "RUL3eagy96dq",
      "execution_count": 226,
      "outputs": [
        {
          "output_type": "stream",
          "name": "stdout",
          "text": [
            "Run: 1\n",
            "Using cuda, model: cuda:0, data: cuda:0\n"
          ]
        },
        {
          "output_type": "stream",
          "name": "stderr",
          "text": [
            "Training Epochs:  13%|█▎        | 130/1000 [00:01<00:07, 108.99it/s]\n"
          ]
        },
        {
          "output_type": "stream",
          "name": "stdout",
          "text": [
            "\n",
            "Training completed.\n",
            "Best Validation at Epoch: 31\n",
            "Best Val Acc: 0.8000, Best Val Loss: 0.6646\n",
            "\n",
            "Run: 2\n",
            "Using cuda, model: cuda:0, data: cuda:0\n"
          ]
        },
        {
          "output_type": "stream",
          "name": "stderr",
          "text": [
            "Training Epochs:  12%|█▏        | 117/1000 [00:01<00:07, 111.19it/s]\n"
          ]
        },
        {
          "output_type": "stream",
          "name": "stdout",
          "text": [
            "\n",
            "Training completed.\n",
            "Best Validation at Epoch: 18\n",
            "Best Val Acc: 0.7940, Best Val Loss: 0.7755\n",
            "\n",
            "Run: 3\n",
            "Using cuda, model: cuda:0, data: cuda:0\n"
          ]
        },
        {
          "output_type": "stream",
          "name": "stderr",
          "text": [
            "Training Epochs:  12%|█▏        | 119/1000 [00:01<00:08, 109.43it/s]\n"
          ]
        },
        {
          "output_type": "stream",
          "name": "stdout",
          "text": [
            "\n",
            "Training completed.\n",
            "Best Validation at Epoch: 20\n",
            "Best Val Acc: 0.7940, Best Val Loss: 0.7848\n",
            "\n",
            "Run: 4\n",
            "Using cuda, model: cuda:0, data: cuda:0\n"
          ]
        },
        {
          "output_type": "stream",
          "name": "stderr",
          "text": [
            "Training Epochs:  17%|█▋        | 168/1000 [00:01<00:07, 112.36it/s]\n"
          ]
        },
        {
          "output_type": "stream",
          "name": "stdout",
          "text": [
            "\n",
            "Training completed.\n",
            "Best Validation at Epoch: 69\n",
            "Best Val Acc: 0.7860, Best Val Loss: 0.7277\n",
            "\n",
            "Run: 5\n",
            "Using cuda, model: cuda:0, data: cuda:0\n"
          ]
        },
        {
          "output_type": "stream",
          "name": "stderr",
          "text": [
            "Training Epochs:  12%|█▏        | 116/1000 [00:01<00:07, 112.96it/s]\n"
          ]
        },
        {
          "output_type": "stream",
          "name": "stdout",
          "text": [
            "\n",
            "Training completed.\n",
            "Best Validation at Epoch: 17\n",
            "Best Val Acc: 0.8140, Best Val Loss: 0.7684\n",
            "\n",
            "Run: 6\n",
            "Using cuda, model: cuda:0, data: cuda:0\n"
          ]
        },
        {
          "output_type": "stream",
          "name": "stderr",
          "text": [
            "Training Epochs:  12%|█▏        | 116/1000 [00:01<00:10, 86.41it/s]\n"
          ]
        },
        {
          "output_type": "stream",
          "name": "stdout",
          "text": [
            "\n",
            "Training completed.\n",
            "Best Validation at Epoch: 17\n",
            "Best Val Acc: 0.8020, Best Val Loss: 0.8139\n",
            "\n",
            "Run: 7\n",
            "Using cuda, model: cuda:0, data: cuda:0\n"
          ]
        },
        {
          "output_type": "stream",
          "name": "stderr",
          "text": [
            "Training Epochs:  11%|█         | 107/1000 [00:01<00:10, 83.08it/s]\n"
          ]
        },
        {
          "output_type": "stream",
          "name": "stdout",
          "text": [
            "\n",
            "Training completed.\n",
            "Best Validation at Epoch: 8\n",
            "Best Val Acc: 0.7900, Best Val Loss: 1.1864\n",
            "\n",
            "Run: 8\n",
            "Using cuda, model: cuda:0, data: cuda:0\n"
          ]
        },
        {
          "output_type": "stream",
          "name": "stderr",
          "text": [
            "Training Epochs:  12%|█▏        | 116/1000 [00:01<00:11, 78.02it/s]\n"
          ]
        },
        {
          "output_type": "stream",
          "name": "stdout",
          "text": [
            "\n",
            "Training completed.\n",
            "Best Validation at Epoch: 17\n",
            "Best Val Acc: 0.7900, Best Val Loss: 0.8267\n",
            "\n",
            "Run: 9\n",
            "Using cuda, model: cuda:0, data: cuda:0\n"
          ]
        },
        {
          "output_type": "stream",
          "name": "stderr",
          "text": [
            "Training Epochs:  11%|█         | 110/1000 [00:01<00:09, 91.47it/s]\n"
          ]
        },
        {
          "output_type": "stream",
          "name": "stdout",
          "text": [
            "\n",
            "Training completed.\n",
            "Best Validation at Epoch: 11\n",
            "Best Val Acc: 0.7900, Best Val Loss: 1.0608\n",
            "\n",
            "Run: 10\n",
            "Using cuda, model: cuda:0, data: cuda:0\n"
          ]
        },
        {
          "output_type": "stream",
          "name": "stderr",
          "text": [
            "Training Epochs:  18%|█▊        | 181/1000 [00:01<00:08, 98.21it/s] "
          ]
        },
        {
          "output_type": "stream",
          "name": "stdout",
          "text": [
            "\n",
            "Training completed.\n",
            "Best Validation at Epoch: 82\n",
            "Best Val Acc: 0.7920, Best Val Loss: 0.7232\n",
            "\n",
            "Number of Runs: 10\n",
            "Average Accuracy: 0.7934, Std of Accuracy: 0.0113, Average Loss: 0.7761, Std of Loss: 0.1773\n"
          ]
        },
        {
          "output_type": "stream",
          "name": "stderr",
          "text": [
            "\n"
          ]
        }
      ]
    },
    {
      "cell_type": "code",
      "source": [
        "test_model(GAT, \"cite\", cite_data.test_mask, num_runs=10)"
      ],
      "metadata": {
        "colab": {
          "base_uri": "https://localhost:8080/"
        },
        "id": "YAzj5-yK-Kom",
        "outputId": "950bd7d0-9519-4c36-aeef-103a7f156792"
      },
      "id": "YAzj5-yK-Kom",
      "execution_count": 227,
      "outputs": [
        {
          "output_type": "stream",
          "name": "stdout",
          "text": [
            "Run: 1\n",
            "Using cuda, model: cuda:0, data: cuda:0\n"
          ]
        },
        {
          "output_type": "stream",
          "name": "stderr",
          "text": [
            "Training Epochs:  10%|█         | 105/1000 [00:01<00:09, 97.32it/s] \n"
          ]
        },
        {
          "output_type": "stream",
          "name": "stdout",
          "text": [
            "\n",
            "Training completed.\n",
            "Best Validation at Epoch: 6\n",
            "Best Val Acc: 0.6960, Best Val Loss: 1.1721\n",
            "\n",
            "Run: 2\n",
            "Using cuda, model: cuda:0, data: cuda:0\n"
          ]
        },
        {
          "output_type": "stream",
          "name": "stderr",
          "text": [
            "Training Epochs:  25%|██▍       | 248/1000 [00:02<00:07, 100.34it/s]\n"
          ]
        },
        {
          "output_type": "stream",
          "name": "stdout",
          "text": [
            "\n",
            "Training completed.\n",
            "Best Validation at Epoch: 149\n",
            "Best Val Acc: 0.6960, Best Val Loss: 1.0649\n",
            "\n",
            "Run: 3\n",
            "Using cuda, model: cuda:0, data: cuda:0\n"
          ]
        },
        {
          "output_type": "stream",
          "name": "stderr",
          "text": [
            "Training Epochs:  18%|█▊        | 177/1000 [00:01<00:08, 97.33it/s]\n"
          ]
        },
        {
          "output_type": "stream",
          "name": "stdout",
          "text": [
            "\n",
            "Training completed.\n",
            "Best Validation at Epoch: 78\n",
            "Best Val Acc: 0.7000, Best Val Loss: 1.0516\n",
            "\n",
            "Run: 4\n",
            "Using cuda, model: cuda:0, data: cuda:0\n"
          ]
        },
        {
          "output_type": "stream",
          "name": "stderr",
          "text": [
            "Training Epochs:  34%|███▎      | 336/1000 [00:04<00:07, 83.63it/s]\n"
          ]
        },
        {
          "output_type": "stream",
          "name": "stdout",
          "text": [
            "\n",
            "Training completed.\n",
            "Best Validation at Epoch: 237\n",
            "Best Val Acc: 0.7000, Best Val Loss: 1.0297\n",
            "\n",
            "Run: 5\n",
            "Using cuda, model: cuda:0, data: cuda:0\n"
          ]
        },
        {
          "output_type": "stream",
          "name": "stderr",
          "text": [
            "Training Epochs:  13%|█▎        | 126/1000 [00:01<00:08, 98.97it/s] \n"
          ]
        },
        {
          "output_type": "stream",
          "name": "stdout",
          "text": [
            "\n",
            "Training completed.\n",
            "Best Validation at Epoch: 27\n",
            "Best Val Acc: 0.7020, Best Val Loss: 0.9423\n",
            "\n",
            "Run: 6\n",
            "Using cuda, model: cuda:0, data: cuda:0\n"
          ]
        },
        {
          "output_type": "stream",
          "name": "stderr",
          "text": [
            "Training Epochs:  17%|█▋        | 168/1000 [00:01<00:08, 102.43it/s]\n"
          ]
        },
        {
          "output_type": "stream",
          "name": "stdout",
          "text": [
            "\n",
            "Training completed.\n",
            "Best Validation at Epoch: 69\n",
            "Best Val Acc: 0.6980, Best Val Loss: 1.0355\n",
            "\n",
            "Run: 7\n",
            "Using cuda, model: cuda:0, data: cuda:0\n"
          ]
        },
        {
          "output_type": "stream",
          "name": "stderr",
          "text": [
            "Training Epochs:  11%|█         | 107/1000 [00:01<00:08, 99.63it/s] \n"
          ]
        },
        {
          "output_type": "stream",
          "name": "stdout",
          "text": [
            "\n",
            "Training completed.\n",
            "Best Validation at Epoch: 8\n",
            "Best Val Acc: 0.7080, Best Val Loss: 1.0710\n",
            "\n",
            "Run: 8\n",
            "Using cuda, model: cuda:0, data: cuda:0\n"
          ]
        },
        {
          "output_type": "stream",
          "name": "stderr",
          "text": [
            "Training Epochs:  16%|█▋        | 165/1000 [00:01<00:08, 99.62it/s] \n"
          ]
        },
        {
          "output_type": "stream",
          "name": "stdout",
          "text": [
            "\n",
            "Training completed.\n",
            "Best Validation at Epoch: 66\n",
            "Best Val Acc: 0.7140, Best Val Loss: 0.9423\n",
            "\n",
            "Run: 9\n",
            "Using cuda, model: cuda:0, data: cuda:0\n"
          ]
        },
        {
          "output_type": "stream",
          "name": "stderr",
          "text": [
            "Training Epochs:  11%|█         | 110/1000 [00:01<00:09, 97.13it/s] \n"
          ]
        },
        {
          "output_type": "stream",
          "name": "stdout",
          "text": [
            "\n",
            "Training completed.\n",
            "Best Validation at Epoch: 11\n",
            "Best Val Acc: 0.6920, Best Val Loss: 0.9975\n",
            "\n",
            "Run: 10\n",
            "Using cuda, model: cuda:0, data: cuda:0\n"
          ]
        },
        {
          "output_type": "stream",
          "name": "stderr",
          "text": [
            "Training Epochs:  10%|█         | 105/1000 [00:01<00:08, 101.06it/s]\n"
          ]
        },
        {
          "output_type": "stream",
          "name": "stdout",
          "text": [
            "\n",
            "Training completed.\n",
            "Best Validation at Epoch: 6\n",
            "Best Val Acc: 0.6940, Best Val Loss: 1.1756\n",
            "\n",
            "Number of Runs: 10\n",
            "Average Accuracy: 0.6828, Std of Accuracy: 0.0056, Average Loss: 1.0773, Std of Loss: 0.0785\n"
          ]
        }
      ]
    },
    {
      "cell_type": "code",
      "source": [
        "summarize(cora_models[0])\n",
        "summarize(cite_models[0])"
      ],
      "metadata": {
        "colab": {
          "base_uri": "https://localhost:8080/"
        },
        "id": "JGUmva_qEI4E",
        "outputId": "1c3220cb-e65c-4a5e-fa95-9cd04a1b5856"
      },
      "id": "JGUmva_qEI4E",
      "execution_count": 228,
      "outputs": [
        {
          "output_type": "stream",
          "name": "stdout",
          "text": [
            "Model Summary: GAT\n",
            "\n",
            "\n",
            "Total number of params: 92373\n",
            "Model Summary: GAT\n",
            "\n",
            "\n",
            "Total number of params: 237586\n"
          ]
        }
      ]
    },
    {
      "cell_type": "code",
      "source": [
        "test_model(GAT1, \"cora\", cora_data.test_mask, num_runs=10)"
      ],
      "metadata": {
        "colab": {
          "base_uri": "https://localhost:8080/"
        },
        "id": "rTFSImVH-qCo",
        "outputId": "ad7705c2-b587-4cbb-c0a7-cb0e51cf78f1"
      },
      "id": "rTFSImVH-qCo",
      "execution_count": 229,
      "outputs": [
        {
          "output_type": "stream",
          "name": "stdout",
          "text": [
            "Run: 1\n",
            "Using cuda, model: cuda:0, data: cuda:0\n"
          ]
        },
        {
          "output_type": "stream",
          "name": "stderr",
          "text": [
            "Training Epochs:  11%|█         | 111/1000 [00:01<00:14, 63.42it/s]\n"
          ]
        },
        {
          "output_type": "stream",
          "name": "stdout",
          "text": [
            "\n",
            "Training completed.\n",
            "Best Validation at Epoch: 12\n",
            "Best Val Acc: 0.7780, Best Val Loss: 0.8309\n",
            "\n",
            "Run: 2\n",
            "Using cuda, model: cuda:0, data: cuda:0\n"
          ]
        },
        {
          "output_type": "stream",
          "name": "stderr",
          "text": [
            "Training Epochs:  11%|█         | 109/1000 [00:01<00:13, 66.89it/s]\n"
          ]
        },
        {
          "output_type": "stream",
          "name": "stdout",
          "text": [
            "\n",
            "Training completed.\n",
            "Best Validation at Epoch: 10\n",
            "Best Val Acc: 0.8040, Best Val Loss: 0.8858\n",
            "\n",
            "Run: 3\n",
            "Using cuda, model: cuda:0, data: cuda:0\n"
          ]
        },
        {
          "output_type": "stream",
          "name": "stderr",
          "text": [
            "Training Epochs:  11%|█         | 108/1000 [00:01<00:10, 83.53it/s]\n"
          ]
        },
        {
          "output_type": "stream",
          "name": "stdout",
          "text": [
            "\n",
            "Training completed.\n",
            "Best Validation at Epoch: 9\n",
            "Best Val Acc: 0.7980, Best Val Loss: 0.9372\n",
            "\n",
            "Run: 4\n",
            "Using cuda, model: cuda:0, data: cuda:0\n"
          ]
        },
        {
          "output_type": "stream",
          "name": "stderr",
          "text": [
            "Training Epochs:  11%|█▏        | 114/1000 [00:01<00:10, 82.48it/s]\n"
          ]
        },
        {
          "output_type": "stream",
          "name": "stdout",
          "text": [
            "\n",
            "Training completed.\n",
            "Best Validation at Epoch: 15\n",
            "Best Val Acc: 0.8180, Best Val Loss: 0.6719\n",
            "\n",
            "Run: 5\n",
            "Using cuda, model: cuda:0, data: cuda:0\n"
          ]
        },
        {
          "output_type": "stream",
          "name": "stderr",
          "text": [
            "Training Epochs:  12%|█▏        | 118/1000 [00:01<00:10, 81.93it/s]\n"
          ]
        },
        {
          "output_type": "stream",
          "name": "stdout",
          "text": [
            "\n",
            "Training completed.\n",
            "Best Validation at Epoch: 19\n",
            "Best Val Acc: 0.8060, Best Val Loss: 0.6819\n",
            "\n",
            "Run: 6\n",
            "Using cuda, model: cuda:0, data: cuda:0\n"
          ]
        },
        {
          "output_type": "stream",
          "name": "stderr",
          "text": [
            "Training Epochs:  12%|█▏        | 116/1000 [00:01<00:10, 82.85it/s]\n"
          ]
        },
        {
          "output_type": "stream",
          "name": "stdout",
          "text": [
            "\n",
            "Training completed.\n",
            "Best Validation at Epoch: 17\n",
            "Best Val Acc: 0.8100, Best Val Loss: 0.6465\n",
            "\n",
            "Run: 7\n",
            "Using cuda, model: cuda:0, data: cuda:0\n"
          ]
        },
        {
          "output_type": "stream",
          "name": "stderr",
          "text": [
            "Training Epochs:  10%|█         | 104/1000 [00:01<00:10, 84.07it/s]\n"
          ]
        },
        {
          "output_type": "stream",
          "name": "stdout",
          "text": [
            "\n",
            "Training completed.\n",
            "Best Validation at Epoch: 5\n",
            "Best Val Acc: 0.8140, Best Val Loss: 1.3548\n",
            "\n",
            "Run: 8\n",
            "Using cuda, model: cuda:0, data: cuda:0\n"
          ]
        },
        {
          "output_type": "stream",
          "name": "stderr",
          "text": [
            "Training Epochs:  16%|█▌        | 162/1000 [00:01<00:10, 82.27it/s]\n"
          ]
        },
        {
          "output_type": "stream",
          "name": "stdout",
          "text": [
            "\n",
            "Training completed.\n",
            "Best Validation at Epoch: 63\n",
            "Best Val Acc: 0.8080, Best Val Loss: 0.6537\n",
            "\n",
            "Run: 9\n",
            "Using cuda, model: cuda:0, data: cuda:0\n"
          ]
        },
        {
          "output_type": "stream",
          "name": "stderr",
          "text": [
            "Training Epochs:  11%|█         | 112/1000 [00:01<00:12, 71.21it/s]\n"
          ]
        },
        {
          "output_type": "stream",
          "name": "stdout",
          "text": [
            "\n",
            "Training completed.\n",
            "Best Validation at Epoch: 13\n",
            "Best Val Acc: 0.8100, Best Val Loss: 0.7044\n",
            "\n",
            "Run: 10\n",
            "Using cuda, model: cuda:0, data: cuda:0\n"
          ]
        },
        {
          "output_type": "stream",
          "name": "stderr",
          "text": [
            "Training Epochs:  20%|█▉        | 197/1000 [00:03<00:12, 64.73it/s]"
          ]
        },
        {
          "output_type": "stream",
          "name": "stdout",
          "text": [
            "\n",
            "Training completed.\n",
            "Best Validation at Epoch: 98\n",
            "Best Val Acc: 0.7940, Best Val Loss: 0.9236\n",
            "\n",
            "Number of Runs: 10\n",
            "Average Accuracy: 0.7957, Std of Accuracy: 0.0097, Average Loss: 0.7957, Std of Loss: 0.2163\n"
          ]
        },
        {
          "output_type": "stream",
          "name": "stderr",
          "text": [
            "\n"
          ]
        }
      ]
    },
    {
      "cell_type": "code",
      "source": [
        "test_model(GAT1, \"cite\", cite_data.test_mask, num_runs=10)"
      ],
      "metadata": {
        "colab": {
          "base_uri": "https://localhost:8080/"
        },
        "id": "TmN0TWeV-1Go",
        "outputId": "061cb167-e87e-45f3-95c6-a56871a69acc"
      },
      "id": "TmN0TWeV-1Go",
      "execution_count": 230,
      "outputs": [
        {
          "output_type": "stream",
          "name": "stdout",
          "text": [
            "Run: 1\n",
            "Using cuda, model: cuda:0, data: cuda:0\n"
          ]
        },
        {
          "output_type": "stream",
          "name": "stderr",
          "text": [
            "Training Epochs:  10%|█         | 104/1000 [00:01<00:11, 75.49it/s]\n"
          ]
        },
        {
          "output_type": "stream",
          "name": "stdout",
          "text": [
            "\n",
            "Training completed.\n",
            "Best Validation at Epoch: 5\n",
            "Best Val Acc: 0.7080, Best Val Loss: 1.2120\n",
            "\n",
            "Run: 2\n",
            "Using cuda, model: cuda:0, data: cuda:0\n"
          ]
        },
        {
          "output_type": "stream",
          "name": "stderr",
          "text": [
            "Training Epochs:  10%|█         | 104/1000 [00:01<00:11, 76.83it/s]\n"
          ]
        },
        {
          "output_type": "stream",
          "name": "stdout",
          "text": [
            "\n",
            "Training completed.\n",
            "Best Validation at Epoch: 5\n",
            "Best Val Acc: 0.6960, Best Val Loss: 1.2292\n",
            "\n",
            "Run: 3\n",
            "Using cuda, model: cuda:0, data: cuda:0\n"
          ]
        },
        {
          "output_type": "stream",
          "name": "stderr",
          "text": [
            "Training Epochs:  11%|█         | 109/1000 [00:01<00:13, 63.81it/s]\n"
          ]
        },
        {
          "output_type": "stream",
          "name": "stdout",
          "text": [
            "\n",
            "Training completed.\n",
            "Best Validation at Epoch: 10\n",
            "Best Val Acc: 0.6880, Best Val Loss: 0.9428\n",
            "\n",
            "Run: 4\n",
            "Using cuda, model: cuda:0, data: cuda:0\n"
          ]
        },
        {
          "output_type": "stream",
          "name": "stderr",
          "text": [
            "Training Epochs:  10%|█         | 104/1000 [00:01<00:15, 59.32it/s]\n"
          ]
        },
        {
          "output_type": "stream",
          "name": "stdout",
          "text": [
            "\n",
            "Training completed.\n",
            "Best Validation at Epoch: 5\n",
            "Best Val Acc: 0.6860, Best Val Loss: 1.1899\n",
            "\n",
            "Run: 5\n",
            "Using cuda, model: cuda:0, data: cuda:0\n"
          ]
        },
        {
          "output_type": "stream",
          "name": "stderr",
          "text": [
            "Training Epochs:  10%|█         | 104/1000 [00:01<00:13, 67.86it/s]\n"
          ]
        },
        {
          "output_type": "stream",
          "name": "stdout",
          "text": [
            "\n",
            "Training completed.\n",
            "Best Validation at Epoch: 5\n",
            "Best Val Acc: 0.7020, Best Val Loss: 1.1934\n",
            "\n",
            "Run: 6\n",
            "Using cuda, model: cuda:0, data: cuda:0\n"
          ]
        },
        {
          "output_type": "stream",
          "name": "stderr",
          "text": [
            "Training Epochs:  11%|█         | 107/1000 [00:01<00:11, 75.94it/s]\n"
          ]
        },
        {
          "output_type": "stream",
          "name": "stdout",
          "text": [
            "\n",
            "Training completed.\n",
            "Best Validation at Epoch: 8\n",
            "Best Val Acc: 0.6760, Best Val Loss: 1.0158\n",
            "\n",
            "Run: 7\n",
            "Using cuda, model: cuda:0, data: cuda:0\n"
          ]
        },
        {
          "output_type": "stream",
          "name": "stderr",
          "text": [
            "Training Epochs:  10%|█         | 105/1000 [00:01<00:11, 75.86it/s]\n"
          ]
        },
        {
          "output_type": "stream",
          "name": "stdout",
          "text": [
            "\n",
            "Training completed.\n",
            "Best Validation at Epoch: 6\n",
            "Best Val Acc: 0.6860, Best Val Loss: 1.1152\n",
            "\n",
            "Run: 8\n",
            "Using cuda, model: cuda:0, data: cuda:0\n"
          ]
        },
        {
          "output_type": "stream",
          "name": "stderr",
          "text": [
            "Training Epochs:  10%|█         | 104/1000 [00:01<00:11, 76.11it/s]\n"
          ]
        },
        {
          "output_type": "stream",
          "name": "stdout",
          "text": [
            "\n",
            "Training completed.\n",
            "Best Validation at Epoch: 5\n",
            "Best Val Acc: 0.7100, Best Val Loss: 1.1949\n",
            "\n",
            "Run: 9\n",
            "Using cuda, model: cuda:0, data: cuda:0\n"
          ]
        },
        {
          "output_type": "stream",
          "name": "stderr",
          "text": [
            "Training Epochs:  11%|█         | 106/1000 [00:01<00:11, 76.74it/s]\n"
          ]
        },
        {
          "output_type": "stream",
          "name": "stdout",
          "text": [
            "\n",
            "Training completed.\n",
            "Best Validation at Epoch: 7\n",
            "Best Val Acc: 0.6860, Best Val Loss: 1.0498\n",
            "\n",
            "Run: 10\n",
            "Using cuda, model: cuda:0, data: cuda:0\n"
          ]
        },
        {
          "output_type": "stream",
          "name": "stderr",
          "text": [
            "Training Epochs:  11%|█         | 107/1000 [00:01<00:11, 76.03it/s]"
          ]
        },
        {
          "output_type": "stream",
          "name": "stdout",
          "text": [
            "\n",
            "Training completed.\n",
            "Best Validation at Epoch: 8\n",
            "Best Val Acc: 0.6880, Best Val Loss: 1.0013\n",
            "\n",
            "Number of Runs: 10\n",
            "Average Accuracy: 0.6799, Std of Accuracy: 0.0086, Average Loss: 1.1229, Std of Loss: 0.0988\n"
          ]
        },
        {
          "output_type": "stream",
          "name": "stderr",
          "text": [
            "\n"
          ]
        }
      ]
    },
    {
      "cell_type": "code",
      "source": [
        "summarize(cora_models[0])\n",
        "summarize(cite_models[0])"
      ],
      "metadata": {
        "colab": {
          "base_uri": "https://localhost:8080/"
        },
        "id": "SWdqJZnpEWzK",
        "outputId": "ddd239c0-0996-4eb8-db37-fded00393e47"
      },
      "id": "SWdqJZnpEWzK",
      "execution_count": 231,
      "outputs": [
        {
          "output_type": "stream",
          "name": "stdout",
          "text": [
            "Model Summary: GAT1\n",
            "\n",
            "\n",
            "Total number of params: 96661\n",
            "Model Summary: GAT1\n",
            "\n",
            "\n",
            "Total number of params: 241874\n"
          ]
        }
      ]
    },
    {
      "cell_type": "code",
      "source": [
        "test_model(GAT2, \"cora\", cora_data.test_mask, num_runs=10)"
      ],
      "metadata": {
        "colab": {
          "base_uri": "https://localhost:8080/"
        },
        "id": "DxoLdKe5-_Lz",
        "outputId": "afbdd8db-9da7-420d-98e3-f7d516ea3964"
      },
      "id": "DxoLdKe5-_Lz",
      "execution_count": 232,
      "outputs": [
        {
          "output_type": "stream",
          "name": "stdout",
          "text": [
            "Run: 1\n",
            "Using cuda, model: cuda:0, data: cuda:0\n"
          ]
        },
        {
          "output_type": "stream",
          "name": "stderr",
          "text": [
            "Training Epochs:  25%|██▍       | 248/1000 [00:08<00:24, 30.65it/s]\n"
          ]
        },
        {
          "output_type": "stream",
          "name": "stdout",
          "text": [
            "\n",
            "Training completed.\n",
            "Best Validation at Epoch: 149\n",
            "Best Val Acc: 0.7620, Best Val Loss: 0.9221\n",
            "\n",
            "Run: 2\n",
            "Using cuda, model: cuda:0, data: cuda:0\n"
          ]
        },
        {
          "output_type": "stream",
          "name": "stderr",
          "text": [
            "Training Epochs:  11%|█         | 108/1000 [00:03<00:28, 31.73it/s]\n"
          ]
        },
        {
          "output_type": "stream",
          "name": "stdout",
          "text": [
            "\n",
            "Training completed.\n",
            "Best Validation at Epoch: 9\n",
            "Best Val Acc: 0.7880, Best Val Loss: 0.7028\n",
            "\n",
            "Run: 3\n",
            "Using cuda, model: cuda:0, data: cuda:0\n"
          ]
        },
        {
          "output_type": "stream",
          "name": "stderr",
          "text": [
            "Training Epochs:  15%|█▌        | 154/1000 [00:05<00:28, 29.94it/s]\n"
          ]
        },
        {
          "output_type": "stream",
          "name": "stdout",
          "text": [
            "\n",
            "Training completed.\n",
            "Best Validation at Epoch: 55\n",
            "Best Val Acc: 0.7760, Best Val Loss: 0.8518\n",
            "\n",
            "Run: 4\n",
            "Using cuda, model: cuda:0, data: cuda:0\n"
          ]
        },
        {
          "output_type": "stream",
          "name": "stderr",
          "text": [
            "Training Epochs:  11%|█▏        | 113/1000 [00:03<00:28, 31.35it/s]\n"
          ]
        },
        {
          "output_type": "stream",
          "name": "stdout",
          "text": [
            "\n",
            "Training completed.\n",
            "Best Validation at Epoch: 14\n",
            "Best Val Acc: 0.7960, Best Val Loss: 0.6928\n",
            "\n",
            "Run: 5\n",
            "Using cuda, model: cuda:0, data: cuda:0\n"
          ]
        },
        {
          "output_type": "stream",
          "name": "stderr",
          "text": [
            "Training Epochs:  15%|█▌        | 150/1000 [00:04<00:26, 31.83it/s]\n"
          ]
        },
        {
          "output_type": "stream",
          "name": "stdout",
          "text": [
            "\n",
            "Training completed.\n",
            "Best Validation at Epoch: 51\n",
            "Best Val Acc: 0.7760, Best Val Loss: 0.8251\n",
            "\n",
            "Run: 6\n",
            "Using cuda, model: cuda:0, data: cuda:0\n"
          ]
        },
        {
          "output_type": "stream",
          "name": "stderr",
          "text": [
            "Training Epochs:  14%|█▎        | 136/1000 [00:04<00:28, 30.47it/s]\n"
          ]
        },
        {
          "output_type": "stream",
          "name": "stdout",
          "text": [
            "\n",
            "Training completed.\n",
            "Best Validation at Epoch: 37\n",
            "Best Val Acc: 0.8020, Best Val Loss: 0.7381\n",
            "\n",
            "Run: 7\n",
            "Using cuda, model: cuda:0, data: cuda:0\n"
          ]
        },
        {
          "output_type": "stream",
          "name": "stderr",
          "text": [
            "Training Epochs:  12%|█▏        | 120/1000 [00:03<00:28, 30.92it/s]\n"
          ]
        },
        {
          "output_type": "stream",
          "name": "stdout",
          "text": [
            "\n",
            "Training completed.\n",
            "Best Validation at Epoch: 21\n",
            "Best Val Acc: 0.7740, Best Val Loss: 0.8171\n",
            "\n",
            "Run: 8\n",
            "Using cuda, model: cuda:0, data: cuda:0\n"
          ]
        },
        {
          "output_type": "stream",
          "name": "stderr",
          "text": [
            "Training Epochs:  16%|█▌        | 156/1000 [00:04<00:26, 31.95it/s]\n"
          ]
        },
        {
          "output_type": "stream",
          "name": "stdout",
          "text": [
            "\n",
            "Training completed.\n",
            "Best Validation at Epoch: 57\n",
            "Best Val Acc: 0.8220, Best Val Loss: 0.6685\n",
            "\n",
            "Run: 9\n",
            "Using cuda, model: cuda:0, data: cuda:0\n"
          ]
        },
        {
          "output_type": "stream",
          "name": "stderr",
          "text": [
            "Training Epochs:  12%|█▎        | 125/1000 [00:04<00:28, 31.21it/s]\n"
          ]
        },
        {
          "output_type": "stream",
          "name": "stdout",
          "text": [
            "\n",
            "Training completed.\n",
            "Best Validation at Epoch: 26\n",
            "Best Val Acc: 0.7960, Best Val Loss: 0.7377\n",
            "\n",
            "Run: 10\n",
            "Using cuda, model: cuda:0, data: cuda:0\n"
          ]
        },
        {
          "output_type": "stream",
          "name": "stderr",
          "text": [
            "Training Epochs:  12%|█▏        | 115/1000 [00:03<00:28, 30.70it/s]"
          ]
        },
        {
          "output_type": "stream",
          "name": "stdout",
          "text": [
            "\n",
            "Training completed.\n",
            "Best Validation at Epoch: 16\n",
            "Best Val Acc: 0.7920, Best Val Loss: 0.6677\n",
            "\n",
            "Number of Runs: 10\n",
            "Average Accuracy: 0.7923, Std of Accuracy: 0.0144, Average Loss: 0.9048, Std of Loss: 0.2676\n"
          ]
        },
        {
          "output_type": "stream",
          "name": "stderr",
          "text": [
            "\n"
          ]
        }
      ]
    },
    {
      "cell_type": "code",
      "source": [
        "test_model(GAT2, \"cite\", cite_data.test_mask, num_runs=10)"
      ],
      "metadata": {
        "colab": {
          "base_uri": "https://localhost:8080/"
        },
        "id": "uZv5t5xV_gtC",
        "outputId": "7123d0cd-ab82-4371-db71-6126f1c786be"
      },
      "id": "uZv5t5xV_gtC",
      "execution_count": 233,
      "outputs": [
        {
          "output_type": "stream",
          "name": "stdout",
          "text": [
            "Run: 1\n",
            "Using cuda, model: cuda:0, data: cuda:0\n"
          ]
        },
        {
          "output_type": "stream",
          "name": "stderr",
          "text": [
            "Training Epochs:  11%|█▏        | 113/1000 [00:05<00:39, 22.24it/s]\n"
          ]
        },
        {
          "output_type": "stream",
          "name": "stdout",
          "text": [
            "\n",
            "Training completed.\n",
            "Best Validation at Epoch: 14\n",
            "Best Val Acc: 0.7140, Best Val Loss: 0.8628\n",
            "\n",
            "Run: 2\n",
            "Using cuda, model: cuda:0, data: cuda:0\n"
          ]
        },
        {
          "output_type": "stream",
          "name": "stderr",
          "text": [
            "Training Epochs:  12%|█▏        | 118/1000 [00:05<00:38, 22.66it/s]\n"
          ]
        },
        {
          "output_type": "stream",
          "name": "stdout",
          "text": [
            "\n",
            "Training completed.\n",
            "Best Validation at Epoch: 19\n",
            "Best Val Acc: 0.7140, Best Val Loss: 1.0246\n",
            "\n",
            "Run: 3\n",
            "Using cuda, model: cuda:0, data: cuda:0\n"
          ]
        },
        {
          "output_type": "stream",
          "name": "stderr",
          "text": [
            "Training Epochs:  12%|█▏        | 119/1000 [00:05<00:40, 22.01it/s]\n"
          ]
        },
        {
          "output_type": "stream",
          "name": "stdout",
          "text": [
            "\n",
            "Training completed.\n",
            "Best Validation at Epoch: 20\n",
            "Best Val Acc: 0.6680, Best Val Loss: 1.1773\n",
            "\n",
            "Run: 4\n",
            "Using cuda, model: cuda:0, data: cuda:0\n"
          ]
        },
        {
          "output_type": "stream",
          "name": "stderr",
          "text": [
            "Training Epochs:  13%|█▎        | 131/1000 [00:05<00:38, 22.56it/s]\n"
          ]
        },
        {
          "output_type": "stream",
          "name": "stdout",
          "text": [
            "\n",
            "Training completed.\n",
            "Best Validation at Epoch: 32\n",
            "Best Val Acc: 0.6720, Best Val Loss: 1.1294\n",
            "\n",
            "Run: 5\n",
            "Using cuda, model: cuda:0, data: cuda:0\n"
          ]
        },
        {
          "output_type": "stream",
          "name": "stderr",
          "text": [
            "Training Epochs:  13%|█▎        | 131/1000 [00:05<00:39, 21.84it/s]\n"
          ]
        },
        {
          "output_type": "stream",
          "name": "stdout",
          "text": [
            "\n",
            "Training completed.\n",
            "Best Validation at Epoch: 32\n",
            "Best Val Acc: 0.6680, Best Val Loss: 1.0619\n",
            "\n",
            "Run: 6\n",
            "Using cuda, model: cuda:0, data: cuda:0\n"
          ]
        },
        {
          "output_type": "stream",
          "name": "stderr",
          "text": [
            "Training Epochs:  11%|█         | 110/1000 [00:04<00:39, 22.37it/s]\n"
          ]
        },
        {
          "output_type": "stream",
          "name": "stdout",
          "text": [
            "\n",
            "Training completed.\n",
            "Best Validation at Epoch: 11\n",
            "Best Val Acc: 0.7040, Best Val Loss: 1.0132\n",
            "\n",
            "Run: 7\n",
            "Using cuda, model: cuda:0, data: cuda:0\n"
          ]
        },
        {
          "output_type": "stream",
          "name": "stderr",
          "text": [
            "Training Epochs:  12%|█▏        | 123/1000 [00:05<00:39, 22.02it/s]\n"
          ]
        },
        {
          "output_type": "stream",
          "name": "stdout",
          "text": [
            "\n",
            "Training completed.\n",
            "Best Validation at Epoch: 24\n",
            "Best Val Acc: 0.6600, Best Val Loss: 1.0555\n",
            "\n",
            "Run: 8\n",
            "Using cuda, model: cuda:0, data: cuda:0\n"
          ]
        },
        {
          "output_type": "stream",
          "name": "stderr",
          "text": [
            "Training Epochs:  12%|█▏        | 115/1000 [00:05<00:41, 21.52it/s]\n"
          ]
        },
        {
          "output_type": "stream",
          "name": "stdout",
          "text": [
            "\n",
            "Training completed.\n",
            "Best Validation at Epoch: 16\n",
            "Best Val Acc: 0.6560, Best Val Loss: 1.0558\n",
            "\n",
            "Run: 9\n",
            "Using cuda, model: cuda:0, data: cuda:0\n"
          ]
        },
        {
          "output_type": "stream",
          "name": "stderr",
          "text": [
            "Training Epochs:  20%|██        | 202/1000 [00:09<00:35, 22.27it/s]\n"
          ]
        },
        {
          "output_type": "stream",
          "name": "stdout",
          "text": [
            "\n",
            "Training completed.\n",
            "Best Validation at Epoch: 103\n",
            "Best Val Acc: 0.6820, Best Val Loss: 1.1574\n",
            "\n",
            "Run: 10\n",
            "Using cuda, model: cuda:0, data: cuda:0\n"
          ]
        },
        {
          "output_type": "stream",
          "name": "stderr",
          "text": [
            "Training Epochs:  11%|█▏        | 113/1000 [00:05<00:40, 21.94it/s]\n"
          ]
        },
        {
          "output_type": "stream",
          "name": "stdout",
          "text": [
            "\n",
            "Training completed.\n",
            "Best Validation at Epoch: 14\n",
            "Best Val Acc: 0.6880, Best Val Loss: 0.9874\n",
            "\n",
            "Number of Runs: 10\n",
            "Average Accuracy: 0.6774, Std of Accuracy: 0.0129, Average Loss: 1.3398, Std of Loss: 0.3925\n"
          ]
        }
      ]
    },
    {
      "cell_type": "code",
      "source": [
        "test_model(GAT3, \"cora\", cora_data.test_mask, num_runs=10)"
      ],
      "metadata": {
        "colab": {
          "base_uri": "https://localhost:8080/"
        },
        "id": "YgGjAJnK_1AW",
        "outputId": "07545a30-7ee3-4e6a-ab65-a9c44ec452db"
      },
      "id": "YgGjAJnK_1AW",
      "execution_count": 234,
      "outputs": [
        {
          "output_type": "stream",
          "name": "stdout",
          "text": [
            "Run: 1\n",
            "Using cuda, model: cuda:0, data: cuda:0\n"
          ]
        },
        {
          "output_type": "stream",
          "name": "stderr",
          "text": [
            "Training Epochs:  15%|█▍        | 146/1000 [00:04<00:25, 34.14it/s]\n"
          ]
        },
        {
          "output_type": "stream",
          "name": "stdout",
          "text": [
            "\n",
            "Training completed.\n",
            "Best Validation at Epoch: 47\n",
            "Best Val Acc: 0.8100, Best Val Loss: 0.7617\n",
            "\n",
            "Run: 2\n",
            "Using cuda, model: cuda:0, data: cuda:0\n"
          ]
        },
        {
          "output_type": "stream",
          "name": "stderr",
          "text": [
            "Training Epochs:  11%|█▏        | 114/1000 [00:03<00:25, 34.78it/s]\n"
          ]
        },
        {
          "output_type": "stream",
          "name": "stdout",
          "text": [
            "\n",
            "Training completed.\n",
            "Best Validation at Epoch: 15\n",
            "Best Val Acc: 0.8080, Best Val Loss: 0.7144\n",
            "\n",
            "Run: 3\n",
            "Using cuda, model: cuda:0, data: cuda:0\n"
          ]
        },
        {
          "output_type": "stream",
          "name": "stderr",
          "text": [
            "Training Epochs:  12%|█▏        | 115/1000 [00:03<00:27, 32.26it/s]\n"
          ]
        },
        {
          "output_type": "stream",
          "name": "stdout",
          "text": [
            "\n",
            "Training completed.\n",
            "Best Validation at Epoch: 16\n",
            "Best Val Acc: 0.7980, Best Val Loss: 0.7439\n",
            "\n",
            "Run: 4\n",
            "Using cuda, model: cuda:0, data: cuda:0\n"
          ]
        },
        {
          "output_type": "stream",
          "name": "stderr",
          "text": [
            "Training Epochs:  19%|█▊        | 187/1000 [00:05<00:23, 34.64it/s]\n"
          ]
        },
        {
          "output_type": "stream",
          "name": "stdout",
          "text": [
            "\n",
            "Training completed.\n",
            "Best Validation at Epoch: 88\n",
            "Best Val Acc: 0.7940, Best Val Loss: 0.7181\n",
            "\n",
            "Run: 5\n",
            "Using cuda, model: cuda:0, data: cuda:0\n"
          ]
        },
        {
          "output_type": "stream",
          "name": "stderr",
          "text": [
            "Training Epochs:  13%|█▎        | 130/1000 [00:03<00:25, 34.38it/s]\n"
          ]
        },
        {
          "output_type": "stream",
          "name": "stdout",
          "text": [
            "\n",
            "Training completed.\n",
            "Best Validation at Epoch: 31\n",
            "Best Val Acc: 0.7760, Best Val Loss: 0.8024\n",
            "\n",
            "Run: 6\n",
            "Using cuda, model: cuda:0, data: cuda:0\n"
          ]
        },
        {
          "output_type": "stream",
          "name": "stderr",
          "text": [
            "Training Epochs:  11%|█         | 108/1000 [00:03<00:27, 32.47it/s]\n"
          ]
        },
        {
          "output_type": "stream",
          "name": "stdout",
          "text": [
            "\n",
            "Training completed.\n",
            "Best Validation at Epoch: 9\n",
            "Best Val Acc: 0.7980, Best Val Loss: 0.7070\n",
            "\n",
            "Run: 7\n",
            "Using cuda, model: cuda:0, data: cuda:0\n"
          ]
        },
        {
          "output_type": "stream",
          "name": "stderr",
          "text": [
            "Training Epochs:  12%|█▏        | 121/1000 [00:03<00:26, 33.26it/s]\n"
          ]
        },
        {
          "output_type": "stream",
          "name": "stdout",
          "text": [
            "\n",
            "Training completed.\n",
            "Best Validation at Epoch: 22\n",
            "Best Val Acc: 0.7840, Best Val Loss: 0.7546\n",
            "\n",
            "Run: 8\n",
            "Using cuda, model: cuda:0, data: cuda:0\n"
          ]
        },
        {
          "output_type": "stream",
          "name": "stderr",
          "text": [
            "Training Epochs:  13%|█▎        | 132/1000 [00:03<00:25, 34.23it/s]\n"
          ]
        },
        {
          "output_type": "stream",
          "name": "stdout",
          "text": [
            "\n",
            "Training completed.\n",
            "Best Validation at Epoch: 33\n",
            "Best Val Acc: 0.7840, Best Val Loss: 0.6495\n",
            "\n",
            "Run: 9\n",
            "Using cuda, model: cuda:0, data: cuda:0\n"
          ]
        },
        {
          "output_type": "stream",
          "name": "stderr",
          "text": [
            "Training Epochs:  11%|█         | 112/1000 [00:03<00:26, 34.12it/s]\n"
          ]
        },
        {
          "output_type": "stream",
          "name": "stdout",
          "text": [
            "\n",
            "Training completed.\n",
            "Best Validation at Epoch: 13\n",
            "Best Val Acc: 0.7900, Best Val Loss: 0.7214\n",
            "\n",
            "Run: 10\n",
            "Using cuda, model: cuda:0, data: cuda:0\n"
          ]
        },
        {
          "output_type": "stream",
          "name": "stderr",
          "text": [
            "Training Epochs:  11%|█         | 111/1000 [00:03<00:27, 32.25it/s]\n"
          ]
        },
        {
          "output_type": "stream",
          "name": "stdout",
          "text": [
            "\n",
            "Training completed.\n",
            "Best Validation at Epoch: 12\n",
            "Best Val Acc: 0.7860, Best Val Loss: 0.7661\n",
            "\n",
            "Number of Runs: 10\n",
            "Average Accuracy: 0.7969, Std of Accuracy: 0.0097, Average Loss: 0.8504, Std of Loss: 0.1993\n"
          ]
        }
      ]
    },
    {
      "cell_type": "code",
      "source": [
        "test_model(GAT3, \"cite\", cite_data.test_mask, num_runs=10)"
      ],
      "metadata": {
        "colab": {
          "base_uri": "https://localhost:8080/"
        },
        "id": "q9NI-ZZs_8cy",
        "outputId": "4bb81358-8ec8-41cd-a224-fe384caa7094"
      },
      "id": "q9NI-ZZs_8cy",
      "execution_count": 235,
      "outputs": [
        {
          "output_type": "stream",
          "name": "stdout",
          "text": [
            "Run: 1\n",
            "Using cuda, model: cuda:0, data: cuda:0\n"
          ]
        },
        {
          "output_type": "stream",
          "name": "stderr",
          "text": [
            "Training Epochs:  11%|█         | 109/1000 [00:04<00:36, 24.33it/s]\n"
          ]
        },
        {
          "output_type": "stream",
          "name": "stdout",
          "text": [
            "\n",
            "Training completed.\n",
            "Best Validation at Epoch: 10\n",
            "Best Val Acc: 0.6920, Best Val Loss: 1.0395\n",
            "\n",
            "Run: 2\n",
            "Using cuda, model: cuda:0, data: cuda:0\n"
          ]
        },
        {
          "output_type": "stream",
          "name": "stderr",
          "text": [
            "Training Epochs:  11%|█         | 107/1000 [00:04<00:36, 24.69it/s]\n"
          ]
        },
        {
          "output_type": "stream",
          "name": "stdout",
          "text": [
            "\n",
            "Training completed.\n",
            "Best Validation at Epoch: 8\n",
            "Best Val Acc: 0.6860, Best Val Loss: 0.9989\n",
            "\n",
            "Run: 3\n",
            "Using cuda, model: cuda:0, data: cuda:0\n"
          ]
        },
        {
          "output_type": "stream",
          "name": "stderr",
          "text": [
            "Training Epochs:  14%|█▍        | 139/1000 [00:05<00:35, 24.16it/s]\n"
          ]
        },
        {
          "output_type": "stream",
          "name": "stdout",
          "text": [
            "\n",
            "Training completed.\n",
            "Best Validation at Epoch: 40\n",
            "Best Val Acc: 0.6700, Best Val Loss: 1.1025\n",
            "\n",
            "Run: 4\n",
            "Using cuda, model: cuda:0, data: cuda:0\n"
          ]
        },
        {
          "output_type": "stream",
          "name": "stderr",
          "text": [
            "Training Epochs:  11%|█         | 108/1000 [00:04<00:36, 24.69it/s]\n"
          ]
        },
        {
          "output_type": "stream",
          "name": "stdout",
          "text": [
            "\n",
            "Training completed.\n",
            "Best Validation at Epoch: 9\n",
            "Best Val Acc: 0.6820, Best Val Loss: 1.0174\n",
            "\n",
            "Run: 5\n",
            "Using cuda, model: cuda:0, data: cuda:0\n"
          ]
        },
        {
          "output_type": "stream",
          "name": "stderr",
          "text": [
            "Training Epochs:  20%|█▉        | 195/1000 [00:08<00:33, 24.11it/s]\n"
          ]
        },
        {
          "output_type": "stream",
          "name": "stdout",
          "text": [
            "\n",
            "Training completed.\n",
            "Best Validation at Epoch: 96\n",
            "Best Val Acc: 0.6740, Best Val Loss: 1.2117\n",
            "\n",
            "Run: 6\n",
            "Using cuda, model: cuda:0, data: cuda:0\n"
          ]
        },
        {
          "output_type": "stream",
          "name": "stderr",
          "text": [
            "Training Epochs:  13%|█▎        | 126/1000 [00:05<00:35, 24.49it/s]\n"
          ]
        },
        {
          "output_type": "stream",
          "name": "stdout",
          "text": [
            "\n",
            "Training completed.\n",
            "Best Validation at Epoch: 27\n",
            "Best Val Acc: 0.6860, Best Val Loss: 1.0443\n",
            "\n",
            "Run: 7\n",
            "Using cuda, model: cuda:0, data: cuda:0\n"
          ]
        },
        {
          "output_type": "stream",
          "name": "stderr",
          "text": [
            "Training Epochs:  11%|█▏        | 113/1000 [00:04<00:36, 24.19it/s]\n"
          ]
        },
        {
          "output_type": "stream",
          "name": "stdout",
          "text": [
            "\n",
            "Training completed.\n",
            "Best Validation at Epoch: 14\n",
            "Best Val Acc: 0.6880, Best Val Loss: 1.0524\n",
            "\n",
            "Run: 8\n",
            "Using cuda, model: cuda:0, data: cuda:0\n"
          ]
        },
        {
          "output_type": "stream",
          "name": "stderr",
          "text": [
            "Training Epochs:  11%|█         | 107/1000 [00:04<00:37, 23.82it/s]\n"
          ]
        },
        {
          "output_type": "stream",
          "name": "stdout",
          "text": [
            "\n",
            "Training completed.\n",
            "Best Validation at Epoch: 8\n",
            "Best Val Acc: 0.6980, Best Val Loss: 1.0415\n",
            "\n",
            "Run: 9\n",
            "Using cuda, model: cuda:0, data: cuda:0\n"
          ]
        },
        {
          "output_type": "stream",
          "name": "stderr",
          "text": [
            "Training Epochs:  16%|█▋        | 164/1000 [00:06<00:33, 24.76it/s]\n"
          ]
        },
        {
          "output_type": "stream",
          "name": "stdout",
          "text": [
            "\n",
            "Training completed.\n",
            "Best Validation at Epoch: 65\n",
            "Best Val Acc: 0.6840, Best Val Loss: 1.0475\n",
            "\n",
            "Run: 10\n",
            "Using cuda, model: cuda:0, data: cuda:0\n"
          ]
        },
        {
          "output_type": "stream",
          "name": "stderr",
          "text": [
            "Training Epochs:  12%|█▏        | 115/1000 [00:04<00:37, 23.87it/s]"
          ]
        },
        {
          "output_type": "stream",
          "name": "stdout",
          "text": [
            "\n",
            "Training completed.\n",
            "Best Validation at Epoch: 16\n",
            "Best Val Acc: 0.6740, Best Val Loss: 1.0932\n",
            "\n",
            "Number of Runs: 10\n",
            "Average Accuracy: 0.6740, Std of Accuracy: 0.0151, Average Loss: 1.3815, Std of Loss: 0.4053\n"
          ]
        },
        {
          "output_type": "stream",
          "name": "stderr",
          "text": [
            "\n"
          ]
        }
      ]
    },
    {
      "cell_type": "code",
      "source": [
        "test_model(GAT4, \"cora\", cora_data.test_mask, num_runs=10)"
      ],
      "metadata": {
        "colab": {
          "base_uri": "https://localhost:8080/"
        },
        "id": "FcFhHRGcAgNU",
        "outputId": "3cf7ecb6-07a1-4af7-98c7-dc9fcb24c09b"
      },
      "id": "FcFhHRGcAgNU",
      "execution_count": 236,
      "outputs": [
        {
          "output_type": "stream",
          "name": "stdout",
          "text": [
            "Run: 1\n",
            "Using cuda, model: cuda:0, data: cuda:0\n"
          ]
        },
        {
          "output_type": "stream",
          "name": "stderr",
          "text": [
            "Training Epochs:  12%|█▎        | 125/1000 [00:01<00:09, 95.61it/s]\n"
          ]
        },
        {
          "output_type": "stream",
          "name": "stdout",
          "text": [
            "\n",
            "Training completed.\n",
            "Best Validation at Epoch: 26\n",
            "Best Val Acc: 0.7780, Best Val Loss: 0.7529\n",
            "\n",
            "Run: 2\n",
            "Using cuda, model: cuda:0, data: cuda:0\n"
          ]
        },
        {
          "output_type": "stream",
          "name": "stderr",
          "text": [
            "Training Epochs:  13%|█▎        | 127/1000 [00:01<00:11, 78.35it/s]\n"
          ]
        },
        {
          "output_type": "stream",
          "name": "stdout",
          "text": [
            "\n",
            "Training completed.\n",
            "Best Validation at Epoch: 28\n",
            "Best Val Acc: 0.7740, Best Val Loss: 0.7412\n",
            "\n",
            "Run: 3\n",
            "Using cuda, model: cuda:0, data: cuda:0\n"
          ]
        },
        {
          "output_type": "stream",
          "name": "stderr",
          "text": [
            "Training Epochs:  14%|█▍        | 141/1000 [00:01<00:11, 77.75it/s]\n"
          ]
        },
        {
          "output_type": "stream",
          "name": "stdout",
          "text": [
            "\n",
            "Training completed.\n",
            "Best Validation at Epoch: 42\n",
            "Best Val Acc: 0.7740, Best Val Loss: 0.7210\n",
            "\n",
            "Run: 4\n",
            "Using cuda, model: cuda:0, data: cuda:0\n"
          ]
        },
        {
          "output_type": "stream",
          "name": "stderr",
          "text": [
            "Training Epochs:  14%|█▍        | 142/1000 [00:01<00:08, 98.86it/s] \n"
          ]
        },
        {
          "output_type": "stream",
          "name": "stdout",
          "text": [
            "\n",
            "Training completed.\n",
            "Best Validation at Epoch: 43\n",
            "Best Val Acc: 0.7780, Best Val Loss: 0.7142\n",
            "\n",
            "Run: 5\n",
            "Using cuda, model: cuda:0, data: cuda:0\n"
          ]
        },
        {
          "output_type": "stream",
          "name": "stderr",
          "text": [
            "Training Epochs:  27%|██▋       | 267/1000 [00:02<00:07, 104.50it/s]\n"
          ]
        },
        {
          "output_type": "stream",
          "name": "stdout",
          "text": [
            "\n",
            "Training completed.\n",
            "Best Validation at Epoch: 168\n",
            "Best Val Acc: 0.7700, Best Val Loss: 0.7481\n",
            "\n",
            "Run: 6\n",
            "Using cuda, model: cuda:0, data: cuda:0\n"
          ]
        },
        {
          "output_type": "stream",
          "name": "stderr",
          "text": [
            "Training Epochs:  15%|█▌        | 154/1000 [00:01<00:08, 101.68it/s]\n"
          ]
        },
        {
          "output_type": "stream",
          "name": "stdout",
          "text": [
            "\n",
            "Training completed.\n",
            "Best Validation at Epoch: 55\n",
            "Best Val Acc: 0.7700, Best Val Loss: 0.7405\n",
            "\n",
            "Run: 7\n",
            "Using cuda, model: cuda:0, data: cuda:0\n"
          ]
        },
        {
          "output_type": "stream",
          "name": "stderr",
          "text": [
            "Training Epochs:  12%|█▏        | 116/1000 [00:01<00:08, 98.94it/s] \n"
          ]
        },
        {
          "output_type": "stream",
          "name": "stdout",
          "text": [
            "\n",
            "Training completed.\n",
            "Best Validation at Epoch: 17\n",
            "Best Val Acc: 0.7660, Best Val Loss: 0.7479\n",
            "\n",
            "Run: 8\n",
            "Using cuda, model: cuda:0, data: cuda:0\n"
          ]
        },
        {
          "output_type": "stream",
          "name": "stderr",
          "text": [
            "Training Epochs:  12%|█▏        | 118/1000 [00:01<00:08, 105.47it/s]\n"
          ]
        },
        {
          "output_type": "stream",
          "name": "stdout",
          "text": [
            "\n",
            "Training completed.\n",
            "Best Validation at Epoch: 19\n",
            "Best Val Acc: 0.7760, Best Val Loss: 0.6965\n",
            "\n",
            "Run: 9\n",
            "Using cuda, model: cuda:0, data: cuda:0\n"
          ]
        },
        {
          "output_type": "stream",
          "name": "stderr",
          "text": [
            "Training Epochs:  11%|█         | 109/1000 [00:01<00:08, 102.15it/s]\n"
          ]
        },
        {
          "output_type": "stream",
          "name": "stdout",
          "text": [
            "\n",
            "Training completed.\n",
            "Best Validation at Epoch: 10\n",
            "Best Val Acc: 0.7720, Best Val Loss: 0.9949\n",
            "\n",
            "Run: 10\n",
            "Using cuda, model: cuda:0, data: cuda:0\n"
          ]
        },
        {
          "output_type": "stream",
          "name": "stderr",
          "text": [
            "Training Epochs:  12%|█▏        | 119/1000 [00:01<00:08, 101.83it/s]"
          ]
        },
        {
          "output_type": "stream",
          "name": "stdout",
          "text": [
            "\n",
            "Training completed.\n",
            "Best Validation at Epoch: 20\n",
            "Best Val Acc: 0.7800, Best Val Loss: 0.6935\n",
            "\n",
            "Number of Runs: 10\n",
            "Average Accuracy: 0.7899, Std of Accuracy: 0.0047, Average Loss: 0.6821, Std of Loss: 0.1000\n"
          ]
        },
        {
          "output_type": "stream",
          "name": "stderr",
          "text": [
            "\n"
          ]
        }
      ]
    },
    {
      "cell_type": "code",
      "source": [
        "test_model(GAT4, \"cite\", cite_data.test_mask, num_runs=10)"
      ],
      "metadata": {
        "colab": {
          "base_uri": "https://localhost:8080/"
        },
        "id": "n0qSXll2AkT4",
        "outputId": "7ec6557b-2b3c-4105-d227-6b1d657a1eac"
      },
      "id": "n0qSXll2AkT4",
      "execution_count": 237,
      "outputs": [
        {
          "output_type": "stream",
          "name": "stdout",
          "text": [
            "Run: 1\n",
            "Using cuda, model: cuda:0, data: cuda:0\n"
          ]
        },
        {
          "output_type": "stream",
          "name": "stderr",
          "text": [
            "Training Epochs:  16%|█▋        | 163/1000 [00:02<00:10, 80.98it/s]\n"
          ]
        },
        {
          "output_type": "stream",
          "name": "stdout",
          "text": [
            "\n",
            "Training completed.\n",
            "Best Validation at Epoch: 64\n",
            "Best Val Acc: 0.6940, Best Val Loss: 0.9740\n",
            "\n",
            "Run: 2\n",
            "Using cuda, model: cuda:0, data: cuda:0\n"
          ]
        },
        {
          "output_type": "stream",
          "name": "stderr",
          "text": [
            "Training Epochs:  10%|█         | 104/1000 [00:01<00:10, 86.08it/s]\n"
          ]
        },
        {
          "output_type": "stream",
          "name": "stdout",
          "text": [
            "\n",
            "Training completed.\n",
            "Best Validation at Epoch: 5\n",
            "Best Val Acc: 0.6900, Best Val Loss: 1.3102\n",
            "\n",
            "Run: 3\n",
            "Using cuda, model: cuda:0, data: cuda:0\n"
          ]
        },
        {
          "output_type": "stream",
          "name": "stderr",
          "text": [
            "Training Epochs:  23%|██▎       | 226/1000 [00:02<00:09, 77.74it/s]\n"
          ]
        },
        {
          "output_type": "stream",
          "name": "stdout",
          "text": [
            "\n",
            "Training completed.\n",
            "Best Validation at Epoch: 127\n",
            "Best Val Acc: 0.6960, Best Val Loss: 0.9594\n",
            "\n",
            "Run: 4\n",
            "Using cuda, model: cuda:0, data: cuda:0\n"
          ]
        },
        {
          "output_type": "stream",
          "name": "stderr",
          "text": [
            "Training Epochs:  17%|█▋        | 171/1000 [00:02<00:11, 72.35it/s]\n"
          ]
        },
        {
          "output_type": "stream",
          "name": "stdout",
          "text": [
            "\n",
            "Training completed.\n",
            "Best Validation at Epoch: 72\n",
            "Best Val Acc: 0.6940, Best Val Loss: 0.9694\n",
            "\n",
            "Run: 5\n",
            "Using cuda, model: cuda:0, data: cuda:0\n"
          ]
        },
        {
          "output_type": "stream",
          "name": "stderr",
          "text": [
            "Training Epochs:  20%|██        | 201/1000 [00:02<00:09, 84.51it/s]\n"
          ]
        },
        {
          "output_type": "stream",
          "name": "stdout",
          "text": [
            "\n",
            "Training completed.\n",
            "Best Validation at Epoch: 102\n",
            "Best Val Acc: 0.7000, Best Val Loss: 0.9660\n",
            "\n",
            "Run: 6\n",
            "Using cuda, model: cuda:0, data: cuda:0\n"
          ]
        },
        {
          "output_type": "stream",
          "name": "stderr",
          "text": [
            "Training Epochs:  29%|██▉       | 289/1000 [00:03<00:08, 86.07it/s]\n"
          ]
        },
        {
          "output_type": "stream",
          "name": "stdout",
          "text": [
            "\n",
            "Training completed.\n",
            "Best Validation at Epoch: 190\n",
            "Best Val Acc: 0.6980, Best Val Loss: 0.9650\n",
            "\n",
            "Run: 7\n",
            "Using cuda, model: cuda:0, data: cuda:0\n"
          ]
        },
        {
          "output_type": "stream",
          "name": "stderr",
          "text": [
            "Training Epochs:  11%|█         | 106/1000 [00:01<00:10, 84.48it/s]\n"
          ]
        },
        {
          "output_type": "stream",
          "name": "stdout",
          "text": [
            "\n",
            "Training completed.\n",
            "Best Validation at Epoch: 7\n",
            "Best Val Acc: 0.7160, Best Val Loss: 1.1409\n",
            "\n",
            "Run: 8\n",
            "Using cuda, model: cuda:0, data: cuda:0\n"
          ]
        },
        {
          "output_type": "stream",
          "name": "stderr",
          "text": [
            "Training Epochs:  23%|██▎       | 229/1000 [00:02<00:09, 84.84it/s]\n"
          ]
        },
        {
          "output_type": "stream",
          "name": "stdout",
          "text": [
            "\n",
            "Training completed.\n",
            "Best Validation at Epoch: 130\n",
            "Best Val Acc: 0.7000, Best Val Loss: 0.9709\n",
            "\n",
            "Run: 9\n",
            "Using cuda, model: cuda:0, data: cuda:0\n"
          ]
        },
        {
          "output_type": "stream",
          "name": "stderr",
          "text": [
            "Training Epochs:  10%|█         | 105/1000 [00:01<00:12, 73.64it/s]\n"
          ]
        },
        {
          "output_type": "stream",
          "name": "stdout",
          "text": [
            "\n",
            "Training completed.\n",
            "Best Validation at Epoch: 6\n",
            "Best Val Acc: 0.6960, Best Val Loss: 1.2258\n",
            "\n",
            "Run: 10\n",
            "Using cuda, model: cuda:0, data: cuda:0\n"
          ]
        },
        {
          "output_type": "stream",
          "name": "stderr",
          "text": [
            "Training Epochs:  11%|█         | 112/1000 [00:01<00:12, 72.43it/s]\n"
          ]
        },
        {
          "output_type": "stream",
          "name": "stdout",
          "text": [
            "\n",
            "Training completed.\n",
            "Best Validation at Epoch: 13\n",
            "Best Val Acc: 0.6960, Best Val Loss: 1.0149\n",
            "\n",
            "Number of Runs: 10\n",
            "Average Accuracy: 0.6835, Std of Accuracy: 0.0082, Average Loss: 1.0380, Std of Loss: 0.1396\n"
          ]
        }
      ]
    },
    {
      "cell_type": "code",
      "source": [
        "test_model(GAT5, \"cora\", cora_data.test_mask, num_runs=10)"
      ],
      "metadata": {
        "colab": {
          "base_uri": "https://localhost:8080/"
        },
        "id": "e4zPAP9PA3Ip",
        "outputId": "e9a89e39-7c34-4094-d7dd-5af9deb02baa"
      },
      "id": "e4zPAP9PA3Ip",
      "execution_count": 238,
      "outputs": [
        {
          "output_type": "stream",
          "name": "stdout",
          "text": [
            "Run: 1\n",
            "Using cuda, model: cuda:0, data: cuda:0\n"
          ]
        },
        {
          "output_type": "stream",
          "name": "stderr",
          "text": [
            "Training Epochs:  12%|█▏        | 117/1000 [00:01<00:12, 72.82it/s]\n"
          ]
        },
        {
          "output_type": "stream",
          "name": "stdout",
          "text": [
            "\n",
            "Training completed.\n",
            "Best Validation at Epoch: 18\n",
            "Best Val Acc: 0.7960, Best Val Loss: 0.6336\n",
            "\n",
            "Run: 2\n",
            "Using cuda, model: cuda:0, data: cuda:0\n"
          ]
        },
        {
          "output_type": "stream",
          "name": "stderr",
          "text": [
            "Training Epochs:  11%|█         | 106/1000 [00:01<00:12, 73.76it/s]\n"
          ]
        },
        {
          "output_type": "stream",
          "name": "stdout",
          "text": [
            "\n",
            "Training completed.\n",
            "Best Validation at Epoch: 7\n",
            "Best Val Acc: 0.7860, Best Val Loss: 1.0722\n",
            "\n",
            "Run: 3\n",
            "Using cuda, model: cuda:0, data: cuda:0\n"
          ]
        },
        {
          "output_type": "stream",
          "name": "stderr",
          "text": [
            "Training Epochs:  11%|█         | 112/1000 [00:01<00:12, 72.15it/s]\n"
          ]
        },
        {
          "output_type": "stream",
          "name": "stdout",
          "text": [
            "\n",
            "Training completed.\n",
            "Best Validation at Epoch: 13\n",
            "Best Val Acc: 0.8000, Best Val Loss: 0.6631\n",
            "\n",
            "Run: 4\n",
            "Using cuda, model: cuda:0, data: cuda:0\n"
          ]
        },
        {
          "output_type": "stream",
          "name": "stderr",
          "text": [
            "Training Epochs:  11%|█         | 108/1000 [00:01<00:12, 74.25it/s]\n"
          ]
        },
        {
          "output_type": "stream",
          "name": "stdout",
          "text": [
            "\n",
            "Training completed.\n",
            "Best Validation at Epoch: 9\n",
            "Best Val Acc: 0.7700, Best Val Loss: 0.8681\n",
            "\n",
            "Run: 5\n",
            "Using cuda, model: cuda:0, data: cuda:0\n"
          ]
        },
        {
          "output_type": "stream",
          "name": "stderr",
          "text": [
            "Training Epochs:  11%|█▏        | 113/1000 [00:01<00:12, 72.26it/s]\n"
          ]
        },
        {
          "output_type": "stream",
          "name": "stdout",
          "text": [
            "\n",
            "Training completed.\n",
            "Best Validation at Epoch: 14\n",
            "Best Val Acc: 0.7940, Best Val Loss: 0.6563\n",
            "\n",
            "Run: 6\n",
            "Using cuda, model: cuda:0, data: cuda:0\n"
          ]
        },
        {
          "output_type": "stream",
          "name": "stderr",
          "text": [
            "Training Epochs:  11%|█         | 112/1000 [00:01<00:14, 62.41it/s]\n"
          ]
        },
        {
          "output_type": "stream",
          "name": "stdout",
          "text": [
            "\n",
            "Training completed.\n",
            "Best Validation at Epoch: 13\n",
            "Best Val Acc: 0.7920, Best Val Loss: 0.6827\n",
            "\n",
            "Run: 7\n",
            "Using cuda, model: cuda:0, data: cuda:0\n"
          ]
        },
        {
          "output_type": "stream",
          "name": "stderr",
          "text": [
            "Training Epochs:  11%|█         | 107/1000 [00:01<00:15, 55.81it/s]\n"
          ]
        },
        {
          "output_type": "stream",
          "name": "stdout",
          "text": [
            "\n",
            "Training completed.\n",
            "Best Validation at Epoch: 8\n",
            "Best Val Acc: 0.7620, Best Val Loss: 1.0123\n",
            "\n",
            "Run: 8\n",
            "Using cuda, model: cuda:0, data: cuda:0\n"
          ]
        },
        {
          "output_type": "stream",
          "name": "stderr",
          "text": [
            "Training Epochs:  17%|█▋        | 168/1000 [00:02<00:12, 65.62it/s]\n"
          ]
        },
        {
          "output_type": "stream",
          "name": "stdout",
          "text": [
            "\n",
            "Training completed.\n",
            "Best Validation at Epoch: 69\n",
            "Best Val Acc: 0.7940, Best Val Loss: 0.6561\n",
            "\n",
            "Run: 9\n",
            "Using cuda, model: cuda:0, data: cuda:0\n"
          ]
        },
        {
          "output_type": "stream",
          "name": "stderr",
          "text": [
            "Training Epochs:  11%|█         | 110/1000 [00:01<00:12, 71.97it/s]\n"
          ]
        },
        {
          "output_type": "stream",
          "name": "stdout",
          "text": [
            "\n",
            "Training completed.\n",
            "Best Validation at Epoch: 11\n",
            "Best Val Acc: 0.8080, Best Val Loss: 0.7437\n",
            "\n",
            "Run: 10\n",
            "Using cuda, model: cuda:0, data: cuda:0\n"
          ]
        },
        {
          "output_type": "stream",
          "name": "stderr",
          "text": [
            "Training Epochs:  13%|█▎        | 131/1000 [00:01<00:11, 73.41it/s]\n"
          ]
        },
        {
          "output_type": "stream",
          "name": "stdout",
          "text": [
            "\n",
            "Training completed.\n",
            "Best Validation at Epoch: 32\n",
            "Best Val Acc: 0.7760, Best Val Loss: 0.9737\n",
            "\n",
            "Number of Runs: 10\n",
            "Average Accuracy: 0.7984, Std of Accuracy: 0.0132, Average Loss: 0.7533, Std of Loss: 0.1671\n"
          ]
        }
      ]
    },
    {
      "cell_type": "code",
      "source": [
        "test_model(GAT5, \"cite\", cite_data.test_mask, num_runs=10)"
      ],
      "metadata": {
        "colab": {
          "base_uri": "https://localhost:8080/"
        },
        "id": "Ull6j_PTBB7V",
        "outputId": "2081af99-e113-4081-8b2d-fba620e77cfd"
      },
      "id": "Ull6j_PTBB7V",
      "execution_count": 239,
      "outputs": [
        {
          "output_type": "stream",
          "name": "stdout",
          "text": [
            "Run: 1\n",
            "Using cuda, model: cuda:0, data: cuda:0\n"
          ]
        },
        {
          "output_type": "stream",
          "name": "stderr",
          "text": [
            "Training Epochs:  11%|█         | 106/1000 [00:01<00:14, 63.68it/s]\n"
          ]
        },
        {
          "output_type": "stream",
          "name": "stdout",
          "text": [
            "\n",
            "Training completed.\n",
            "Best Validation at Epoch: 7\n",
            "Best Val Acc: 0.7160, Best Val Loss: 0.9849\n",
            "\n",
            "Run: 2\n",
            "Using cuda, model: cuda:0, data: cuda:0\n"
          ]
        },
        {
          "output_type": "stream",
          "name": "stderr",
          "text": [
            "Training Epochs:  10%|█         | 104/1000 [00:01<00:16, 52.88it/s]\n"
          ]
        },
        {
          "output_type": "stream",
          "name": "stdout",
          "text": [
            "\n",
            "Training completed.\n",
            "Best Validation at Epoch: 5\n",
            "Best Val Acc: 0.6940, Best Val Loss: 1.1836\n",
            "\n",
            "Run: 3\n",
            "Using cuda, model: cuda:0, data: cuda:0\n"
          ]
        },
        {
          "output_type": "stream",
          "name": "stderr",
          "text": [
            "Training Epochs:  11%|█         | 107/1000 [00:02<00:17, 51.37it/s]\n"
          ]
        },
        {
          "output_type": "stream",
          "name": "stdout",
          "text": [
            "\n",
            "Training completed.\n",
            "Best Validation at Epoch: 8\n",
            "Best Val Acc: 0.6780, Best Val Loss: 1.0134\n",
            "\n",
            "Run: 4\n",
            "Using cuda, model: cuda:0, data: cuda:0\n"
          ]
        },
        {
          "output_type": "stream",
          "name": "stderr",
          "text": [
            "Training Epochs:  10%|█         | 103/1000 [00:01<00:13, 66.90it/s]\n"
          ]
        },
        {
          "output_type": "stream",
          "name": "stdout",
          "text": [
            "\n",
            "Training completed.\n",
            "Best Validation at Epoch: 4\n",
            "Best Val Acc: 0.7060, Best Val Loss: 1.3012\n",
            "\n",
            "Run: 5\n",
            "Using cuda, model: cuda:0, data: cuda:0\n"
          ]
        },
        {
          "output_type": "stream",
          "name": "stderr",
          "text": [
            "Training Epochs:  10%|█         | 104/1000 [00:01<00:13, 67.39it/s]\n"
          ]
        },
        {
          "output_type": "stream",
          "name": "stdout",
          "text": [
            "\n",
            "Training completed.\n",
            "Best Validation at Epoch: 5\n",
            "Best Val Acc: 0.6760, Best Val Loss: 1.2051\n",
            "\n",
            "Run: 6\n",
            "Using cuda, model: cuda:0, data: cuda:0\n"
          ]
        },
        {
          "output_type": "stream",
          "name": "stderr",
          "text": [
            "Training Epochs:  11%|█         | 106/1000 [00:01<00:13, 68.50it/s]\n"
          ]
        },
        {
          "output_type": "stream",
          "name": "stdout",
          "text": [
            "\n",
            "Training completed.\n",
            "Best Validation at Epoch: 7\n",
            "Best Val Acc: 0.6900, Best Val Loss: 1.0367\n",
            "\n",
            "Run: 7\n",
            "Using cuda, model: cuda:0, data: cuda:0\n"
          ]
        },
        {
          "output_type": "stream",
          "name": "stderr",
          "text": [
            "Training Epochs:  10%|█         | 105/1000 [00:01<00:13, 67.97it/s]\n"
          ]
        },
        {
          "output_type": "stream",
          "name": "stdout",
          "text": [
            "\n",
            "Training completed.\n",
            "Best Validation at Epoch: 6\n",
            "Best Val Acc: 0.6760, Best Val Loss: 1.2042\n",
            "\n",
            "Run: 8\n",
            "Using cuda, model: cuda:0, data: cuda:0\n"
          ]
        },
        {
          "output_type": "stream",
          "name": "stderr",
          "text": [
            "Training Epochs:  10%|█         | 105/1000 [00:01<00:12, 69.20it/s]\n"
          ]
        },
        {
          "output_type": "stream",
          "name": "stdout",
          "text": [
            "\n",
            "Training completed.\n",
            "Best Validation at Epoch: 6\n",
            "Best Val Acc: 0.7000, Best Val Loss: 1.0767\n",
            "\n",
            "Run: 9\n",
            "Using cuda, model: cuda:0, data: cuda:0\n"
          ]
        },
        {
          "output_type": "stream",
          "name": "stderr",
          "text": [
            "Training Epochs:  11%|█         | 106/1000 [00:01<00:13, 68.35it/s]\n"
          ]
        },
        {
          "output_type": "stream",
          "name": "stdout",
          "text": [
            "\n",
            "Training completed.\n",
            "Best Validation at Epoch: 7\n",
            "Best Val Acc: 0.6980, Best Val Loss: 1.0129\n",
            "\n",
            "Run: 10\n",
            "Using cuda, model: cuda:0, data: cuda:0\n"
          ]
        },
        {
          "output_type": "stream",
          "name": "stderr",
          "text": [
            "Training Epochs:  10%|█         | 104/1000 [00:01<00:16, 55.88it/s]\n"
          ]
        },
        {
          "output_type": "stream",
          "name": "stdout",
          "text": [
            "\n",
            "Training completed.\n",
            "Best Validation at Epoch: 5\n",
            "Best Val Acc: 0.6880, Best Val Loss: 1.1843\n",
            "\n",
            "Number of Runs: 10\n",
            "Average Accuracy: 0.6788, Std of Accuracy: 0.0141, Average Loss: 1.1255, Std of Loss: 0.1076\n"
          ]
        }
      ]
    },
    {
      "cell_type": "code",
      "source": [
        "summarize(cora_models[0])\n",
        "summarize(cite_models[0])"
      ],
      "metadata": {
        "colab": {
          "base_uri": "https://localhost:8080/"
        },
        "id": "eEzNP4tHGVu2",
        "outputId": "562a7dc0-4bb6-46ca-81af-ba246d0e23c2"
      },
      "id": "eEzNP4tHGVu2",
      "execution_count": 240,
      "outputs": [
        {
          "output_type": "stream",
          "name": "stdout",
          "text": [
            "Model Summary: GAT5\n",
            "\n",
            "\n",
            "Total number of params: 109013\n",
            "Model Summary: GAT5\n",
            "\n",
            "\n",
            "Total number of params: 254226\n"
          ]
        }
      ]
    },
    {
      "cell_type": "code",
      "source": [
        "test_model(GAT6, \"cora\", cora_data.test_mask, num_runs=10)"
      ],
      "metadata": {
        "colab": {
          "base_uri": "https://localhost:8080/"
        },
        "id": "OqfxrFquA9XV",
        "outputId": "bc3c1f0f-0842-4752-c1a1-b01fac2da3e3"
      },
      "id": "OqfxrFquA9XV",
      "execution_count": 241,
      "outputs": [
        {
          "output_type": "stream",
          "name": "stdout",
          "text": [
            "Run: 1\n",
            "Using cuda, model: cuda:0, data: cuda:0\n"
          ]
        },
        {
          "output_type": "stream",
          "name": "stderr",
          "text": [
            "Training Epochs:  12%|█▏        | 115/1000 [00:01<00:11, 77.90it/s]\n"
          ]
        },
        {
          "output_type": "stream",
          "name": "stdout",
          "text": [
            "\n",
            "Training completed.\n",
            "Best Validation at Epoch: 16\n",
            "Best Val Acc: 0.8100, Best Val Loss: 0.6318\n",
            "\n",
            "Run: 2\n",
            "Using cuda, model: cuda:0, data: cuda:0\n"
          ]
        },
        {
          "output_type": "stream",
          "name": "stderr",
          "text": [
            "Training Epochs:  11%|█▏        | 113/1000 [00:01<00:11, 78.44it/s]\n"
          ]
        },
        {
          "output_type": "stream",
          "name": "stdout",
          "text": [
            "\n",
            "Training completed.\n",
            "Best Validation at Epoch: 14\n",
            "Best Val Acc: 0.8020, Best Val Loss: 0.6845\n",
            "\n",
            "Run: 3\n",
            "Using cuda, model: cuda:0, data: cuda:0\n"
          ]
        },
        {
          "output_type": "stream",
          "name": "stderr",
          "text": [
            "Training Epochs:  11%|█         | 112/1000 [00:01<00:11, 80.12it/s]\n"
          ]
        },
        {
          "output_type": "stream",
          "name": "stdout",
          "text": [
            "\n",
            "Training completed.\n",
            "Best Validation at Epoch: 13\n",
            "Best Val Acc: 0.8100, Best Val Loss: 0.7370\n",
            "\n",
            "Run: 4\n",
            "Using cuda, model: cuda:0, data: cuda:0\n"
          ]
        },
        {
          "output_type": "stream",
          "name": "stderr",
          "text": [
            "Training Epochs:  12%|█▏        | 120/1000 [00:01<00:14, 61.96it/s]\n"
          ]
        },
        {
          "output_type": "stream",
          "name": "stdout",
          "text": [
            "\n",
            "Training completed.\n",
            "Best Validation at Epoch: 21\n",
            "Best Val Acc: 0.8000, Best Val Loss: 0.7014\n",
            "\n",
            "Run: 5\n",
            "Using cuda, model: cuda:0, data: cuda:0\n"
          ]
        },
        {
          "output_type": "stream",
          "name": "stderr",
          "text": [
            "Training Epochs:  12%|█▏        | 118/1000 [00:01<00:14, 59.62it/s]\n"
          ]
        },
        {
          "output_type": "stream",
          "name": "stdout",
          "text": [
            "\n",
            "Training completed.\n",
            "Best Validation at Epoch: 19\n",
            "Best Val Acc: 0.8060, Best Val Loss: 0.6468\n",
            "\n",
            "Run: 6\n",
            "Using cuda, model: cuda:0, data: cuda:0\n"
          ]
        },
        {
          "output_type": "stream",
          "name": "stderr",
          "text": [
            "Training Epochs:  12%|█▏        | 116/1000 [00:01<00:11, 77.17it/s]\n"
          ]
        },
        {
          "output_type": "stream",
          "name": "stdout",
          "text": [
            "\n",
            "Training completed.\n",
            "Best Validation at Epoch: 17\n",
            "Best Val Acc: 0.7940, Best Val Loss: 0.6862\n",
            "\n",
            "Run: 7\n",
            "Using cuda, model: cuda:0, data: cuda:0\n"
          ]
        },
        {
          "output_type": "stream",
          "name": "stderr",
          "text": [
            "Training Epochs:  11%|█         | 112/1000 [00:01<00:11, 78.09it/s]\n"
          ]
        },
        {
          "output_type": "stream",
          "name": "stdout",
          "text": [
            "\n",
            "Training completed.\n",
            "Best Validation at Epoch: 13\n",
            "Best Val Acc: 0.8080, Best Val Loss: 0.7439\n",
            "\n",
            "Run: 8\n",
            "Using cuda, model: cuda:0, data: cuda:0\n"
          ]
        },
        {
          "output_type": "stream",
          "name": "stderr",
          "text": [
            "Training Epochs:  11%|█         | 112/1000 [00:01<00:11, 78.50it/s]\n"
          ]
        },
        {
          "output_type": "stream",
          "name": "stdout",
          "text": [
            "\n",
            "Training completed.\n",
            "Best Validation at Epoch: 13\n",
            "Best Val Acc: 0.8080, Best Val Loss: 0.7444\n",
            "\n",
            "Run: 9\n",
            "Using cuda, model: cuda:0, data: cuda:0\n"
          ]
        },
        {
          "output_type": "stream",
          "name": "stderr",
          "text": [
            "Training Epochs:  12%|█▏        | 117/1000 [00:01<00:11, 79.37it/s]\n"
          ]
        },
        {
          "output_type": "stream",
          "name": "stdout",
          "text": [
            "\n",
            "Training completed.\n",
            "Best Validation at Epoch: 18\n",
            "Best Val Acc: 0.8000, Best Val Loss: 0.6308\n",
            "\n",
            "Run: 10\n",
            "Using cuda, model: cuda:0, data: cuda:0\n"
          ]
        },
        {
          "output_type": "stream",
          "name": "stderr",
          "text": [
            "Training Epochs:  11%|█▏        | 114/1000 [00:01<00:11, 79.82it/s]"
          ]
        },
        {
          "output_type": "stream",
          "name": "stdout",
          "text": [
            "\n",
            "Training completed.\n",
            "Best Validation at Epoch: 15\n",
            "Best Val Acc: 0.7880, Best Val Loss: 0.6952\n",
            "\n",
            "Number of Runs: 10\n",
            "Average Accuracy: 0.8091, Std of Accuracy: 0.0096, Average Loss: 0.6252, Std of Loss: 0.0598\n"
          ]
        },
        {
          "output_type": "stream",
          "name": "stderr",
          "text": [
            "\n"
          ]
        }
      ]
    },
    {
      "cell_type": "code",
      "source": [
        "test_model(GAT6, \"cite\", cite_data.test_mask, num_runs=10)"
      ],
      "metadata": {
        "colab": {
          "base_uri": "https://localhost:8080/"
        },
        "id": "wi0yGcTiBE9B",
        "outputId": "d8418cd0-82ec-4007-e60f-c2fa62a047bf"
      },
      "id": "wi0yGcTiBE9B",
      "execution_count": 242,
      "outputs": [
        {
          "output_type": "stream",
          "name": "stdout",
          "text": [
            "Run: 1\n",
            "Using cuda, model: cuda:0, data: cuda:0\n"
          ]
        },
        {
          "output_type": "stream",
          "name": "stderr",
          "text": [
            "Training Epochs:  11%|█         | 110/1000 [00:01<00:12, 73.44it/s]\n"
          ]
        },
        {
          "output_type": "stream",
          "name": "stdout",
          "text": [
            "\n",
            "Training completed.\n",
            "Best Validation at Epoch: 11\n",
            "Best Val Acc: 0.6960, Best Val Loss: 0.9252\n",
            "\n",
            "Run: 2\n",
            "Using cuda, model: cuda:0, data: cuda:0\n"
          ]
        },
        {
          "output_type": "stream",
          "name": "stderr",
          "text": [
            "Training Epochs:  11%|█         | 108/1000 [00:01<00:12, 70.90it/s]\n"
          ]
        },
        {
          "output_type": "stream",
          "name": "stdout",
          "text": [
            "\n",
            "Training completed.\n",
            "Best Validation at Epoch: 9\n",
            "Best Val Acc: 0.6880, Best Val Loss: 1.0749\n",
            "\n",
            "Run: 3\n",
            "Using cuda, model: cuda:0, data: cuda:0\n"
          ]
        },
        {
          "output_type": "stream",
          "name": "stderr",
          "text": [
            "Training Epochs:  11%|█         | 108/1000 [00:01<00:14, 60.12it/s]\n"
          ]
        },
        {
          "output_type": "stream",
          "name": "stdout",
          "text": [
            "\n",
            "Training completed.\n",
            "Best Validation at Epoch: 9\n",
            "Best Val Acc: 0.6980, Best Val Loss: 1.0393\n",
            "\n",
            "Run: 4\n",
            "Using cuda, model: cuda:0, data: cuda:0\n"
          ]
        },
        {
          "output_type": "stream",
          "name": "stderr",
          "text": [
            "Training Epochs:  11%|█         | 106/1000 [00:01<00:15, 57.11it/s]\n"
          ]
        },
        {
          "output_type": "stream",
          "name": "stdout",
          "text": [
            "\n",
            "Training completed.\n",
            "Best Validation at Epoch: 7\n",
            "Best Val Acc: 0.7160, Best Val Loss: 1.2456\n",
            "\n",
            "Run: 5\n",
            "Using cuda, model: cuda:0, data: cuda:0\n"
          ]
        },
        {
          "output_type": "stream",
          "name": "stderr",
          "text": [
            "Training Epochs:  11%|█         | 106/1000 [00:01<00:13, 66.88it/s]\n"
          ]
        },
        {
          "output_type": "stream",
          "name": "stdout",
          "text": [
            "\n",
            "Training completed.\n",
            "Best Validation at Epoch: 7\n",
            "Best Val Acc: 0.7040, Best Val Loss: 1.2063\n",
            "\n",
            "Run: 6\n",
            "Using cuda, model: cuda:0, data: cuda:0\n"
          ]
        },
        {
          "output_type": "stream",
          "name": "stderr",
          "text": [
            "Training Epochs:  11%|█         | 108/1000 [00:01<00:14, 62.31it/s]\n"
          ]
        },
        {
          "output_type": "stream",
          "name": "stdout",
          "text": [
            "\n",
            "Training completed.\n",
            "Best Validation at Epoch: 9\n",
            "Best Val Acc: 0.7160, Best Val Loss: 1.0215\n",
            "\n",
            "Run: 7\n",
            "Using cuda, model: cuda:0, data: cuda:0\n"
          ]
        },
        {
          "output_type": "stream",
          "name": "stderr",
          "text": [
            "Training Epochs:  11%|█         | 106/1000 [00:02<00:22, 39.50it/s]\n"
          ]
        },
        {
          "output_type": "stream",
          "name": "stdout",
          "text": [
            "\n",
            "Training completed.\n",
            "Best Validation at Epoch: 7\n",
            "Best Val Acc: 0.7060, Best Val Loss: 1.1807\n",
            "\n",
            "Run: 8\n",
            "Using cuda, model: cuda:0, data: cuda:0\n"
          ]
        },
        {
          "output_type": "stream",
          "name": "stderr",
          "text": [
            "Training Epochs:  11%|█         | 107/1000 [00:02<00:21, 40.71it/s]\n"
          ]
        },
        {
          "output_type": "stream",
          "name": "stdout",
          "text": [
            "\n",
            "Training completed.\n",
            "Best Validation at Epoch: 8\n",
            "Best Val Acc: 0.7100, Best Val Loss: 1.1069\n",
            "\n",
            "Run: 9\n",
            "Using cuda, model: cuda:0, data: cuda:0\n"
          ]
        },
        {
          "output_type": "stream",
          "name": "stderr",
          "text": [
            "Training Epochs:  10%|█         | 105/1000 [00:01<00:12, 70.64it/s]\n"
          ]
        },
        {
          "output_type": "stream",
          "name": "stdout",
          "text": [
            "\n",
            "Training completed.\n",
            "Best Validation at Epoch: 6\n",
            "Best Val Acc: 0.7140, Best Val Loss: 1.2615\n",
            "\n",
            "Run: 10\n",
            "Using cuda, model: cuda:0, data: cuda:0\n"
          ]
        },
        {
          "output_type": "stream",
          "name": "stderr",
          "text": [
            "Training Epochs:  11%|█         | 109/1000 [00:01<00:15, 59.34it/s]\n"
          ]
        },
        {
          "output_type": "stream",
          "name": "stdout",
          "text": [
            "\n",
            "Training completed.\n",
            "Best Validation at Epoch: 10\n",
            "Best Val Acc: 0.7100, Best Val Loss: 0.9591\n",
            "\n",
            "Number of Runs: 10\n",
            "Average Accuracy: 0.6871, Std of Accuracy: 0.0107, Average Loss: 1.1138, Std of Loss: 0.1150\n"
          ]
        }
      ]
    },
    {
      "cell_type": "code",
      "source": [
        "test_model(GAT7, \"cora\", cora_data.test_mask, num_runs=10)"
      ],
      "metadata": {
        "colab": {
          "base_uri": "https://localhost:8080/"
        },
        "id": "pQwED_3lA_KN",
        "outputId": "f3c18de7-c5b0-4bbb-8b65-a66d5fe0d4ca"
      },
      "id": "pQwED_3lA_KN",
      "execution_count": 243,
      "outputs": [
        {
          "output_type": "stream",
          "name": "stdout",
          "text": [
            "Run: 1\n",
            "Using cuda, model: cuda:0, data: cuda:0\n"
          ]
        },
        {
          "output_type": "stream",
          "name": "stderr",
          "text": [
            "Training Epochs:  22%|██▏       | 217/1000 [00:02<00:10, 75.05it/s]\n"
          ]
        },
        {
          "output_type": "stream",
          "name": "stdout",
          "text": [
            "\n",
            "Training completed.\n",
            "Best Validation at Epoch: 118\n",
            "Best Val Acc: 0.7920, Best Val Loss: 0.7282\n",
            "\n",
            "Run: 2\n",
            "Using cuda, model: cuda:0, data: cuda:0\n"
          ]
        },
        {
          "output_type": "stream",
          "name": "stderr",
          "text": [
            "Training Epochs:  19%|█▉        | 188/1000 [00:03<00:13, 59.96it/s]\n"
          ]
        },
        {
          "output_type": "stream",
          "name": "stdout",
          "text": [
            "\n",
            "Training completed.\n",
            "Best Validation at Epoch: 89\n",
            "Best Val Acc: 0.7820, Best Val Loss: 0.8156\n",
            "\n",
            "Run: 3\n",
            "Using cuda, model: cuda:0, data: cuda:0\n"
          ]
        },
        {
          "output_type": "stream",
          "name": "stderr",
          "text": [
            "Training Epochs:  12%|█▎        | 125/1000 [00:01<00:13, 63.14it/s]\n"
          ]
        },
        {
          "output_type": "stream",
          "name": "stdout",
          "text": [
            "\n",
            "Training completed.\n",
            "Best Validation at Epoch: 26\n",
            "Best Val Acc: 0.7720, Best Val Loss: 0.8262\n",
            "\n",
            "Run: 4\n",
            "Using cuda, model: cuda:0, data: cuda:0\n"
          ]
        },
        {
          "output_type": "stream",
          "name": "stderr",
          "text": [
            "Training Epochs:  11%|█         | 106/1000 [00:01<00:11, 75.10it/s]\n"
          ]
        },
        {
          "output_type": "stream",
          "name": "stdout",
          "text": [
            "\n",
            "Training completed.\n",
            "Best Validation at Epoch: 7\n",
            "Best Val Acc: 0.7880, Best Val Loss: 1.0738\n",
            "\n",
            "Run: 5\n",
            "Using cuda, model: cuda:0, data: cuda:0\n"
          ]
        },
        {
          "output_type": "stream",
          "name": "stderr",
          "text": [
            "Training Epochs:  11%|█         | 110/1000 [00:01<00:11, 75.56it/s]\n"
          ]
        },
        {
          "output_type": "stream",
          "name": "stdout",
          "text": [
            "\n",
            "Training completed.\n",
            "Best Validation at Epoch: 11\n",
            "Best Val Acc: 0.7860, Best Val Loss: 0.6931\n",
            "\n",
            "Run: 6\n",
            "Using cuda, model: cuda:0, data: cuda:0\n"
          ]
        },
        {
          "output_type": "stream",
          "name": "stderr",
          "text": [
            "Training Epochs:  30%|██▉       | 299/1000 [00:03<00:09, 76.83it/s]\n"
          ]
        },
        {
          "output_type": "stream",
          "name": "stdout",
          "text": [
            "\n",
            "Training completed.\n",
            "Best Validation at Epoch: 200\n",
            "Best Val Acc: 0.8080, Best Val Loss: 0.7263\n",
            "\n",
            "Run: 7\n",
            "Using cuda, model: cuda:0, data: cuda:0\n"
          ]
        },
        {
          "output_type": "stream",
          "name": "stderr",
          "text": [
            "Training Epochs:  11%|█         | 108/1000 [00:01<00:12, 73.98it/s]\n"
          ]
        },
        {
          "output_type": "stream",
          "name": "stdout",
          "text": [
            "\n",
            "Training completed.\n",
            "Best Validation at Epoch: 9\n",
            "Best Val Acc: 0.7820, Best Val Loss: 0.8131\n",
            "\n",
            "Run: 8\n",
            "Using cuda, model: cuda:0, data: cuda:0\n"
          ]
        },
        {
          "output_type": "stream",
          "name": "stderr",
          "text": [
            "Training Epochs:  24%|██▍       | 244/1000 [00:04<00:13, 57.31it/s]\n"
          ]
        },
        {
          "output_type": "stream",
          "name": "stdout",
          "text": [
            "\n",
            "Training completed.\n",
            "Best Validation at Epoch: 145\n",
            "Best Val Acc: 0.8000, Best Val Loss: 0.6701\n",
            "\n",
            "Run: 9\n",
            "Using cuda, model: cuda:0, data: cuda:0\n"
          ]
        },
        {
          "output_type": "stream",
          "name": "stderr",
          "text": [
            "Training Epochs:  12%|█▏        | 121/1000 [00:02<00:15, 57.66it/s]\n"
          ]
        },
        {
          "output_type": "stream",
          "name": "stdout",
          "text": [
            "\n",
            "Training completed.\n",
            "Best Validation at Epoch: 22\n",
            "Best Val Acc: 0.7840, Best Val Loss: 1.0049\n",
            "\n",
            "Run: 10\n",
            "Using cuda, model: cuda:0, data: cuda:0\n"
          ]
        },
        {
          "output_type": "stream",
          "name": "stderr",
          "text": [
            "Training Epochs:  21%|██        | 206/1000 [00:02<00:10, 75.96it/s]\n"
          ]
        },
        {
          "output_type": "stream",
          "name": "stdout",
          "text": [
            "\n",
            "Training completed.\n",
            "Best Validation at Epoch: 107\n",
            "Best Val Acc: 0.7960, Best Val Loss: 0.8180\n",
            "\n",
            "Number of Runs: 10\n",
            "Average Accuracy: 0.8001, Std of Accuracy: 0.0133, Average Loss: 0.7661, Std of Loss: 0.1573\n"
          ]
        }
      ]
    },
    {
      "cell_type": "code",
      "source": [
        "test_model(GAT7, \"cite\", cite_data.test_mask, num_runs=10)"
      ],
      "metadata": {
        "colab": {
          "base_uri": "https://localhost:8080/"
        },
        "id": "vzwvdStIBHVS",
        "outputId": "64b7fd59-120f-49c6-9001-823ce1209203"
      },
      "id": "vzwvdStIBHVS",
      "execution_count": 244,
      "outputs": [
        {
          "output_type": "stream",
          "name": "stdout",
          "text": [
            "Run: 1\n",
            "Using cuda, model: cuda:0, data: cuda:0\n"
          ]
        },
        {
          "output_type": "stream",
          "name": "stderr",
          "text": [
            "Training Epochs:  16%|█▋        | 164/1000 [00:02<00:13, 62.26it/s]\n"
          ]
        },
        {
          "output_type": "stream",
          "name": "stdout",
          "text": [
            "\n",
            "Training completed.\n",
            "Best Validation at Epoch: 65\n",
            "Best Val Acc: 0.7040, Best Val Loss: 0.9592\n",
            "\n",
            "Run: 2\n",
            "Using cuda, model: cuda:0, data: cuda:0\n"
          ]
        },
        {
          "output_type": "stream",
          "name": "stderr",
          "text": [
            "Training Epochs:  22%|██▎       | 225/1000 [00:03<00:12, 59.93it/s]\n"
          ]
        },
        {
          "output_type": "stream",
          "name": "stdout",
          "text": [
            "\n",
            "Training completed.\n",
            "Best Validation at Epoch: 126\n",
            "Best Val Acc: 0.6880, Best Val Loss: 0.9748\n",
            "\n",
            "Run: 3\n",
            "Using cuda, model: cuda:0, data: cuda:0\n"
          ]
        },
        {
          "output_type": "stream",
          "name": "stderr",
          "text": [
            "Training Epochs:  10%|█         | 104/1000 [00:01<00:12, 73.28it/s]\n"
          ]
        },
        {
          "output_type": "stream",
          "name": "stdout",
          "text": [
            "\n",
            "Training completed.\n",
            "Best Validation at Epoch: 5\n",
            "Best Val Acc: 0.7020, Best Val Loss: 1.2107\n",
            "\n",
            "Run: 4\n",
            "Using cuda, model: cuda:0, data: cuda:0\n"
          ]
        },
        {
          "output_type": "stream",
          "name": "stderr",
          "text": [
            "Training Epochs:  10%|█         | 105/1000 [00:01<00:12, 72.66it/s]\n"
          ]
        },
        {
          "output_type": "stream",
          "name": "stdout",
          "text": [
            "\n",
            "Training completed.\n",
            "Best Validation at Epoch: 6\n",
            "Best Val Acc: 0.7000, Best Val Loss: 1.0658\n",
            "\n",
            "Run: 5\n",
            "Using cuda, model: cuda:0, data: cuda:0\n"
          ]
        },
        {
          "output_type": "stream",
          "name": "stderr",
          "text": [
            "Training Epochs:  19%|█▉        | 193/1000 [00:02<00:11, 73.11it/s]\n"
          ]
        },
        {
          "output_type": "stream",
          "name": "stdout",
          "text": [
            "\n",
            "Training completed.\n",
            "Best Validation at Epoch: 94\n",
            "Best Val Acc: 0.7000, Best Val Loss: 1.0357\n",
            "\n",
            "Run: 6\n",
            "Using cuda, model: cuda:0, data: cuda:0\n"
          ]
        },
        {
          "output_type": "stream",
          "name": "stderr",
          "text": [
            "Training Epochs:  23%|██▎       | 233/1000 [00:03<00:10, 73.60it/s]\n"
          ]
        },
        {
          "output_type": "stream",
          "name": "stdout",
          "text": [
            "\n",
            "Training completed.\n",
            "Best Validation at Epoch: 134\n",
            "Best Val Acc: 0.7060, Best Val Loss: 0.9905\n",
            "\n",
            "Run: 7\n",
            "Using cuda, model: cuda:0, data: cuda:0\n"
          ]
        },
        {
          "output_type": "stream",
          "name": "stderr",
          "text": [
            "Training Epochs:  15%|█▌        | 151/1000 [00:02<00:15, 55.51it/s]\n"
          ]
        },
        {
          "output_type": "stream",
          "name": "stdout",
          "text": [
            "\n",
            "Training completed.\n",
            "Best Validation at Epoch: 52\n",
            "Best Val Acc: 0.6900, Best Val Loss: 1.1452\n",
            "\n",
            "Run: 8\n",
            "Using cuda, model: cuda:0, data: cuda:0\n"
          ]
        },
        {
          "output_type": "stream",
          "name": "stderr",
          "text": [
            "Training Epochs:  16%|█▌        | 161/1000 [00:02<00:13, 63.31it/s]\n"
          ]
        },
        {
          "output_type": "stream",
          "name": "stdout",
          "text": [
            "\n",
            "Training completed.\n",
            "Best Validation at Epoch: 62\n",
            "Best Val Acc: 0.6960, Best Val Loss: 1.0807\n",
            "\n",
            "Run: 9\n",
            "Using cuda, model: cuda:0, data: cuda:0\n"
          ]
        },
        {
          "output_type": "stream",
          "name": "stderr",
          "text": [
            "Training Epochs:  10%|█         | 104/1000 [00:01<00:12, 73.54it/s]\n"
          ]
        },
        {
          "output_type": "stream",
          "name": "stdout",
          "text": [
            "\n",
            "Training completed.\n",
            "Best Validation at Epoch: 5\n",
            "Best Val Acc: 0.7160, Best Val Loss: 1.2474\n",
            "\n",
            "Run: 10\n",
            "Using cuda, model: cuda:0, data: cuda:0\n"
          ]
        },
        {
          "output_type": "stream",
          "name": "stderr",
          "text": [
            "Training Epochs:  11%|█         | 106/1000 [00:01<00:12, 71.38it/s]"
          ]
        },
        {
          "output_type": "stream",
          "name": "stdout",
          "text": [
            "\n",
            "Training completed.\n",
            "Best Validation at Epoch: 7\n",
            "Best Val Acc: 0.7120, Best Val Loss: 1.0326\n",
            "\n",
            "Number of Runs: 10\n",
            "Average Accuracy: 0.6875, Std of Accuracy: 0.0079, Average Loss: 1.1818, Std of Loss: 0.1483\n"
          ]
        },
        {
          "output_type": "stream",
          "name": "stderr",
          "text": [
            "\n"
          ]
        }
      ]
    },
    {
      "cell_type": "code",
      "source": [
        "summarize(cora_models[0])\n",
        "summarize(cite_models[0])"
      ],
      "metadata": {
        "colab": {
          "base_uri": "https://localhost:8080/"
        },
        "id": "f1GhOR-_Gvil",
        "outputId": "8810210b-8820-487a-9578-a14d73b40143"
      },
      "id": "f1GhOR-_Gvil",
      "execution_count": 245,
      "outputs": [
        {
          "output_type": "stream",
          "name": "stdout",
          "text": [
            "Model Summary: GAT7\n",
            "\n",
            "\n",
            "Total number of params: 395119\n",
            "Model Summary: GAT7\n",
            "\n",
            "\n",
            "Total number of params: 974614\n"
          ]
        }
      ]
    }
  ],
  "metadata": {
    "kernelspec": {
      "display_name": "g1",
      "language": "python",
      "name": "g1"
    },
    "language_info": {
      "codemirror_mode": {
        "name": "ipython",
        "version": 3
      },
      "file_extension": ".py",
      "mimetype": "text/x-python",
      "name": "python",
      "nbconvert_exporter": "python",
      "pygments_lexer": "ipython3",
      "version": "3.11.5"
    },
    "colab": {
      "provenance": [],
      "gpuType": "T4"
    },
    "accelerator": "GPU"
  },
  "nbformat": 4,
  "nbformat_minor": 5
}